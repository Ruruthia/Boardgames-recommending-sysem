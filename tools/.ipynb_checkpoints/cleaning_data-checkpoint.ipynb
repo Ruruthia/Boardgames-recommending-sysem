{
 "cells": [
  {
   "cell_type": "code",
   "execution_count": 1,
   "id": "deadly-sarah",
   "metadata": {},
   "outputs": [],
   "source": [
    "import pandas as pd\n",
    "import seaborn as sns\n",
    "import matplotlib.pyplot as plt\n",
    "import numpy as np\n",
    "from IPython.display import clear_output"
   ]
  },
  {
   "cell_type": "markdown",
   "id": "asian-hybrid",
   "metadata": {},
   "source": [
    "# Dropping irrelevant data"
   ]
  },
  {
   "cell_type": "code",
   "execution_count": 2,
   "id": "offensive-documentary",
   "metadata": {},
   "outputs": [
    {
     "name": "stdout",
     "output_type": "stream",
     "text": [
      "41\n"
     ]
    }
   ],
   "source": [
    "batch_size = 1000000\n",
    "n_iter = 0\n",
    "slim_ratings_df = pd.DataFrame()\n",
    "with open('../data/bgg_RatingItem.jl') as f:\n",
    "    batch = pd.read_json(f, lines=True, nrows=batch_size)\n",
    "    while(not batch.empty):\n",
    "        clear_output()\n",
    "        print(n_iter)\n",
    "        slim_ratings_df = slim_ratings_df.append(batch[['bgg_id', 'bgg_user_name', 'bgg_user_rating', 'bgg_user_owned']])\n",
    "        batch = pd.read_json(f, lines=True, nrows=batch_size)\n",
    "        n_iter += 1"
   ]
  },
  {
   "cell_type": "code",
   "execution_count": 5,
   "id": "progressive-laptop",
   "metadata": {},
   "outputs": [],
   "source": [
    "indices = np.any((slim_ratings_df['bgg_user_rating'].notna(), slim_ratings_df['bgg_user_owned']==1), axis=0)"
   ]
  },
  {
   "cell_type": "code",
   "execution_count": 6,
   "id": "fossil-andrews",
   "metadata": {},
   "outputs": [],
   "source": [
    "slim_ratings_df = slim_ratings_df.loc[indices]"
   ]
  },
  {
   "cell_type": "code",
   "execution_count": 7,
   "id": "potential-skill",
   "metadata": {},
   "outputs": [],
   "source": [
    "slim_ratings_df.to_csv('../data/ratings_all.csv.gz', compression='gzip', index=False)"
   ]
  },
  {
   "cell_type": "markdown",
   "id": "improving-phoenix",
   "metadata": {},
   "source": [
    "# Cleaning data"
   ]
  },
  {
   "cell_type": "code",
   "execution_count": 8,
   "id": "passing-compromise",
   "metadata": {},
   "outputs": [],
   "source": [
    "ratings_df = pd.read_csv('../data/ratings_all.csv.gz', compression='gzip')"
   ]
  },
  {
   "cell_type": "code",
   "execution_count": 9,
   "id": "recreational-asset",
   "metadata": {},
   "outputs": [
    {
     "data": {
      "text/html": [
       "<div>\n",
       "<style scoped>\n",
       "    .dataframe tbody tr th:only-of-type {\n",
       "        vertical-align: middle;\n",
       "    }\n",
       "\n",
       "    .dataframe tbody tr th {\n",
       "        vertical-align: top;\n",
       "    }\n",
       "\n",
       "    .dataframe thead th {\n",
       "        text-align: right;\n",
       "    }\n",
       "</style>\n",
       "<table border=\"1\" class=\"dataframe\">\n",
       "  <thead>\n",
       "    <tr style=\"text-align: right;\">\n",
       "      <th></th>\n",
       "      <th>bgg_id</th>\n",
       "      <th>bgg_user_name</th>\n",
       "      <th>bgg_user_rating</th>\n",
       "      <th>bgg_user_owned</th>\n",
       "    </tr>\n",
       "  </thead>\n",
       "  <tbody>\n",
       "    <tr>\n",
       "      <th>0</th>\n",
       "      <td>13</td>\n",
       "      <td>beastvol</td>\n",
       "      <td>8.0</td>\n",
       "      <td>1.0</td>\n",
       "    </tr>\n",
       "    <tr>\n",
       "      <th>1</th>\n",
       "      <td>118</td>\n",
       "      <td>beastvol</td>\n",
       "      <td>7.0</td>\n",
       "      <td>1.0</td>\n",
       "    </tr>\n",
       "    <tr>\n",
       "      <th>2</th>\n",
       "      <td>278</td>\n",
       "      <td>beastvol</td>\n",
       "      <td>7.0</td>\n",
       "      <td>1.0</td>\n",
       "    </tr>\n",
       "    <tr>\n",
       "      <th>3</th>\n",
       "      <td>823</td>\n",
       "      <td>beastvol</td>\n",
       "      <td>6.0</td>\n",
       "      <td>1.0</td>\n",
       "    </tr>\n",
       "    <tr>\n",
       "      <th>4</th>\n",
       "      <td>3076</td>\n",
       "      <td>beastvol</td>\n",
       "      <td>9.0</td>\n",
       "      <td>1.0</td>\n",
       "    </tr>\n",
       "    <tr>\n",
       "      <th>...</th>\n",
       "      <td>...</td>\n",
       "      <td>...</td>\n",
       "      <td>...</td>\n",
       "      <td>...</td>\n",
       "    </tr>\n",
       "    <tr>\n",
       "      <th>29334075</th>\n",
       "      <td>2399</td>\n",
       "      <td>æleksandr þræð</td>\n",
       "      <td>7.0</td>\n",
       "      <td>1.0</td>\n",
       "    </tr>\n",
       "    <tr>\n",
       "      <th>29334076</th>\n",
       "      <td>2932</td>\n",
       "      <td>æleksandr þræð</td>\n",
       "      <td>6.0</td>\n",
       "      <td>1.0</td>\n",
       "    </tr>\n",
       "    <tr>\n",
       "      <th>29334077</th>\n",
       "      <td>5451</td>\n",
       "      <td>æleksandr þræð</td>\n",
       "      <td>8.0</td>\n",
       "      <td>1.0</td>\n",
       "    </tr>\n",
       "    <tr>\n",
       "      <th>29334078</th>\n",
       "      <td>5554</td>\n",
       "      <td>æleksandr þræð</td>\n",
       "      <td>7.0</td>\n",
       "      <td>0.0</td>\n",
       "    </tr>\n",
       "    <tr>\n",
       "      <th>29334079</th>\n",
       "      <td>9962</td>\n",
       "      <td>æleksandr þræð</td>\n",
       "      <td>8.0</td>\n",
       "      <td>1.0</td>\n",
       "    </tr>\n",
       "  </tbody>\n",
       "</table>\n",
       "<p>29334080 rows × 4 columns</p>\n",
       "</div>"
      ],
      "text/plain": [
       "          bgg_id   bgg_user_name  bgg_user_rating  bgg_user_owned\n",
       "0             13        beastvol              8.0             1.0\n",
       "1            118        beastvol              7.0             1.0\n",
       "2            278        beastvol              7.0             1.0\n",
       "3            823        beastvol              6.0             1.0\n",
       "4           3076        beastvol              9.0             1.0\n",
       "...          ...             ...              ...             ...\n",
       "29334075    2399  æleksandr þræð              7.0             1.0\n",
       "29334076    2932  æleksandr þræð              6.0             1.0\n",
       "29334077    5451  æleksandr þræð              8.0             1.0\n",
       "29334078    5554  æleksandr þræð              7.0             0.0\n",
       "29334079    9962  æleksandr þræð              8.0             1.0\n",
       "\n",
       "[29334080 rows x 4 columns]"
      ]
     },
     "execution_count": 9,
     "metadata": {},
     "output_type": "execute_result"
    }
   ],
   "source": [
    "ratings_df"
   ]
  },
  {
   "cell_type": "code",
   "execution_count": 10,
   "id": "located-paste",
   "metadata": {},
   "outputs": [],
   "source": [
    "cleaned_df = []\n",
    "for user, game_df in ratings_df.groupby(by='bgg_id'):\n",
    "    if game_df.shape[0] < 1000:\n",
    "        continue\n",
    "    cleaned_df.append(game_df[:])\n",
    "ratings_df = pd.concat(cleaned_df)"
   ]
  },
  {
   "cell_type": "code",
   "execution_count": 12,
   "id": "conditional-inclusion",
   "metadata": {},
   "outputs": [
    {
     "data": {
      "text/plain": [
       "(23783521, 4)"
      ]
     },
     "execution_count": 12,
     "metadata": {},
     "output_type": "execute_result"
    }
   ],
   "source": [
    "ratings_df.shape"
   ]
  },
  {
   "cell_type": "code",
   "execution_count": 13,
   "id": "cubic-democracy",
   "metadata": {},
   "outputs": [],
   "source": [
    "cleaned_df = []\n",
    "for user, user_df in ratings_df.groupby(by='bgg_user_name'):\n",
    "    if user_df.shape[0] < 10:\n",
    "        continue\n",
    "    cleaned_df.append(user_df[:])\n",
    "ratings_df = pd.concat(cleaned_df)"
   ]
  },
  {
   "cell_type": "code",
   "execution_count": 14,
   "id": "played-globe",
   "metadata": {},
   "outputs": [
    {
     "data": {
      "text/plain": [
       "(23415250, 4)"
      ]
     },
     "execution_count": 14,
     "metadata": {},
     "output_type": "execute_result"
    }
   ],
   "source": [
    "ratings_df.shape"
   ]
  },
  {
   "cell_type": "code",
   "execution_count": 15,
   "id": "specific-criticism",
   "metadata": {},
   "outputs": [],
   "source": [
    "ratings_df.to_csv('../data/ratings.csv.gz', compression='gzip', index=False)"
   ]
  },
  {
   "cell_type": "code",
   "execution_count": 16,
   "id": "regular-recruitment",
   "metadata": {},
   "outputs": [
    {
     "data": {
      "text/plain": [
       "(4433,)"
      ]
     },
     "execution_count": 16,
     "metadata": {},
     "output_type": "execute_result"
    }
   ],
   "source": [
    "ratings_df['bgg_id'].value_counts().shape"
   ]
  }
 ],
 "metadata": {
  "kernelspec": {
   "display_name": "Python 3",
   "language": "python",
   "name": "python3"
  },
  "language_info": {
   "codemirror_mode": {
    "name": "ipython",
    "version": 3
   },
   "file_extension": ".py",
   "mimetype": "text/x-python",
   "name": "python",
   "nbconvert_exporter": "python",
   "pygments_lexer": "ipython3",
   "version": "3.8.6"
  }
 },
 "nbformat": 4,
 "nbformat_minor": 5
}
