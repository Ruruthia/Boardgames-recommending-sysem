{
 "cells": [
  {
   "cell_type": "markdown",
   "metadata": {
    "colab_type": "text",
    "id": "view-in-github"
   },
   "source": [
    "<a href=\"https://colab.research.google.com/github/Ruruthia/Boardgames-recommending-system/blob/master/Tests.ipynb\" target=\"_parent\"><img src=\"https://colab.research.google.com/assets/colab-badge.svg\" alt=\"Open In Colab\"/></a>"
   ]
  },
  {
   "cell_type": "markdown",
   "metadata": {
    "id": "A_LeQBJAdcf8"
   },
   "source": [
    "# Imports"
   ]
  },
  {
   "cell_type": "code",
   "execution_count": 1,
   "metadata": {
    "id": "AfWg2nFadcf-"
   },
   "outputs": [],
   "source": [
    "from __future__ import (absolute_import, division, print_function,\n",
    "                        unicode_literals)\n",
    "import pickle\n",
    "import os\n",
    "\n",
    "import pandas as pd\n",
    "import numpy as np\n",
    "\n",
    "from surprise import SVD\n",
    "from surprise import NMF\n",
    "from surprise import SlopeOne\n",
    "from surprise import Reader\n",
    "from surprise.dataset import DatasetAutoFolds\n",
    "\n",
    "from tqdm.auto import tqdm\n",
    "\n",
    "from time import time"
   ]
  },
  {
   "cell_type": "code",
   "execution_count": 2,
   "metadata": {},
   "outputs": [],
   "source": [
    "from tools import testing"
   ]
  },
  {
   "cell_type": "markdown",
   "metadata": {
    "id": "pCHlMBUy6NZo"
   },
   "source": [
    "# Preparing dataset"
   ]
  },
  {
   "cell_type": "code",
   "execution_count": 3,
   "metadata": {
    "id": "EodQLoqSdcf-"
   },
   "outputs": [],
   "source": [
    "ratings_df = pd.read_csv('./data/ratings.csv.gz', compression='gzip')[['bgg_user_name', 'bgg_id', 'bgg_user_rating']].dropna(how='any')"
   ]
  },
  {
   "cell_type": "code",
   "execution_count": 4,
   "metadata": {},
   "outputs": [
    {
     "data": {
      "text/html": [
       "<div>\n",
       "<style scoped>\n",
       "    .dataframe tbody tr th:only-of-type {\n",
       "        vertical-align: middle;\n",
       "    }\n",
       "\n",
       "    .dataframe tbody tr th {\n",
       "        vertical-align: top;\n",
       "    }\n",
       "\n",
       "    .dataframe thead th {\n",
       "        text-align: right;\n",
       "    }\n",
       "</style>\n",
       "<table border=\"1\" class=\"dataframe\">\n",
       "  <thead>\n",
       "    <tr style=\"text-align: right;\">\n",
       "      <th></th>\n",
       "      <th>bgg_user_name</th>\n",
       "      <th>bgg_id</th>\n",
       "      <th>bgg_user_rating</th>\n",
       "    </tr>\n",
       "  </thead>\n",
       "  <tbody>\n",
       "    <tr>\n",
       "      <th>0</th>\n",
       "      <td>mycroft</td>\n",
       "      <td>5</td>\n",
       "      <td>8.0</td>\n",
       "    </tr>\n",
       "    <tr>\n",
       "      <th>1</th>\n",
       "      <td>mycroft</td>\n",
       "      <td>13</td>\n",
       "      <td>9.0</td>\n",
       "    </tr>\n",
       "    <tr>\n",
       "      <th>8</th>\n",
       "      <td>mycroft</td>\n",
       "      <td>278</td>\n",
       "      <td>6.5</td>\n",
       "    </tr>\n",
       "    <tr>\n",
       "      <th>13</th>\n",
       "      <td>mycroft</td>\n",
       "      <td>823</td>\n",
       "      <td>7.0</td>\n",
       "    </tr>\n",
       "    <tr>\n",
       "      <th>25</th>\n",
       "      <td>mycroft</td>\n",
       "      <td>3284</td>\n",
       "      <td>4.0</td>\n",
       "    </tr>\n",
       "    <tr>\n",
       "      <th>...</th>\n",
       "      <td>...</td>\n",
       "      <td>...</td>\n",
       "      <td>...</td>\n",
       "    </tr>\n",
       "    <tr>\n",
       "      <th>22855491</th>\n",
       "      <td>æleksandr þræð</td>\n",
       "      <td>2223</td>\n",
       "      <td>8.0</td>\n",
       "    </tr>\n",
       "    <tr>\n",
       "      <th>22855492</th>\n",
       "      <td>æleksandr þræð</td>\n",
       "      <td>2399</td>\n",
       "      <td>7.0</td>\n",
       "    </tr>\n",
       "    <tr>\n",
       "      <th>22855493</th>\n",
       "      <td>æleksandr þræð</td>\n",
       "      <td>2932</td>\n",
       "      <td>6.0</td>\n",
       "    </tr>\n",
       "    <tr>\n",
       "      <th>22855494</th>\n",
       "      <td>æleksandr þræð</td>\n",
       "      <td>5451</td>\n",
       "      <td>8.0</td>\n",
       "    </tr>\n",
       "    <tr>\n",
       "      <th>22855495</th>\n",
       "      <td>æleksandr þræð</td>\n",
       "      <td>9962</td>\n",
       "      <td>8.0</td>\n",
       "    </tr>\n",
       "  </tbody>\n",
       "</table>\n",
       "<p>14623677 rows × 3 columns</p>\n",
       "</div>"
      ],
      "text/plain": [
       "           bgg_user_name  bgg_id  bgg_user_rating\n",
       "0                mycroft       5              8.0\n",
       "1                mycroft      13              9.0\n",
       "8                mycroft     278              6.5\n",
       "13               mycroft     823              7.0\n",
       "25               mycroft    3284              4.0\n",
       "...                  ...     ...              ...\n",
       "22855491  æleksandr þræð    2223              8.0\n",
       "22855492  æleksandr þræð    2399              7.0\n",
       "22855493  æleksandr þræð    2932              6.0\n",
       "22855494  æleksandr þræð    5451              8.0\n",
       "22855495  æleksandr þræð    9962              8.0\n",
       "\n",
       "[14623677 rows x 3 columns]"
      ]
     },
     "execution_count": 4,
     "metadata": {},
     "output_type": "execute_result"
    }
   ],
   "source": [
    "ratings_df"
   ]
  },
  {
   "cell_type": "code",
   "execution_count": 5,
   "metadata": {
    "id": "6Zi_hzB6dcf_"
   },
   "outputs": [],
   "source": [
    "ratings_df = ratings_df[ratings_df['bgg_user_rating']>=1]"
   ]
  },
  {
   "cell_type": "code",
   "execution_count": 6,
   "metadata": {},
   "outputs": [],
   "source": [
    "train_df, test_df = testing.split_ratings_dataset(ratings_df, seed=42)"
   ]
  },
  {
   "cell_type": "code",
   "execution_count": 7,
   "metadata": {
    "id": "F9rLrIE7JYaZ"
   },
   "outputs": [],
   "source": [
    "test_known, test_unknown = testing.split_testing_set(test_df, seed=42)"
   ]
  },
  {
   "cell_type": "code",
   "execution_count": 8,
   "metadata": {},
   "outputs": [],
   "source": [
    "games_df = pd.read_json('./data/bgg_GameItem.jl', lines = True)"
   ]
  },
  {
   "cell_type": "code",
   "execution_count": 9,
   "metadata": {},
   "outputs": [],
   "source": [
    "def get_errors(model, test_df):\n",
    "    errors = []\n",
    "    for _, rating in test_df.iterrows():\n",
    "        est = model.predict(uid=rating['bgg_user_name'], iid=rating['bgg_id'])[3]\n",
    "        err = est - rating['bgg_user_rating']\n",
    "        errors.append(err)\n",
    "    return np.array(errors)\n",
    "\n",
    "\n",
    "def MSE(errors):\n",
    "    return np.mean(errors**2)\n",
    "\n",
    "\n",
    "def RMSE(errors):\n",
    "    return np.sqrt(MSE(errors))\n"
   ]
  },
  {
   "cell_type": "code",
   "execution_count": 10,
   "metadata": {},
   "outputs": [],
   "source": [
    "def get_top_n(model, trainset, n=20, it=None):\n",
    "    top_n = []\n",
    "    if it == None:\n",
    "        it = range(trainset.n_users)\n",
    "    for u in tqdm(it):\n",
    "        user_items = np.array(trainset.ur[u], dtype=int)[:, 0]\n",
    "        items = np.setdiff1d(np.arange(trainset.n_items), user_items, assume_unique=True)\n",
    "        user_anti_testset = [(trainset.to_raw_uid(u), trainset.to_raw_iid(i), 0) for\n",
    "                             i in items]\n",
    "        predictions = model.test(user_anti_testset)\n",
    "        users_top_n = []\n",
    "        for uid, iid, _, est, _ in predictions:\n",
    "            users_top_n.append((uid, iid, est))\n",
    "        users_top_n.sort(key=lambda x: x[2], reverse=True)\n",
    "        \n",
    "        top_n += users_top_n[:n]\n",
    "        \n",
    "    top_n_df = pd.DataFrame(top_n)\n",
    "    top_n_df.columns = ['bgg_user_name', 'bgg_id', 'estimate']\n",
    "    \n",
    "    return top_n_df"
   ]
  },
  {
   "cell_type": "code",
   "execution_count": 11,
   "metadata": {
    "id": "MuhoAR16dcf_"
   },
   "outputs": [],
   "source": [
    "reader = Reader(rating_scale=(1,10))\n",
    "trainset = DatasetAutoFolds.load_from_df(train_df.append(test_known), reader).build_full_trainset()"
   ]
  },
  {
   "cell_type": "markdown",
   "metadata": {
    "id": "7bKvzart6QVS"
   },
   "source": [
    "# Tests"
   ]
  },
  {
   "cell_type": "markdown",
   "metadata": {
    "id": "GzYJlcPm6ToE"
   },
   "source": [
    "## SVD"
   ]
  },
  {
   "cell_type": "code",
   "execution_count": 12,
   "metadata": {
    "id": "w06kSHNKdcgA"
   },
   "outputs": [],
   "source": [
    "algo = SVD()"
   ]
  },
  {
   "cell_type": "code",
   "execution_count": 13,
   "metadata": {
    "colab": {
     "base_uri": "https://localhost:8080/"
    },
    "id": "lmj6QRW68A3h",
    "outputId": "2d67100c-dd8d-4fd9-fb76-b24f6cea3981"
   },
   "outputs": [
    {
     "data": {
      "text/plain": [
       "<surprise.prediction_algorithms.matrix_factorization.SVD at 0x7fb919f4a0d0>"
      ]
     },
     "execution_count": 13,
     "metadata": {},
     "output_type": "execute_result"
    }
   ],
   "source": [
    "algo.fit(trainset)"
   ]
  },
  {
   "cell_type": "markdown",
   "metadata": {},
   "source": [
    "### Errors on test set"
   ]
  },
  {
   "cell_type": "code",
   "execution_count": 14,
   "metadata": {
    "id": "UYCqueEKWH76"
   },
   "outputs": [],
   "source": [
    "errors = get_errors(algo, test_unknown)"
   ]
  },
  {
   "cell_type": "code",
   "execution_count": 15,
   "metadata": {
    "colab": {
     "base_uri": "https://localhost:8080/"
    },
    "id": "O4Oloy1CXcgf",
    "outputId": "5fbd162f-a0e2-49bc-c387-239e5906e93f"
   },
   "outputs": [
    {
     "name": "stdout",
     "output_type": "stream",
     "text": [
      "1.402414273730857\n",
      "1.184235734020409\n"
     ]
    }
   ],
   "source": [
    "print(MSE(errors))\n",
    "print(RMSE(errors))"
   ]
  },
  {
   "cell_type": "markdown",
   "metadata": {},
   "source": [
    "### Coverage / diversity"
   ]
  },
  {
   "cell_type": "code",
   "execution_count": 19,
   "metadata": {},
   "outputs": [
    {
     "data": {
      "application/vnd.jupyter.widget-view+json": {
       "model_id": "",
       "version_major": 2,
       "version_minor": 0
      },
      "text/plain": [
       "  0%|          | 0/24304 [00:00<?, ?it/s]"
      ]
     },
     "metadata": {},
     "output_type": "display_data"
    }
   ],
   "source": [
    "top_10_df = get_top_n(algo, trainset, n=10, it=range(0, trainset.n_users//10))"
   ]
  },
  {
   "cell_type": "code",
   "execution_count": 29,
   "metadata": {},
   "outputs": [],
   "source": [
    "top_10_df.to_csv('./data/svd_top_10.csv', header=True, index=False)"
   ]
  },
  {
   "cell_type": "code",
   "execution_count": 14,
   "metadata": {},
   "outputs": [
    {
     "data": {
      "text/plain": [
       "1594"
      ]
     },
     "execution_count": 14,
     "metadata": {},
     "output_type": "execute_result"
    }
   ],
   "source": [
    "testing.coverage(top_10_df)"
   ]
  },
  {
   "cell_type": "code",
   "execution_count": 15,
   "metadata": {},
   "outputs": [
    {
     "data": {
      "text/plain": [
       "{'category': 19.997819289005925, 'mechanic': 41.60479756418697}"
      ]
     },
     "execution_count": 15,
     "metadata": {},
     "output_type": "execute_result"
    }
   ],
   "source": [
    "testing.diversity(top_10_df, games_df)"
   ]
  },
  {
   "cell_type": "markdown",
   "metadata": {
    "id": "QCEXfEBr7d_o"
   },
   "source": [
    "# NMF"
   ]
  },
  {
   "cell_type": "code",
   "execution_count": 16,
   "metadata": {
    "id": "Khw4zRzo5553"
   },
   "outputs": [],
   "source": [
    "algo = NMF()"
   ]
  },
  {
   "cell_type": "code",
   "execution_count": 17,
   "metadata": {
    "colab": {
     "base_uri": "https://localhost:8080/"
    },
    "id": "lmj6QRW68A3h",
    "outputId": "2d67100c-dd8d-4fd9-fb76-b24f6cea3981"
   },
   "outputs": [
    {
     "data": {
      "text/plain": [
       "<surprise.prediction_algorithms.matrix_factorization.NMF at 0x7f648a4faa00>"
      ]
     },
     "execution_count": 17,
     "metadata": {},
     "output_type": "execute_result"
    }
   ],
   "source": [
    "algo.fit(trainset)"
   ]
  },
  {
   "cell_type": "markdown",
   "metadata": {},
   "source": [
    "### Errors on test set"
   ]
  },
  {
   "cell_type": "code",
   "execution_count": 18,
   "metadata": {
    "id": "UYCqueEKWH76"
   },
   "outputs": [],
   "source": [
    "errors = get_errors(algo, test_unknown)"
   ]
  },
  {
   "cell_type": "code",
   "execution_count": 19,
   "metadata": {
    "colab": {
     "base_uri": "https://localhost:8080/"
    },
    "id": "O4Oloy1CXcgf",
    "outputId": "5fbd162f-a0e2-49bc-c387-239e5906e93f"
   },
   "outputs": [
    {
     "name": "stdout",
     "output_type": "stream",
     "text": [
      "3.5376357412922927\n",
      "1.8808603726200126\n"
     ]
    }
   ],
   "source": [
    "print(MSE(errors))\n",
    "print(RMSE(errors))"
   ]
  },
  {
   "cell_type": "markdown",
   "metadata": {},
   "source": [
    "### Coverage / diversity"
   ]
  },
  {
   "cell_type": "code",
   "execution_count": 20,
   "metadata": {},
   "outputs": [
    {
     "data": {
      "application/vnd.jupyter.widget-view+json": {
       "model_id": "a3563fa1a9524ffba2e939f9c0e2237e",
       "version_major": 2,
       "version_minor": 0
      },
      "text/plain": [
       "  0%|          | 0/24304 [00:00<?, ?it/s]"
      ]
     },
     "metadata": {},
     "output_type": "display_data"
    }
   ],
   "source": [
    "top_10_df = get_top_n(algo, trainset, n=10, it=range(0, trainset.n_users//10))"
   ]
  },
  {
   "cell_type": "code",
   "execution_count": 23,
   "metadata": {},
   "outputs": [],
   "source": [
    "top_10_df.to_csv('./data/nmf_top_10.csv', header=True, index=False)"
   ]
  },
  {
   "cell_type": "code",
   "execution_count": 24,
   "metadata": {},
   "outputs": [
    {
     "data": {
      "text/plain": [
       "586"
      ]
     },
     "execution_count": 24,
     "metadata": {},
     "output_type": "execute_result"
    }
   ],
   "source": [
    "testing.coverage(top_10_df)"
   ]
  },
  {
   "cell_type": "code",
   "execution_count": 25,
   "metadata": {},
   "outputs": [
    {
     "data": {
      "text/plain": [
       "{'category': 19.869033903884134, 'mechanic': 40.18832290980909}"
      ]
     },
     "execution_count": 25,
     "metadata": {},
     "output_type": "execute_result"
    }
   ],
   "source": [
    "testing.diversity(top_10_df, games_df)"
   ]
  },
  {
   "cell_type": "markdown",
   "metadata": {
    "id": "GzYJlcPm6ToE"
   },
   "source": [
    "## Slope One"
   ]
  },
  {
   "cell_type": "code",
   "execution_count": 12,
   "metadata": {
    "id": "w06kSHNKdcgA"
   },
   "outputs": [],
   "source": [
    "algo = SlopeOne()"
   ]
  },
  {
   "cell_type": "code",
   "execution_count": 13,
   "metadata": {
    "colab": {
     "base_uri": "https://localhost:8080/"
    },
    "id": "lmj6QRW68A3h",
    "outputId": "2d67100c-dd8d-4fd9-fb76-b24f6cea3981"
   },
   "outputs": [
    {
     "name": "stderr",
     "output_type": "stream",
     "text": [
      "<ipython-input-13-71435e67f2fa>:1: DeprecationWarning: `np.int` is a deprecated alias for the builtin `int`. To silence this warning, use `int` by itself. Doing this will not modify any behavior and is safe. When replacing `np.int`, you may wish to use e.g. `np.int64` or `np.int32` to specify the precision. If you wish to review your current use, check the release note link for additional information.\n",
      "Deprecated in NumPy 1.20; for more details and guidance: https://numpy.org/devdocs/release/1.20.0-notes.html#deprecations\n",
      "  algo.fit(trainset)\n"
     ]
    },
    {
     "data": {
      "text/plain": [
       "<surprise.prediction_algorithms.slope_one.SlopeOne at 0x7f00649694f0>"
      ]
     },
     "execution_count": 13,
     "metadata": {},
     "output_type": "execute_result"
    }
   ],
   "source": [
    "algo.fit(trainset)"
   ]
  },
  {
   "cell_type": "markdown",
   "metadata": {},
   "source": [
    "### Errors on test set"
   ]
  },
  {
   "cell_type": "code",
   "execution_count": 15,
   "metadata": {
    "id": "UYCqueEKWH76"
   },
   "outputs": [],
   "source": [
    "errors = get_errors(algo, test_unknown)"
   ]
  },
  {
   "cell_type": "code",
   "execution_count": 16,
   "metadata": {
    "colab": {
     "base_uri": "https://localhost:8080/"
    },
    "id": "O4Oloy1CXcgf",
    "outputId": "5fbd162f-a0e2-49bc-c387-239e5906e93f"
   },
   "outputs": [
    {
     "name": "stdout",
     "output_type": "stream",
     "text": [
      "1.470237539077332\n",
      "1.2125335208056442\n"
     ]
    }
   ],
   "source": [
    "print(MSE(errors))\n",
    "print(RMSE(errors))"
   ]
  },
  {
   "cell_type": "markdown",
   "metadata": {},
   "source": [
    "### Coverage / diversity"
   ]
  },
  {
   "cell_type": "code",
   "execution_count": 14,
   "metadata": {},
   "outputs": [
    {
     "data": {
      "application/vnd.jupyter.widget-view+json": {
       "model_id": "68269d7bb1924f6b9fe2cda7b4c1f441",
       "version_major": 2,
       "version_minor": 0
      },
      "text/plain": [
       "  0%|          | 0/24304 [00:00<?, ?it/s]"
      ]
     },
     "metadata": {},
     "output_type": "display_data"
    }
   ],
   "source": [
    "top_10_df = get_top_n(algo, trainset, n=10, it=range(0, trainset.n_users//10))"
   ]
  },
  {
   "cell_type": "code",
   "execution_count": 15,
   "metadata": {},
   "outputs": [],
   "source": [
    "top_10_df.to_csv('./data/slope_one_top_10.csv', header=True, index=False)"
   ]
  },
  {
   "cell_type": "code",
   "execution_count": 16,
   "metadata": {},
   "outputs": [
    {
     "data": {
      "text/plain": [
       "874"
      ]
     },
     "execution_count": 16,
     "metadata": {},
     "output_type": "execute_result"
    }
   ],
   "source": [
    "testing.coverage(top_10_df)"
   ]
  },
  {
   "cell_type": "code",
   "execution_count": 17,
   "metadata": {},
   "outputs": [
    {
     "data": {
      "text/plain": [
       "{'category': 16.71704246214615, 'mechanic': 33.20276497695853}"
      ]
     },
     "execution_count": 17,
     "metadata": {},
     "output_type": "execute_result"
    }
   ],
   "source": [
    "testing.diversity(top_10_df, games_df)"
   ]
  },
  {
   "cell_type": "code",
   "execution_count": null,
   "metadata": {},
   "outputs": [],
   "source": []
  }
 ],
 "metadata": {
  "colab": {
   "collapsed_sections": [],
   "include_colab_link": true,
   "name": "Tests.ipynb",
   "provenance": []
  },
  "kernelspec": {
   "display_name": "Python 3",
   "language": "python",
   "name": "python3"
  },
  "language_info": {
   "codemirror_mode": {
    "name": "ipython",
    "version": 3
   },
   "file_extension": ".py",
   "mimetype": "text/x-python",
   "name": "python",
   "nbconvert_exporter": "python",
   "pygments_lexer": "ipython3",
   "version": "3.9.4"
  }
 },
 "nbformat": 4,
 "nbformat_minor": 1
}
