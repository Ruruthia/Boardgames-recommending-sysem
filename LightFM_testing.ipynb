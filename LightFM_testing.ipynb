{
 "cells": [
  {
   "cell_type": "code",
   "execution_count": 27,
   "id": "compatible-schedule",
   "metadata": {},
   "outputs": [],
   "source": [
    "import pandas as pd\n",
    "import numpy as np\n",
    "from ast import literal_eval\n",
    "import scipy.sparse\n",
    "\n",
    "from lightfm import LightFM\n",
    "from lightfm.data import Dataset\n",
    "from lightfm.evaluation import precision_at_k, recall_at_k, reciprocal_rank, auc_score\n",
    "# To reimport:\n",
    "# import tools.lightfm_tools\n",
    "from tools.lightfm_tools import prepare_interactions, evaluate_model, evaluate_diversity_and_coverage, random_search\n",
    "# import tools.lightfm_tools\n",
    "# import importlib\n",
    "# importlib.reload(tools.lightfm_tools)\n",
    "# from tools.lightfm_tools import prepare_interactions, evaluate_model, evaluate_diversity_and_coverage, random_search\n"
   ]
  },
  {
   "cell_type": "markdown",
   "id": "behavioral-girlfriend",
   "metadata": {},
   "source": [
    "## Data loading"
   ]
  },
  {
   "cell_type": "code",
   "execution_count": 28,
   "id": "composite-zoning",
   "metadata": {},
   "outputs": [],
   "source": [
    "# Ratings without the least active users and the least popular games\n",
    "df = pd.read_csv('data/ratings.csv.gz')\n",
    "games_df = pd.read_json('./data/bgg_GameItem.jl', lines = True)\n",
    "# Names of the most popular features\n",
    "features_names = pd.read_csv('data/LightFM_item_features_names.csv.gz')\n",
    "# Features of games\n",
    "game_features = pd.read_csv('data/LightFM_item_features.csv.gz')\n",
    "game_features['features'] = game_features.features.apply(literal_eval)"
   ]
  },
  {
   "cell_type": "code",
   "execution_count": 29,
   "id": "temporal-flooring",
   "metadata": {},
   "outputs": [],
   "source": [
    "# We don't need features of games we don't have any interactions with\n",
    "features_list = [x for x in features_names['0']]\n",
    "games_list = [x for x in df['bgg_id']]\n",
    "game_features = game_features.drop((game_features['bgg_id'])[~game_features['bgg_id'].isin(games_list)].index)"
   ]
  },
  {
   "cell_type": "code",
   "execution_count": 30,
   "id": "tracked-judgment",
   "metadata": {},
   "outputs": [],
   "source": [
    "# Positive interactions are: rating the game above 6 or having a game in collection without rating it\n",
    "df_positive = df.loc[((df['bgg_user_owned'] == 1.0) & (df['bgg_user_rating'].isnull()) | (df['bgg_user_rating'] > 6))].copy()\n",
    "df_positive['value'] = 1"
   ]
  },
  {
   "cell_type": "code",
   "execution_count": 31,
   "id": "played-drilling",
   "metadata": {},
   "outputs": [],
   "source": [
    "df_negative =  df.loc[(df['bgg_user_rating'] < 4)].copy()\n",
    "df_negative['value'] = -1\n",
    "df_logistic = pd.concat([df_positive, df_negative])"
   ]
  },
  {
   "cell_type": "code",
   "execution_count": 32,
   "id": "crucial-display",
   "metadata": {},
   "outputs": [],
   "source": [
    "best_epochs_so_far = 49\n",
    "best_params_so_far = {'no_components': 71, 'learning_schedule': 'adadelta', 'learning_rate': 0.05652168855133591, 'item_alpha': 2.816672985617472e-06, 'max_sampled': 9, 'rho': 0.9369181237831744, 'epsilon': 2.0854895195545605e-06}"
   ]
  },
  {
   "cell_type": "markdown",
   "id": "impressed-welcome",
   "metadata": {},
   "source": [
    "## Preparation of dataset, interactions and item features matrices"
   ]
  },
  {
   "cell_type": "code",
   "execution_count": 33,
   "id": "encouraging-syria",
   "metadata": {},
   "outputs": [],
   "source": [
    "dataset = Dataset()\n",
    "dataset.fit((x for x in df_positive['bgg_user_name']), (x for x in df_positive['bgg_id']), item_features=(x for x in features_list))"
   ]
  },
  {
   "cell_type": "code",
   "execution_count": 34,
   "id": "potential-least",
   "metadata": {},
   "outputs": [
    {
     "name": "stdout",
     "output_type": "stream",
     "text": [
      "Loaded interactions\n"
     ]
    }
   ],
   "source": [
    "# Interactions for all functions except logistic loss\n",
    "try:\n",
    "    interactions = scipy.sparse.load_npz('data/interactions.npz')\n",
    "    test_interactions = scipy.sparse.load_npz('data/test_interactions.npz')\n",
    "    known = pd.read_csv('data/known.csv.gz')\n",
    "    print('Loaded interactions')\n",
    "except:    \n",
    "    interactions, test_interactions, known = prepare_interactions(df_positive, dataset)\n",
    "    scipy.sparse.save_npz('data/interactions.npz', interactions)\n",
    "    scipy.sparse.save_npz('data/test_interactions.npz', test_interactions)\n",
    "    known.to_csv('data/known.csv.gz', compression='gzip', index=False)    "
   ]
  },
  {
   "cell_type": "code",
   "execution_count": 35,
   "id": "phantom-pioneer",
   "metadata": {},
   "outputs": [],
   "source": [
    "dataset_logistic = Dataset()\n",
    "dataset_logistic.fit((x for x in df_logistic['bgg_user_name']), (x for x in df_logistic['bgg_id']), item_features=(x for x in features_list))"
   ]
  },
  {
   "cell_type": "code",
   "execution_count": 12,
   "id": "wrapped-sponsorship",
   "metadata": {},
   "outputs": [
    {
     "name": "stdout",
     "output_type": "stream",
     "text": [
      "Loaded interactions\n"
     ]
    }
   ],
   "source": [
    "# Interactions for logistic loss\n",
    "try:\n",
    "    interactions_logistic = scipy.sparse.load_npz('data/interactions_logistic.npz')\n",
    "    test_interactions_logistic = scipy.sparse.load_npz('data/test_interactions_logistic.npz')\n",
    "    known_logistic = pd.read_csv('data/known_logistic.csv.gz')\n",
    "    print(\"Loaded interactions\")\n",
    "except:    \n",
    "    interactions_logistic, test_interactions_logistic, known_logistic = prepare_interactions(df_logistic, dataset)\n",
    "    scipy.sparse.save_npz('data/interactions_logistic.npz', interactions_logistic)\n",
    "    scipy.sparse.save_npz('data/test_interactions_logistic.npz', test_interactions_logistic)\n",
    "    known_logistic.to_csv('data/known_logistic.csv.gz', compression='gzip', index=False)    "
   ]
  },
  {
   "cell_type": "code",
   "execution_count": 13,
   "id": "located-shepherd",
   "metadata": {},
   "outputs": [],
   "source": [
    "item_features = dataset.build_item_features((val['bgg_id'], [w for w in val['features'] if w in features_list]) for idx, val in game_features.iterrows())"
   ]
  },
  {
   "cell_type": "code",
   "execution_count": 37,
   "id": "institutional-budapest",
   "metadata": {},
   "outputs": [],
   "source": [
    "id_item_features = dataset.build_item_features((val['bgg_id'], [w for w in val['features'] if w in features_list] + [val['bgg_id']]) for idx, val in game_features.iterrows())"
   ]
  },
  {
   "cell_type": "code",
   "execution_count": null,
   "id": "political-publicity",
   "metadata": {},
   "outputs": [],
   "source": [
    "id_item_features_logistic = dataset_logistic.build_item_features((val['bgg_id'], [w for w in val['features'] if w in features_list] + [val['bgg_id']]) for idx, val in game_features.iterrows())"
   ]
  },
  {
   "cell_type": "code",
   "execution_count": 15,
   "id": "worthy-virus",
   "metadata": {},
   "outputs": [],
   "source": [
    "random_game_features = game_features.copy()\n",
    "random_game_features.iloc[:, 1] = np.random.permutation(game_features.iloc[:,1].values)\n",
    "random_item_features = dataset.build_item_features((val['bgg_id'], [w for w in val['features'] if w in features_list]) for idx, val in random_game_features.iterrows())"
   ]
  },
  {
   "cell_type": "markdown",
   "id": "trying-cherry",
   "metadata": {},
   "source": [
    "## Comparison of results achieved using different parameters"
   ]
  },
  {
   "cell_type": "markdown",
   "id": "individual-opposition",
   "metadata": {},
   "source": [
    "### WARP model"
   ]
  },
  {
   "cell_type": "code",
   "execution_count": 10,
   "id": "christian-acting",
   "metadata": {},
   "outputs": [
    {
     "name": "stderr",
     "output_type": "stream",
     "text": [
      "Epoch: 100%|██████████| 20/20 [02:20<00:00,  7.02s/it]\n"
     ]
    },
    {
     "data": {
      "text/plain": [
       "<lightfm.lightfm.LightFM at 0x7f3fa8fd4b80>"
      ]
     },
     "execution_count": 10,
     "metadata": {},
     "output_type": "execute_result"
    }
   ],
   "source": [
    "model = LightFM(loss='warp')\n",
    "model.fit(interactions, verbose=True, epochs=20, num_threads=8)"
   ]
  },
  {
   "cell_type": "code",
   "execution_count": 17,
   "id": "juvenile-sleeve",
   "metadata": {},
   "outputs": [
    {
     "name": "stdout",
     "output_type": "stream",
     "text": [
      "Precision: train 0.50\n",
      "Precision: test 0.20\n",
      "AUC: train 0.94\n",
      "AUC: test 0.93\n"
     ]
    }
   ],
   "source": [
    "evaluate_model(model, interactions, test_interactions, k=5, num_threads=8)"
   ]
  },
  {
   "cell_type": "code",
   "execution_count": 18,
   "id": "national-female",
   "metadata": {},
   "outputs": [
    {
     "name": "stderr",
     "output_type": "stream",
     "text": [
      "Epoch: 100%|██████████| 20/20 [10:27<00:00, 31.35s/it]\n"
     ]
    },
    {
     "data": {
      "text/plain": [
       "<lightfm.lightfm.LightFM at 0x7fa19c2e66d0>"
      ]
     },
     "execution_count": 18,
     "metadata": {},
     "output_type": "execute_result"
    }
   ],
   "source": [
    "features_model = LightFM(loss='warp')\n",
    "features_model.fit(interactions, verbose=True, item_features = item_features,\n",
    "                   epochs=20, num_threads=8)"
   ]
  },
  {
   "cell_type": "code",
   "execution_count": 19,
   "id": "increased-antibody",
   "metadata": {},
   "outputs": [
    {
     "name": "stdout",
     "output_type": "stream",
     "text": [
      "Precision: train 0.49\n",
      "Precision: test 0.19\n",
      "AUC: train 0.93\n",
      "AUC: test 0.92\n"
     ]
    }
   ],
   "source": [
    "evaluate_model(features_model, interactions, test_interactions, k=5,\n",
    "               num_threads=8, item_features = item_features)"
   ]
  },
  {
   "cell_type": "code",
   "execution_count": 20,
   "id": "technological-alcohol",
   "metadata": {},
   "outputs": [
    {
     "name": "stderr",
     "output_type": "stream",
     "text": [
      "Epoch: 100%|██████████| 20/20 [09:29<00:00, 28.45s/it]\n"
     ]
    },
    {
     "data": {
      "text/plain": [
       "<lightfm.lightfm.LightFM at 0x7fa19c2e68b0>"
      ]
     },
     "execution_count": 20,
     "metadata": {},
     "output_type": "execute_result"
    }
   ],
   "source": [
    "random_features_model = LightFM(loss='warp')\n",
    "random_features_model.fit(interactions, verbose=True, item_features = random_item_features,\n",
    "                          epochs=20, num_threads=8)"
   ]
  },
  {
   "cell_type": "code",
   "execution_count": 21,
   "id": "scientific-semiconductor",
   "metadata": {},
   "outputs": [
    {
     "name": "stdout",
     "output_type": "stream",
     "text": [
      "Precision: train 0.48\n",
      "Precision: test 0.18\n",
      "AUC: train 0.93\n",
      "AUC: test 0.92\n"
     ]
    }
   ],
   "source": [
    "evaluate_model(random_features_model, interactions, test_interactions, k=5,\n",
    "               num_threads=8, item_features = random_item_features)"
   ]
  },
  {
   "cell_type": "markdown",
   "id": "great-movie",
   "metadata": {},
   "source": [
    "#### WARP hyperparameters search"
   ]
  },
  {
   "cell_type": "code",
   "execution_count": 8,
   "id": "stainless-respondent",
   "metadata": {},
   "outputs": [
    {
     "name": "stdout",
     "output_type": "stream",
     "text": [
      "Params:\n",
      "{'no_components': 72, 'learning_schedule': 'adagrad', 'loss': 'warp', 'learning_rate': 0.06247712728655479, 'item_alpha': 9.490407498434895e-06, 'max_sampled': 11, 'num_epochs': 45, 'rho': 0.9151663627867668, 'epsilon': 9.171970898190447e-06}\n"
     ]
    },
    {
     "name": "stderr",
     "output_type": "stream",
     "text": [
      "Epoch: 100%|██████████| 45/45 [47:09<00:00, 62.87s/it]\n",
      "Epoch:   0%|          | 0/32 [00:00<?, ?it/s]"
     ]
    },
    {
     "name": "stdout",
     "output_type": "stream",
     "text": [
      "Train precision: 0.6410, test precision: 0.2078\n",
      "Params:\n",
      "{'no_components': 65, 'learning_schedule': 'adadelta', 'loss': 'warp', 'learning_rate': 0.022383884192652345, 'item_alpha': 9.557891502289009e-06, 'max_sampled': 13, 'num_epochs': 32, 'rho': 0.8292936663732287, 'epsilon': 3.4102368089271628e-06}\n"
     ]
    },
    {
     "name": "stderr",
     "output_type": "stream",
     "text": [
      "Epoch: 100%|██████████| 32/32 [38:40<00:00, 72.52s/it]\n"
     ]
    },
    {
     "name": "stdout",
     "output_type": "stream",
     "text": [
      "Train precision: 0.6099, test precision: 0.2007\n",
      "Params:\n",
      "{'no_components': 72, 'learning_schedule': 'adadelta', 'loss': 'warp', 'learning_rate': 0.018302438875387395, 'item_alpha': 7.1322848289047725e-06, 'max_sampled': 11, 'num_epochs': 45, 'rho': 0.8338214431327815, 'epsilon': 6.922122716155008e-06}\n"
     ]
    },
    {
     "name": "stderr",
     "output_type": "stream",
     "text": [
      "Epoch: 100%|██████████| 45/45 [42:50<00:00, 57.13s/it]\n"
     ]
    },
    {
     "name": "stdout",
     "output_type": "stream",
     "text": [
      "Train precision: 0.6302, test precision: 0.2020\n",
      "Params:\n",
      "{'no_components': 95, 'learning_schedule': 'adagrad', 'loss': 'warp', 'learning_rate': 0.03275109799535048, 'item_alpha': 8.997690018348368e-06, 'max_sampled': 9, 'num_epochs': 37, 'rho': 0.8470038142101286, 'epsilon': 6.723899132056612e-06}\n"
     ]
    },
    {
     "name": "stderr",
     "output_type": "stream",
     "text": [
      "Epoch: 100%|██████████| 37/37 [43:19<00:00, 70.26s/it]\n"
     ]
    },
    {
     "name": "stdout",
     "output_type": "stream",
     "text": [
      "Train precision: 0.5706, test precision: 0.2047\n",
      "Params:\n",
      "{'no_components': 60, 'learning_schedule': 'adagrad', 'loss': 'warp', 'learning_rate': 0.05116948414096397, 'item_alpha': 8.106676395442752e-06, 'max_sampled': 13, 'num_epochs': 41, 'rho': 0.8146936110149877, 'epsilon': 5.842940014384907e-06}\n"
     ]
    },
    {
     "name": "stderr",
     "output_type": "stream",
     "text": [
      "Epoch: 100%|██████████| 41/41 [43:33<00:00, 63.74s/it]\n"
     ]
    },
    {
     "name": "stdout",
     "output_type": "stream",
     "text": [
      "Train precision: 0.6047, test precision: 0.2075\n",
      "Params:\n",
      "{'no_components': 85, 'learning_schedule': 'adagrad', 'loss': 'warp', 'learning_rate': 0.04262816075760235, 'item_alpha': 3.1237271824180853e-07, 'max_sampled': 13, 'num_epochs': 37, 'rho': 0.8602124452303144, 'epsilon': 6.140861149682677e-06}\n"
     ]
    },
    {
     "name": "stderr",
     "output_type": "stream",
     "text": [
      "Epoch: 100%|██████████| 37/37 [45:50<00:00, 74.34s/it]\n"
     ]
    },
    {
     "name": "stdout",
     "output_type": "stream",
     "text": [
      "Train precision: 0.6059, test precision: 0.2058\n",
      "Params:\n",
      "{'no_components': 77, 'learning_schedule': 'adadelta', 'loss': 'warp', 'learning_rate': 0.04377413507543912, 'item_alpha': 3.126015423135039e-07, 'max_sampled': 11, 'num_epochs': 20, 'rho': 0.8611403781364557, 'epsilon': 6.2553941379274414e-06}\n"
     ]
    },
    {
     "name": "stderr",
     "output_type": "stream",
     "text": [
      "Epoch: 100%|██████████| 20/20 [19:33<00:00, 58.67s/it]\n"
     ]
    },
    {
     "name": "stdout",
     "output_type": "stream",
     "text": [
      "Train precision: 0.6327, test precision: 0.2098\n",
      "Params:\n",
      "{'no_components': 91, 'learning_schedule': 'adagrad', 'loss': 'warp', 'learning_rate': 0.09729632295647288, 'item_alpha': 8.144824123836496e-06, 'max_sampled': 9, 'num_epochs': 40, 'rho': 0.8616924952225455, 'epsilon': 7.861745844687e-06}\n"
     ]
    },
    {
     "name": "stderr",
     "output_type": "stream",
     "text": [
      "Epoch: 100%|██████████| 40/40 [41:24<00:00, 62.11s/it]\n"
     ]
    },
    {
     "name": "stdout",
     "output_type": "stream",
     "text": [
      "Train precision: 0.6930, test precision: 0.2068\n",
      "Params:\n",
      "{'no_components': 85, 'learning_schedule': 'adagrad', 'loss': 'warp', 'learning_rate': 0.03549996157764155, 'item_alpha': 2.6835927799481706e-06, 'max_sampled': 10, 'num_epochs': 34, 'rho': 0.8325177677034052, 'epsilon': 3.508904686877298e-06}\n"
     ]
    },
    {
     "name": "stderr",
     "output_type": "stream",
     "text": [
      "Epoch: 100%|██████████| 34/34 [40:04<00:00, 70.72s/it]\n"
     ]
    },
    {
     "name": "stdout",
     "output_type": "stream",
     "text": [
      "Train precision: 0.5719, test precision: 0.2044\n",
      "Params:\n",
      "{'no_components': 81, 'learning_schedule': 'adagrad', 'loss': 'warp', 'learning_rate': 0.08656903263726906, 'item_alpha': 1.7856021088623879e-06, 'max_sampled': 10, 'num_epochs': 32, 'rho': 0.9630560572956857, 'epsilon': 8.990180435447093e-06}\n"
     ]
    },
    {
     "name": "stderr",
     "output_type": "stream",
     "text": [
      "Epoch: 100%|██████████| 32/32 [32:47<00:00, 61.49s/it]\n",
      "Epoch:   0%|          | 0/25 [00:00<?, ?it/s]"
     ]
    },
    {
     "name": "stdout",
     "output_type": "stream",
     "text": [
      "Train precision: 0.6640, test precision: 0.2042\n",
      "Params:\n",
      "{'no_components': 54, 'learning_schedule': 'adagrad', 'loss': 'warp', 'learning_rate': 0.037437120904102554, 'item_alpha': 7.980738372484048e-06, 'max_sampled': 8, 'num_epochs': 25, 'rho': 0.8550638666667969, 'epsilon': 1.8913667865100771e-06}\n"
     ]
    },
    {
     "name": "stderr",
     "output_type": "stream",
     "text": [
      "Epoch: 100%|██████████| 25/25 [21:19<00:00, 51.17s/it]\n",
      "Epoch:   0%|          | 0/31 [00:00<?, ?it/s]"
     ]
    },
    {
     "name": "stdout",
     "output_type": "stream",
     "text": [
      "Train precision: 0.5432, test precision: 0.2025\n",
      "Params:\n",
      "{'no_components': 67, 'learning_schedule': 'adagrad', 'loss': 'warp', 'learning_rate': 0.08382698343628706, 'item_alpha': 4.145770676536075e-06, 'max_sampled': 11, 'num_epochs': 31, 'rho': 0.8033974617916476, 'epsilon': 5.203170667059746e-06}\n"
     ]
    },
    {
     "name": "stderr",
     "output_type": "stream",
     "text": [
      "Epoch: 100%|██████████| 31/31 [31:06<00:00, 60.21s/it]\n"
     ]
    },
    {
     "name": "stdout",
     "output_type": "stream",
     "text": [
      "Train precision: 0.6374, test precision: 0.2075\n",
      "Params:\n",
      "{'no_components': 83, 'learning_schedule': 'adadelta', 'loss': 'warp', 'learning_rate': 0.015183142440779484, 'item_alpha': 8.732869830247295e-06, 'max_sampled': 7, 'num_epochs': 43, 'rho': 0.9588474781980215, 'epsilon': 1.9536966762432584e-06}\n"
     ]
    },
    {
     "name": "stderr",
     "output_type": "stream",
     "text": [
      "Epoch: 100%|██████████| 43/43 [37:07<00:00, 51.81s/it]\n"
     ]
    },
    {
     "name": "stdout",
     "output_type": "stream",
     "text": [
      "Train precision: 0.6137, test precision: 0.2025\n",
      "Params:\n",
      "{'no_components': 94, 'learning_schedule': 'adagrad', 'loss': 'warp', 'learning_rate': 0.014523540323062419, 'item_alpha': 9.657214018614694e-06, 'max_sampled': 12, 'num_epochs': 34, 'rho': 0.9123118632428795, 'epsilon': 9.605724589529243e-07}\n"
     ]
    },
    {
     "name": "stderr",
     "output_type": "stream",
     "text": [
      "Epoch: 100%|██████████| 34/34 [46:37<00:00, 82.27s/it]\n",
      "Epoch:   0%|          | 0/46 [00:00<?, ?it/s]"
     ]
    },
    {
     "name": "stdout",
     "output_type": "stream",
     "text": [
      "Train precision: 0.5230, test precision: 0.1967\n",
      "Params:\n",
      "{'no_components': 55, 'learning_schedule': 'adagrad', 'loss': 'warp', 'learning_rate': 0.03650632219355546, 'item_alpha': 2.198154797434897e-06, 'max_sampled': 12, 'num_epochs': 46, 'rho': 0.8301526394536567, 'epsilon': 8.976219271375456e-06}\n"
     ]
    },
    {
     "name": "stderr",
     "output_type": "stream",
     "text": [
      "Epoch: 100%|██████████| 46/46 [43:07<00:00, 56.24s/it]\n"
     ]
    },
    {
     "name": "stdout",
     "output_type": "stream",
     "text": [
      "Train precision: 0.5722, test precision: 0.2051\n",
      "Params:\n",
      "{'no_components': 92, 'learning_schedule': 'adadelta', 'loss': 'warp', 'learning_rate': 0.05078388997894149, 'item_alpha': 7.707576601518201e-06, 'max_sampled': 13, 'num_epochs': 27, 'rho': 0.8106288913966373, 'epsilon': 8.056768770513088e-06}\n"
     ]
    },
    {
     "name": "stderr",
     "output_type": "stream",
     "text": [
      "Epoch: 100%|██████████| 27/27 [28:41<00:00, 63.75s/it]\n"
     ]
    },
    {
     "name": "stdout",
     "output_type": "stream",
     "text": [
      "Train precision: 0.6448, test precision: 0.1906\n",
      "Params:\n",
      "{'no_components': 78, 'learning_schedule': 'adagrad', 'loss': 'warp', 'learning_rate': 0.011373711641591558, 'item_alpha': 6.949738056546539e-06, 'max_sampled': 11, 'num_epochs': 30, 'rho': 0.9079395431188544, 'epsilon': 2.026452427714593e-06}\n"
     ]
    },
    {
     "name": "stderr",
     "output_type": "stream",
     "text": [
      "Epoch: 100%|██████████| 30/30 [38:41<00:00, 77.38s/it]\n",
      "Epoch:   0%|          | 0/46 [00:00<?, ?it/s]"
     ]
    },
    {
     "name": "stdout",
     "output_type": "stream",
     "text": [
      "Train precision: 0.4997, test precision: 0.1885\n",
      "Params:\n",
      "{'no_components': 73, 'learning_schedule': 'adadelta', 'loss': 'warp', 'learning_rate': 0.07228259832299408, 'item_alpha': 9.382342146190704e-06, 'max_sampled': 10, 'num_epochs': 46, 'rho': 0.9118148139245935, 'epsilon': 6.945673886249597e-06}\n"
     ]
    },
    {
     "name": "stderr",
     "output_type": "stream",
     "text": [
      "Epoch: 100%|██████████| 46/46 [41:51<00:00, 54.60s/it]\n",
      "Epoch:   0%|          | 0/49 [00:00<?, ?it/s]"
     ]
    },
    {
     "name": "stdout",
     "output_type": "stream",
     "text": [
      "Train precision: 0.6116, test precision: 0.1898\n",
      "Params:\n",
      "{'no_components': 71, 'learning_schedule': 'adadelta', 'loss': 'warp', 'learning_rate': 0.05652168855133591, 'item_alpha': 2.816672985617472e-06, 'max_sampled': 9, 'num_epochs': 49, 'rho': 0.9369181237831744, 'epsilon': 2.0854895195545605e-06}\n"
     ]
    },
    {
     "name": "stderr",
     "output_type": "stream",
     "text": [
      "Epoch: 100%|██████████| 49/49 [43:03<00:00, 52.73s/it]\n"
     ]
    },
    {
     "name": "stdout",
     "output_type": "stream",
     "text": [
      "Train precision: 0.6203, test precision: 0.2108\n",
      "Params:\n",
      "{'no_components': 83, 'learning_schedule': 'adadelta', 'loss': 'warp', 'learning_rate': 0.04271551982778008, 'item_alpha': 7.013647542683806e-06, 'max_sampled': 13, 'num_epochs': 43, 'rho': 0.8022863069967255, 'epsilon': 9.261414654082415e-06}\n"
     ]
    },
    {
     "name": "stderr",
     "output_type": "stream",
     "text": [
      "Epoch: 100%|██████████| 43/43 [44:41<00:00, 62.37s/it]\n"
     ]
    },
    {
     "name": "stdout",
     "output_type": "stream",
     "text": [
      "Train precision: 0.6593, test precision: 0.1976\n"
     ]
    },
    {
     "data": {
      "text/plain": [
       "(0.21082604,\n",
       " {'no_components': 71,\n",
       "  'learning_schedule': 'adadelta',\n",
       "  'loss': 'warp',\n",
       "  'learning_rate': 0.05652168855133591,\n",
       "  'item_alpha': 2.816672985617472e-06,\n",
       "  'max_sampled': 9,\n",
       "  'rho': 0.9369181237831744,\n",
       "  'epsilon': 2.0854895195545605e-06,\n",
       "  'num_epochs': 49})"
      ]
     },
     "execution_count": 8,
     "metadata": {},
     "output_type": "execute_result"
    }
   ],
   "source": [
    "random_search(interactions, test_interactions, id_item_features, num_samples=20, num_threads=8)"
   ]
  },
  {
   "cell_type": "markdown",
   "id": "surgical-moses",
   "metadata": {},
   "source": [
    "#### WARP with best hyperparameters"
   ]
  },
  {
   "cell_type": "code",
   "execution_count": 38,
   "id": "driving-power",
   "metadata": {},
   "outputs": [
    {
     "name": "stderr",
     "output_type": "stream",
     "text": [
      "Epoch: 100%|██████████| 49/49 [43:37<00:00, 53.42s/it]\n"
     ]
    },
    {
     "data": {
      "text/plain": [
       "<lightfm.lightfm.LightFM at 0x7f3fc5785160>"
      ]
     },
     "execution_count": 38,
     "metadata": {},
     "output_type": "execute_result"
    }
   ],
   "source": [
    "model = LightFM(loss='warp', **best_params_so_far)\n",
    "model.fit(interactions, verbose=True, item_features = id_item_features,\n",
    "                      epochs=best_epochs_so_far, num_threads=8)"
   ]
  },
  {
   "cell_type": "code",
   "execution_count": 39,
   "id": "certified-imaging",
   "metadata": {},
   "outputs": [
    {
     "name": "stdout",
     "output_type": "stream",
     "text": [
      "Precision: train 0.62\n",
      "Precision: test 0.21\n",
      "AUC: train 0.98\n",
      "AUC: test 0.93\n"
     ]
    }
   ],
   "source": [
    "evaluate_model(model, interactions, test_interactions, k=5, num_threads=8, item_features = id_item_features)"
   ]
  },
  {
   "cell_type": "code",
   "execution_count": 40,
   "id": "hybrid-concentrate",
   "metadata": {},
   "outputs": [
    {
     "name": "stderr",
     "output_type": "stream",
     "text": [
      "100%|██████████| 24757/24757 [02:19<00:00, 177.48it/s]\n"
     ]
    },
    {
     "name": "stdout",
     "output_type": "stream",
     "text": [
      "Diversity: {'category': 0.23476236639180456, 'mechanic': 0.20414428242517269}\n",
      "Coverage: 3101\n"
     ]
    }
   ],
   "source": [
    "no_users = len(df['bgg_user_name'].unique())/10\n",
    "evaluate_diversity_and_coverage(model, int(no_users), dataset, games_df, known, 'data/top10_warp.csv.gz', item_features = id_item_features, N = 10)"
   ]
  },
  {
   "cell_type": "markdown",
   "id": "numerical-greeting",
   "metadata": {},
   "source": [
    "### k-OS WARP model"
   ]
  },
  {
   "cell_type": "code",
   "execution_count": 24,
   "id": "personal-knock",
   "metadata": {},
   "outputs": [
    {
     "name": "stderr",
     "output_type": "stream",
     "text": [
      "Epoch: 100%|██████████| 20/20 [03:19<00:00,  9.95s/it]\n"
     ]
    },
    {
     "data": {
      "text/plain": [
       "<lightfm.lightfm.LightFM at 0x7fa19c7c5ee0>"
      ]
     },
     "execution_count": 24,
     "metadata": {},
     "output_type": "execute_result"
    }
   ],
   "source": [
    "model = LightFM(loss = 'warp-kos')\n",
    "model.fit(interactions, verbose=True, epochs=20, num_threads=8)"
   ]
  },
  {
   "cell_type": "code",
   "execution_count": 25,
   "id": "becoming-solution",
   "metadata": {},
   "outputs": [
    {
     "name": "stdout",
     "output_type": "stream",
     "text": [
      "Precision: train 0.46\n",
      "Precision: test 0.17\n",
      "AUC: train 0.92\n",
      "AUC: test 0.91\n"
     ]
    }
   ],
   "source": [
    "evaluate_model(model, interactions, test_interactions, k=5, num_threads=8)"
   ]
  },
  {
   "cell_type": "code",
   "execution_count": 26,
   "id": "political-moses",
   "metadata": {},
   "outputs": [
    {
     "name": "stderr",
     "output_type": "stream",
     "text": [
      "Epoch: 100%|██████████| 20/20 [11:35<00:00, 34.78s/it]\n"
     ]
    },
    {
     "data": {
      "text/plain": [
       "<lightfm.lightfm.LightFM at 0x7fa19c7c53d0>"
      ]
     },
     "execution_count": 26,
     "metadata": {},
     "output_type": "execute_result"
    }
   ],
   "source": [
    "id_features_model = LightFM(loss = 'warp-kos')\n",
    "id_features_model.fit(interactions, verbose=True, item_features = id_item_features,\n",
    "                      epochs=20, num_threads=8)"
   ]
  },
  {
   "cell_type": "code",
   "execution_count": 27,
   "id": "average-mercy",
   "metadata": {},
   "outputs": [
    {
     "name": "stdout",
     "output_type": "stream",
     "text": [
      "Precision: train 0.46\n",
      "Precision: test 0.17\n",
      "AUC: train 0.91\n",
      "AUC: test 0.90\n"
     ]
    }
   ],
   "source": [
    "evaluate_model(id_features_model, interactions, test_interactions, k=5,\n",
    "               num_threads=8, item_features = id_item_features)"
   ]
  },
  {
   "cell_type": "markdown",
   "id": "aerial-opening",
   "metadata": {},
   "source": [
    "#### k-OS WARP with best hyperparameters (for WARP)"
   ]
  },
  {
   "cell_type": "code",
   "execution_count": 44,
   "id": "sporting-civilian",
   "metadata": {},
   "outputs": [
    {
     "name": "stderr",
     "output_type": "stream",
     "text": [
      "Epoch: 100%|██████████| 49/49 [42:32<00:00, 52.09s/it] \n"
     ]
    },
    {
     "data": {
      "text/plain": [
       "<lightfm.lightfm.LightFM at 0x7f3fc57851c0>"
      ]
     },
     "execution_count": 44,
     "metadata": {},
     "output_type": "execute_result"
    }
   ],
   "source": [
    "model = LightFM(loss='warp-kos', **best_params_so_far)\n",
    "model.fit(interactions, verbose=True, item_features = id_item_features,\n",
    "                      epochs=best_epochs_so_far, num_threads=8)"
   ]
  },
  {
   "cell_type": "code",
   "execution_count": 45,
   "id": "ready-asbestos",
   "metadata": {},
   "outputs": [
    {
     "name": "stdout",
     "output_type": "stream",
     "text": [
      "Precision: train 0.69\n",
      "Precision: test 0.19\n",
      "AUC: train 0.94\n",
      "AUC: test 0.91\n"
     ]
    }
   ],
   "source": [
    "evaluate_model(model, interactions, test_interactions, k=5, num_threads=8, item_features = id_item_features)"
   ]
  },
  {
   "cell_type": "code",
   "execution_count": 46,
   "id": "infrared-reminder",
   "metadata": {},
   "outputs": [
    {
     "name": "stderr",
     "output_type": "stream",
     "text": [
      "100%|██████████| 24757/24757 [02:19<00:00, 177.56it/s]\n"
     ]
    },
    {
     "name": "stdout",
     "output_type": "stream",
     "text": [
      "Diversity: {'category': 0.2360823393864554, 'mechanic': 0.20801886645890363}\n",
      "Coverage: 2724\n"
     ]
    }
   ],
   "source": [
    "no_users = len(df['bgg_user_name'].unique())/10\n",
    "evaluate_diversity_and_coverage(model, int(no_users), dataset, games_df, known, 'data/top10_warp-kos.csv.gz', item_features = id_item_features, N = 10)"
   ]
  },
  {
   "cell_type": "markdown",
   "id": "quarterly-beast",
   "metadata": {},
   "source": [
    "### BPR model"
   ]
  },
  {
   "cell_type": "code",
   "execution_count": 28,
   "id": "czech-material",
   "metadata": {},
   "outputs": [
    {
     "name": "stderr",
     "output_type": "stream",
     "text": [
      "Epoch: 100%|██████████| 20/20 [01:40<00:00,  5.01s/it]\n"
     ]
    },
    {
     "data": {
      "text/plain": [
       "<lightfm.lightfm.LightFM at 0x7fa19c88c220>"
      ]
     },
     "execution_count": 28,
     "metadata": {},
     "output_type": "execute_result"
    }
   ],
   "source": [
    "model = LightFM(loss = 'bpr')\n",
    "model.fit(interactions, verbose=True, epochs=20, num_threads=8)"
   ]
  },
  {
   "cell_type": "code",
   "execution_count": 29,
   "id": "weird-egypt",
   "metadata": {},
   "outputs": [
    {
     "name": "stdout",
     "output_type": "stream",
     "text": [
      "Precision: train 0.45\n",
      "Precision: test 0.13\n",
      "AUC: train 0.90\n",
      "AUC: test 0.87\n"
     ]
    }
   ],
   "source": [
    "evaluate_model(model, interactions, test_interactions, k=5, num_threads=8)"
   ]
  },
  {
   "cell_type": "code",
   "execution_count": 30,
   "id": "under-lodging",
   "metadata": {},
   "outputs": [
    {
     "name": "stderr",
     "output_type": "stream",
     "text": [
      "Epoch: 100%|██████████| 20/20 [14:18<00:00, 42.94s/it]\n"
     ]
    },
    {
     "data": {
      "text/plain": [
       "<lightfm.lightfm.LightFM at 0x7fa19c88c4f0>"
      ]
     },
     "execution_count": 30,
     "metadata": {},
     "output_type": "execute_result"
    }
   ],
   "source": [
    "id_features_model = LightFM(loss = 'bpr')\n",
    "id_features_model.fit(interactions, verbose=True, item_features = id_item_features,\n",
    "                      epochs=20, num_threads=8)"
   ]
  },
  {
   "cell_type": "code",
   "execution_count": 31,
   "id": "broke-catering",
   "metadata": {},
   "outputs": [
    {
     "name": "stdout",
     "output_type": "stream",
     "text": [
      "Precision: train 0.41\n",
      "Precision: test 0.12\n",
      "AUC: train 0.90\n",
      "AUC: test 0.86\n"
     ]
    }
   ],
   "source": [
    "evaluate_model(id_features_model, interactions, test_interactions, k=5,\n",
    "               num_threads=8, item_features = id_item_features)"
   ]
  },
  {
   "cell_type": "markdown",
   "id": "natural-segment",
   "metadata": {},
   "source": [
    "#### BPR with best hyperparameters (for WARP)"
   ]
  },
  {
   "cell_type": "code",
   "execution_count": null,
   "id": "looking-replica",
   "metadata": {},
   "outputs": [],
   "source": [
    "model = LightFM(loss='bpr', no_components = 71)\n",
    "model.fit(interactions, verbose=True, item_features = id_item_features,\n",
    "                      epochs=5, num_threads=8)\n",
    "evaluate_model(model, interactions, test_interactions, k=5, num_threads=8, item_features = id_item_features)"
   ]
  },
  {
   "cell_type": "code",
   "execution_count": 41,
   "id": "sealed-accent",
   "metadata": {},
   "outputs": [
    {
     "name": "stderr",
     "output_type": "stream",
     "text": [
      "Epoch: 100%|██████████| 49/49 [1:25:20<00:00, 104.51s/it]\n"
     ]
    },
    {
     "data": {
      "text/plain": [
       "<lightfm.lightfm.LightFM at 0x7f3fbbe4e9a0>"
      ]
     },
     "execution_count": 41,
     "metadata": {},
     "output_type": "execute_result"
    }
   ],
   "source": [
    "model = LightFM(loss='bpr', **best_params_so_far)\n",
    "model.fit(interactions, verbose=True, item_features = id_item_features,\n",
    "                      epochs=best_epochs_so_far, num_threads=8)"
   ]
  },
  {
   "cell_type": "code",
   "execution_count": 42,
   "id": "authorized-vessel",
   "metadata": {},
   "outputs": [
    {
     "name": "stdout",
     "output_type": "stream",
     "text": [
      "Precision: train 0.00\n",
      "Precision: test 0.00\n",
      "AUC: train 0.18\n",
      "AUC: test 0.21\n"
     ]
    }
   ],
   "source": [
    "evaluate_model(model, interactions, test_interactions, k=5, num_threads=8, item_features = id_item_features)"
   ]
  },
  {
   "cell_type": "code",
   "execution_count": 43,
   "id": "vietnamese-immune",
   "metadata": {},
   "outputs": [
    {
     "name": "stderr",
     "output_type": "stream",
     "text": [
      "100%|██████████| 24757/24757 [02:39<00:00, 155.21it/s]\n"
     ]
    },
    {
     "name": "stdout",
     "output_type": "stream",
     "text": [
      "Diversity: {'category': 0.2438473389921465, 'mechanic': 0.1611749723798841}\n",
      "Coverage: 1828\n"
     ]
    }
   ],
   "source": [
    "no_users = len(df['bgg_user_name'].unique())/10\n",
    "evaluate_diversity_and_coverage(model, int(no_users), dataset, games_df, known, 'data/top10_bpr.csv.gz', item_features = id_item_features, N = 10)"
   ]
  },
  {
   "cell_type": "markdown",
   "id": "cheap-google",
   "metadata": {},
   "source": [
    "#### What causes precision to be 0?"
   ]
  },
  {
   "cell_type": "code",
   "execution_count": 47,
   "id": "roman-tragedy",
   "metadata": {},
   "outputs": [
    {
     "data": {
      "text/plain": [
       "{'no_components': 71,\n",
       " 'learning_schedule': 'adadelta',\n",
       " 'learning_rate': 0.05652168855133591,\n",
       " 'item_alpha': 2.816672985617472e-06,\n",
       " 'max_sampled': 9,\n",
       " 'rho': 0.9369181237831744,\n",
       " 'epsilon': 2.0854895195545605e-06}"
      ]
     },
     "execution_count": 47,
     "metadata": {},
     "output_type": "execute_result"
    }
   ],
   "source": [
    "best_params_so_far"
   ]
  },
  {
   "cell_type": "code",
   "execution_count": 50,
   "id": "brilliant-vision",
   "metadata": {},
   "outputs": [
    {
     "name": "stderr",
     "output_type": "stream",
     "text": [
      "Epoch: 100%|██████████| 5/5 [08:26<00:00, 101.29s/it]\n"
     ]
    },
    {
     "name": "stdout",
     "output_type": "stream",
     "text": [
      "Precision: train 0.44\n",
      "Precision: test 0.12\n",
      "AUC: train 0.90\n",
      "AUC: test 0.86\n"
     ]
    }
   ],
   "source": [
    "model = LightFM(loss='bpr', no_components = 71)\n",
    "model.fit(interactions, verbose=True, item_features = id_item_features,\n",
    "                      epochs=5, num_threads=8)\n",
    "evaluate_model(model, interactions, test_interactions, k=5, num_threads=8, item_features = id_item_features)"
   ]
  },
  {
   "cell_type": "code",
   "execution_count": 51,
   "id": "burning-selection",
   "metadata": {},
   "outputs": [
    {
     "name": "stderr",
     "output_type": "stream",
     "text": [
      "Epoch: 100%|██████████| 5/5 [08:35<00:00, 103.06s/it]\n"
     ]
    },
    {
     "name": "stdout",
     "output_type": "stream",
     "text": [
      "Precision: train 0.57\n",
      "Precision: test 0.12\n",
      "AUC: train 0.94\n",
      "AUC: test 0.87\n"
     ]
    }
   ],
   "source": [
    "model = LightFM(loss='bpr', no_components = 71, learning_schedule = 'adadelta')\n",
    "model.fit(interactions, verbose=True, item_features = id_item_features,\n",
    "                      epochs=5, num_threads=8)\n",
    "evaluate_model(model, interactions, test_interactions, k=5, num_threads=8, item_features = id_item_features)"
   ]
  },
  {
   "cell_type": "markdown",
   "id": "bored-reward",
   "metadata": {},
   "source": [
    "#### Item_alpha is to big for bpr?"
   ]
  },
  {
   "cell_type": "code",
   "execution_count": 52,
   "id": "broke-selling",
   "metadata": {},
   "outputs": [
    {
     "name": "stderr",
     "output_type": "stream",
     "text": [
      "Epoch: 100%|██████████| 5/5 [08:35<00:00, 103.06s/it]\n"
     ]
    },
    {
     "name": "stdout",
     "output_type": "stream",
     "text": [
      "Precision: train 0.15\n",
      "Precision: test 0.04\n",
      "AUC: train 0.84\n",
      "AUC: test 0.83\n"
     ]
    }
   ],
   "source": [
    "model = LightFM(loss='bpr', no_components = 71, learning_schedule = 'adadelta', item_alpha = 2.816672985617472e-06)\n",
    "model.fit(interactions, verbose=True, item_features = id_item_features,\n",
    "                      epochs=5, num_threads=8)\n",
    "evaluate_model(model, interactions, test_interactions, k=5, num_threads=8, item_features = id_item_features)"
   ]
  },
  {
   "cell_type": "code",
   "execution_count": 54,
   "id": "periodic-qatar",
   "metadata": {},
   "outputs": [
    {
     "name": "stderr",
     "output_type": "stream",
     "text": [
      "Epoch: 100%|██████████| 5/5 [08:39<00:00, 103.98s/it]\n"
     ]
    },
    {
     "name": "stdout",
     "output_type": "stream",
     "text": [
      "Precision: train 0.57\n",
      "Precision: test 0.12\n",
      "AUC: train 0.94\n",
      "AUC: test 0.87\n"
     ]
    }
   ],
   "source": [
    "model = LightFM(loss='bpr', no_components = 71, learning_schedule = 'adadelta', max_sampled = 9)\n",
    "model.fit(interactions, verbose=True, item_features = id_item_features,\n",
    "                      epochs=5, num_threads=8)\n",
    "evaluate_model(model, interactions, test_interactions, k=5, num_threads=8, item_features = id_item_features)"
   ]
  },
  {
   "cell_type": "code",
   "execution_count": 55,
   "id": "decimal-aquatic",
   "metadata": {},
   "outputs": [
    {
     "name": "stderr",
     "output_type": "stream",
     "text": [
      "Epoch: 100%|██████████| 5/5 [08:41<00:00, 104.23s/it]\n"
     ]
    },
    {
     "name": "stdout",
     "output_type": "stream",
     "text": [
      "Precision: train 0.55\n",
      "Precision: test 0.12\n",
      "AUC: train 0.93\n",
      "AUC: test 0.87\n"
     ]
    }
   ],
   "source": [
    "model = LightFM(loss='bpr', no_components = 71, learning_schedule = 'adadelta', max_sampled = 9, rho = 0.9369181237831744)\n",
    "model.fit(interactions, verbose=True, item_features = id_item_features,\n",
    "                      epochs=5, num_threads=8)\n",
    "evaluate_model(model, interactions, test_interactions, k=5, num_threads=8, item_features = id_item_features)"
   ]
  },
  {
   "cell_type": "code",
   "execution_count": 56,
   "id": "attempted-capability",
   "metadata": {},
   "outputs": [
    {
     "name": "stderr",
     "output_type": "stream",
     "text": [
      "Epoch: 100%|██████████| 5/5 [08:40<00:00, 104.18s/it]\n"
     ]
    },
    {
     "name": "stdout",
     "output_type": "stream",
     "text": [
      "Precision: train 0.60\n",
      "Precision: test 0.12\n",
      "AUC: train 0.94\n",
      "AUC: test 0.87\n"
     ]
    }
   ],
   "source": [
    "model = LightFM(loss='bpr', no_components = 71, learning_schedule = 'adadelta', max_sampled = 9, rho = 0.9369181237831744, epsilon = 2.0854895195545605e-06)\n",
    "model.fit(interactions, verbose=True, item_features = id_item_features,\n",
    "                      epochs=5, num_threads=8)\n",
    "evaluate_model(model, interactions, test_interactions, k=5, num_threads=8, item_features = id_item_features)"
   ]
  },
  {
   "cell_type": "code",
   "execution_count": 57,
   "id": "undefined-organ",
   "metadata": {},
   "outputs": [
    {
     "name": "stderr",
     "output_type": "stream",
     "text": [
      "Epoch: 100%|██████████| 20/20 [34:45<00:00, 104.27s/it]\n"
     ]
    },
    {
     "name": "stdout",
     "output_type": "stream",
     "text": [
      "Precision: train 0.78\n",
      "Precision: test 0.12\n",
      "AUC: train 0.96\n",
      "AUC: test 0.83\n"
     ]
    }
   ],
   "source": [
    "model = LightFM(loss='bpr', no_components = 71, learning_schedule = 'adadelta', max_sampled = 9, rho = 0.9369181237831744, epsilon = 2.0854895195545605e-06)\n",
    "model.fit(interactions, verbose=True, item_features = id_item_features,\n",
    "                      epochs=20, num_threads=8)\n",
    "evaluate_model(model, interactions, test_interactions, k=5, num_threads=8, item_features = id_item_features)"
   ]
  },
  {
   "cell_type": "code",
   "execution_count": 58,
   "id": "light-memorabilia",
   "metadata": {},
   "outputs": [
    {
     "name": "stderr",
     "output_type": "stream",
     "text": [
      "Epoch: 100%|██████████| 5/5 [08:37<00:00, 103.41s/it]\n"
     ]
    },
    {
     "name": "stdout",
     "output_type": "stream",
     "text": [
      "Precision: train 0.59\n",
      "Precision: test 0.12\n",
      "AUC: train 0.94\n",
      "AUC: test 0.87\n"
     ]
    }
   ],
   "source": [
    "model = LightFM(loss='bpr', no_components = 71, learning_schedule = 'adadelta', learning_rate = 0.05652168855133591, max_sampled = 9, rho = 0.9369181237831744, epsilon = 2.0854895195545605e-06)\n",
    "model.fit(interactions, verbose=True, item_features = id_item_features,\n",
    "                      epochs=5, num_threads=8)\n",
    "evaluate_model(model, interactions, test_interactions, k=5, num_threads=8, item_features = id_item_features)"
   ]
  },
  {
   "cell_type": "markdown",
   "id": "skilled-allen",
   "metadata": {},
   "source": [
    "### Logistic model"
   ]
  },
  {
   "cell_type": "code",
   "execution_count": 32,
   "id": "impressive-india",
   "metadata": {},
   "outputs": [
    {
     "name": "stderr",
     "output_type": "stream",
     "text": [
      "Epoch: 100%|██████████| 20/20 [01:08<00:00,  3.43s/it]\n"
     ]
    },
    {
     "data": {
      "text/plain": [
       "<lightfm.lightfm.LightFM at 0x7fa19c738b50>"
      ]
     },
     "execution_count": 32,
     "metadata": {},
     "output_type": "execute_result"
    }
   ],
   "source": [
    "model = LightFM(loss = 'logistic')\n",
    "model.fit(interactions_logistic, verbose=True, epochs=20, num_threads=8)"
   ]
  },
  {
   "cell_type": "code",
   "execution_count": 33,
   "id": "widespread-spirit",
   "metadata": {},
   "outputs": [
    {
     "name": "stdout",
     "output_type": "stream",
     "text": [
      "Precision: train 0.24\n",
      "Precision: test 0.08\n",
      "AUC: train 0.80\n",
      "AUC: test 0.79\n"
     ]
    }
   ],
   "source": [
    "evaluate_model(model, interactions_logistic, test_interactions_logistic, k=5, num_threads=8)"
   ]
  },
  {
   "cell_type": "code",
   "execution_count": 34,
   "id": "jewish-stadium",
   "metadata": {},
   "outputs": [
    {
     "name": "stderr",
     "output_type": "stream",
     "text": [
      "Epoch: 100%|██████████| 20/20 [06:49<00:00, 20.47s/it]\n"
     ]
    },
    {
     "data": {
      "text/plain": [
       "<lightfm.lightfm.LightFM at 0x7fa19c7c50a0>"
      ]
     },
     "execution_count": 34,
     "metadata": {},
     "output_type": "execute_result"
    }
   ],
   "source": [
    "id_features_model = LightFM(loss = 'logistic')\n",
    "id_features_model.fit(interactions_logistic, verbose=True, item_features = id_item_features_logistic,\n",
    "                      epochs=20, num_threads=8)"
   ]
  },
  {
   "cell_type": "code",
   "execution_count": 35,
   "id": "talented-virginia",
   "metadata": {},
   "outputs": [
    {
     "name": "stdout",
     "output_type": "stream",
     "text": [
      "Precision: train 0.06\n",
      "Precision: test 0.01\n",
      "AUC: train 0.67\n",
      "AUC: test 0.67\n"
     ]
    }
   ],
   "source": [
    "evaluate_model(id_features_model, interactions_logistic, test_interactions_logistic, k=5,\n",
    "               num_threads=8, item_features = id_item_features_logistic)"
   ]
  }
 ],
 "metadata": {
  "kernelspec": {
   "display_name": "Python 3",
   "language": "python",
   "name": "python3"
  },
  "language_info": {
   "codemirror_mode": {
    "name": "ipython",
    "version": 3
   },
   "file_extension": ".py",
   "mimetype": "text/x-python",
   "name": "python",
   "nbconvert_exporter": "python",
   "pygments_lexer": "ipython3",
   "version": "3.8.6"
  }
 },
 "nbformat": 4,
 "nbformat_minor": 5
}
