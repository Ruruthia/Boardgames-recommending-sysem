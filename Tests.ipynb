{
  "nbformat": 4,
  "nbformat_minor": 0,
  "metadata": {
    "kernelspec": {
      "display_name": "Python 3",
      "language": "python",
      "name": "python3"
    },
    "language_info": {
      "codemirror_mode": {
        "name": "ipython",
        "version": 3
      },
      "file_extension": ".py",
      "mimetype": "text/x-python",
      "name": "python",
      "nbconvert_exporter": "python",
      "pygments_lexer": "ipython3",
      "version": "3.9.2"
    },
    "colab": {
      "name": "Tests.ipynb",
      "provenance": [],
      "collapsed_sections": [],
      "include_colab_link": true
    }
  },
  "cells": [
    {
      "cell_type": "markdown",
      "metadata": {
        "id": "view-in-github",
        "colab_type": "text"
      },
      "source": [
        "<a href=\"https://colab.research.google.com/github/Ruruthia/Boardgames-recommending-system/blob/master/Tests.ipynb\" target=\"_parent\"><img src=\"https://colab.research.google.com/assets/colab-badge.svg\" alt=\"Open In Colab\"/></a>"
      ]
    },
    {
      "cell_type": "markdown",
      "metadata": {
        "id": "A_LeQBJAdcf8"
      },
      "source": [
        "# Imports"
      ]
    },
    {
      "cell_type": "code",
      "metadata": {
        "colab": {
          "base_uri": "https://localhost:8080/"
        },
        "id": "g_2Vsl3Tdh1s",
        "outputId": "5c5cfbd9-a842-4373-b721-b36b19c5e09f"
      },
      "source": [
        "!pip install surprise"
      ],
      "execution_count": 1,
      "outputs": [
        {
          "output_type": "stream",
          "text": [
            "Requirement already satisfied: surprise in /usr/local/lib/python3.7/dist-packages (0.1)\n",
            "Requirement already satisfied: scikit-surprise in /usr/local/lib/python3.7/dist-packages (from surprise) (1.1.1)\n",
            "Requirement already satisfied: six>=1.10.0 in /usr/local/lib/python3.7/dist-packages (from scikit-surprise->surprise) (1.15.0)\n",
            "Requirement already satisfied: scipy>=1.0.0 in /usr/local/lib/python3.7/dist-packages (from scikit-surprise->surprise) (1.4.1)\n",
            "Requirement already satisfied: joblib>=0.11 in /usr/local/lib/python3.7/dist-packages (from scikit-surprise->surprise) (1.0.1)\n",
            "Requirement already satisfied: numpy>=1.11.2 in /usr/local/lib/python3.7/dist-packages (from scikit-surprise->surprise) (1.19.5)\n"
          ],
          "name": "stdout"
        }
      ]
    },
    {
      "cell_type": "code",
      "metadata": {
        "id": "AfWg2nFadcf-"
      },
      "source": [
        "from __future__ import (absolute_import, division, print_function,\n",
        "                        unicode_literals)\n",
        "import pickle\n",
        "import os\n",
        "\n",
        "from google.colab import drive\n",
        "\n",
        "import pandas as pd\n",
        "import numpy as np\n",
        "\n",
        "from surprise import SVD\n",
        "from surprise import NMF\n",
        "from surprise.dataset import DatasetAutoFolds\n",
        "from surprise import Reader\n",
        "from surprise.model_selection import cross_validate\n",
        "from surprise import dump\n",
        "from surprise.accuracy import rmse\n",
        "from surprise.accuracy import mae"
      ],
      "execution_count": 2,
      "outputs": []
    },
    {
      "cell_type": "markdown",
      "metadata": {
        "id": "pCHlMBUy6NZo"
      },
      "source": [
        "# Preparing dataset"
      ]
    },
    {
      "cell_type": "code",
      "metadata": {
        "colab": {
          "base_uri": "https://localhost:8080/"
        },
        "id": "VJGAhQXIhwsM",
        "outputId": "c57b0f82-b242-4094-ea32-cd25f044a16d"
      },
      "source": [
        "drive.mount('/content/drive')"
      ],
      "execution_count": 3,
      "outputs": [
        {
          "output_type": "stream",
          "text": [
            "Drive already mounted at /content/drive; to attempt to forcibly remount, call drive.mount(\"/content/drive\", force_remount=True).\n"
          ],
          "name": "stdout"
        }
      ]
    },
    {
      "cell_type": "code",
      "metadata": {
        "id": "EodQLoqSdcf-"
      },
      "source": [
        "ratings_df = pd.read_csv('/content/drive/My Drive/ratings.csv.gz', compression='gzip')[['bgg_user_name', 'bgg_id', 'bgg_user_rating']]"
      ],
      "execution_count": 4,
      "outputs": []
    },
    {
      "cell_type": "code",
      "metadata": {
        "id": "6Zi_hzB6dcf_"
      },
      "source": [
        "ratings_df = ratings_df[ratings_df['bgg_user_rating']>=1]"
      ],
      "execution_count": 5,
      "outputs": []
    },
    {
      "cell_type": "code",
      "metadata": {
        "id": "RkwaFEEJ0VU7"
      },
      "source": [
        "users = ratings_df['bgg_user_name'].unique()\n",
        "np.random.shuffle(users)\n",
        "train_size = int(0.7*users.shape[0])\n",
        "train_df = ratings_df[ratings_df['bgg_user_name'].isin(users[:train_size])]\n",
        "test_df = ratings_df[ratings_df['bgg_user_name'].isin(users[train_size:])]"
      ],
      "execution_count": 6,
      "outputs": []
    },
    {
      "cell_type": "code",
      "metadata": {
        "id": "twMmoPze4i8K"
      },
      "source": [
        "def split_test(test_df, seed=42, frac=0.8):\n",
        "    grouped = test_df.groupby(by='bgg_user_name')\n",
        "    test_known = []\n",
        "    test_unknown = []\n",
        "    for user, df in grouped:\n",
        "        df_size = df.shape[0]\n",
        "\n",
        "        known_size = int(round(frac*df_size))\n",
        "        known_indices = np.random.choice(df_size, known_size, replace=False)\n",
        "        known_data = df.iloc[known_indices]\n",
        "        test_known.append(known_data)\n",
        "\n",
        "        unknown_indices = np.setdiff1d(np.arange(df_size), known_indices)\n",
        "        unknown_data = df.iloc[unknown_indices]\n",
        "        test_unknown.append(unknown_data)\n",
        "\n",
        "    return pd.concat(test_known), pd.concat(test_unknown)"
      ],
      "execution_count": 7,
      "outputs": []
    },
    {
      "cell_type": "code",
      "metadata": {
        "id": "C-wKlZ8DUijg"
      },
      "source": [
        "def get_errors(model, df):\n",
        "    errors = []\n",
        "    for _, rating in df.iterrows():\n",
        "        est = model.predict(uid=rating['bgg_user_name'], iid=rating['bgg_id'])[3]\n",
        "        err = est - rating['bgg_user_rating']\n",
        "        errors.append(err)\n",
        "    return errors"
      ],
      "execution_count": null,
      "outputs": []
    },
    {
      "cell_type": "code",
      "metadata": {
        "id": "F9rLrIE7JYaZ"
      },
      "source": [
        "test_known, test_unknown = split_test(test_df)"
      ],
      "execution_count": 8,
      "outputs": []
    },
    {
      "cell_type": "code",
      "metadata": {
        "id": "MuhoAR16dcf_"
      },
      "source": [
        "reader = Reader(rating_scale=(1,10))\n",
        "data = DatasetAutoFolds.load_from_df(train_df.append(test_known), reader).build_full_trainset()"
      ],
      "execution_count": 10,
      "outputs": []
    },
    {
      "cell_type": "markdown",
      "metadata": {
        "id": "7bKvzart6QVS"
      },
      "source": [
        "# Tests"
      ]
    },
    {
      "cell_type": "markdown",
      "metadata": {
        "id": "GzYJlcPm6ToE"
      },
      "source": [
        "## SVD"
      ]
    },
    {
      "cell_type": "code",
      "metadata": {
        "id": "w06kSHNKdcgA"
      },
      "source": [
        "algo = SVD()"
      ],
      "execution_count": 11,
      "outputs": []
    },
    {
      "cell_type": "code",
      "metadata": {
        "colab": {
          "base_uri": "https://localhost:8080/"
        },
        "id": "lmj6QRW68A3h",
        "outputId": "2d67100c-dd8d-4fd9-fb76-b24f6cea3981"
      },
      "source": [
        "algo.fit(data)"
      ],
      "execution_count": 12,
      "outputs": [
        {
          "output_type": "execute_result",
          "data": {
            "text/plain": [
              "<surprise.prediction_algorithms.matrix_factorization.SVD at 0x7f17454eef50>"
            ]
          },
          "metadata": {
            "tags": []
          },
          "execution_count": 12
        }
      ]
    },
    {
      "cell_type": "code",
      "metadata": {
        "id": "UYCqueEKWH76"
      },
      "source": [
        "errors = get_errors(algo, test_unknown)"
      ],
      "execution_count": null,
      "outputs": []
    },
    {
      "cell_type": "markdown",
      "metadata": {
        "id": "QCEXfEBr7d_o"
      },
      "source": [
        "# NMF"
      ]
    },
    {
      "cell_type": "code",
      "metadata": {
        "id": "Khw4zRzo5553"
      },
      "source": [
        "algo = NMF()"
      ],
      "execution_count": null,
      "outputs": []
    },
    {
      "cell_type": "code",
      "metadata": {
        "id": "yd1_hlKy8MFw",
        "colab": {
          "base_uri": "https://localhost:8080/"
        },
        "outputId": "b971af7c-8bbf-4612-b392-db0ee5dd3ed1"
      },
      "source": [
        "cross_validate(algo, data, measures=['RMSE', 'MAE'], cv=5, verbose=True)"
      ],
      "execution_count": null,
      "outputs": [
        {
          "output_type": "stream",
          "text": [
            "Evaluating RMSE, MAE of algorithm NMF on 5 split(s).\n",
            "\n",
            "                  Fold 1  Fold 2  Fold 3  Fold 4  Fold 5  Mean    Std     \n",
            "RMSE (testset)    1.8688  1.8569  1.8721  1.8747  1.8691  1.8683  0.0061  \n",
            "MAE (testset)     1.5952  1.5826  1.5988  1.6015  1.5957  1.5948  0.0065  \n",
            "Fit time          1062.20 1097.89 1107.79 1087.02 1078.93 1086.76 15.69   \n",
            "Test time         74.65   73.51   62.34   70.71   74.31   71.10   4.60    \n"
          ],
          "name": "stdout"
        },
        {
          "output_type": "execute_result",
          "data": {
            "text/plain": [
              "{'fit_time': (1062.197312116623,\n",
              "  1097.8854765892029,\n",
              "  1107.786484003067,\n",
              "  1087.024235010147,\n",
              "  1078.9255058765411),\n",
              " 'test_mae': array([1.59524015, 1.58262809, 1.59881711, 1.60151788, 1.59570603]),\n",
              " 'test_rmse': array([1.86880646, 1.85686863, 1.87213347, 1.87465722, 1.8691067 ]),\n",
              " 'test_time': (74.64638924598694,\n",
              "  73.50714683532715,\n",
              "  62.339067697525024,\n",
              "  70.71038246154785,\n",
              "  74.31465744972229)}"
            ]
          },
          "metadata": {
            "tags": []
          },
          "execution_count": 10
        }
      ]
    },
    {
      "cell_type": "code",
      "metadata": {
        "id": "ARi-PH3F5_ge"
      },
      "source": [
        ""
      ],
      "execution_count": null,
      "outputs": []
    }
  ]
}