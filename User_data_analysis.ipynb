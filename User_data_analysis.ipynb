{
 "cells": [
  {
   "cell_type": "code",
   "execution_count": 1,
   "metadata": {},
   "outputs": [],
   "source": [
    "import pandas as pd\n",
    "import seaborn as sns\n",
    "import matplotlib.pyplot as plt\n",
    "import numpy as np"
   ]
  },
  {
   "cell_type": "code",
   "execution_count": 2,
   "metadata": {},
   "outputs": [],
   "source": [
    "pd.set_option('display.max_rows', None)\n",
    "sns.set(rc={'figure.figsize':(18,8)})"
   ]
  },
  {
   "cell_type": "markdown",
   "metadata": {},
   "source": [
    "100,056 wpisów  \n",
    "\n",
    "Complexity <- głosy użytkowników, mało konkretne - wargames ze score ~3 jest podobna do gier z innych kategorii ze score ~4.5  \n",
    "\n",
    "Wiedza dziedzinowa:\n",
    "* liczba graczy\n",
    "* designer"
   ]
  },
  {
   "cell_type": "code",
   "execution_count": 3,
   "metadata": {},
   "outputs": [],
   "source": [
    "games_df = pd.read_json('~/recommend.games/data/bgg_GameItem.jl', lines = True)"
   ]
  },
  {
   "cell_type": "code",
   "execution_count": 75,
   "metadata": {},
   "outputs": [
    {
     "data": {
      "text/plain": [
       "Index(['add_rank', 'alt_name', 'artist', 'avg_rating', 'bayes_rating',\n",
       "       'best_rating', 'bgg_id', 'category', 'compilation', 'complexity',\n",
       "       'cooperative', 'description', 'designer', 'easiest_complexity',\n",
       "       'family', 'game_type', 'hardest_complexity',\n",
       "       'highest_language_dependency', 'image_file', 'image_url',\n",
       "       'language_dependency', 'lowest_language_dependency', 'max_players',\n",
       "       'max_players_best', 'max_players_rec', 'max_time', 'mechanic',\n",
       "       'min_age', 'min_age_rec', 'min_players', 'min_players_best',\n",
       "       'min_players_rec', 'min_time', 'name', 'num_votes', 'publisher', 'rank',\n",
       "       'stddev_rating', 'url', 'video_url', 'worst_rating', 'year',\n",
       "       'implementation', 'expansion', 'integration', 'compilation_of'],\n",
       "      dtype='object')"
      ]
     },
     "execution_count": 75,
     "metadata": {},
     "output_type": "execute_result"
    }
   ],
   "source": [
    "games_df.columns"
   ]
  },
  {
   "cell_type": "code",
   "execution_count": 76,
   "metadata": {},
   "outputs": [
    {
     "data": {
      "text/html": [
       "<div>\n",
       "<style scoped>\n",
       "    .dataframe tbody tr th:only-of-type {\n",
       "        vertical-align: middle;\n",
       "    }\n",
       "\n",
       "    .dataframe tbody tr th {\n",
       "        vertical-align: top;\n",
       "    }\n",
       "\n",
       "    .dataframe thead th {\n",
       "        text-align: right;\n",
       "    }\n",
       "</style>\n",
       "<table border=\"1\" class=\"dataframe\">\n",
       "  <thead>\n",
       "    <tr style=\"text-align: right;\">\n",
       "      <th></th>\n",
       "      <th>name</th>\n",
       "      <th>category</th>\n",
       "      <th>mechanic</th>\n",
       "      <th>year</th>\n",
       "      <th>avg_rating</th>\n",
       "      <th>num_votes</th>\n",
       "      <th>complexity</th>\n",
       "    </tr>\n",
       "  </thead>\n",
       "  <tbody>\n",
       "    <tr>\n",
       "      <th>0</th>\n",
       "      <td>Die Macher</td>\n",
       "      <td>[Economic:1021, Negotiation:1026, Political:1001]</td>\n",
       "      <td>[Alliances:2916, Area Majority / Influence:208...</td>\n",
       "      <td>1986.0</td>\n",
       "      <td>7.62694</td>\n",
       "      <td>5225.0</td>\n",
       "      <td>4.3245</td>\n",
       "    </tr>\n",
       "    <tr>\n",
       "      <th>1</th>\n",
       "      <td>Dragonmaster</td>\n",
       "      <td>[Card Game:1002, Fantasy:1010]</td>\n",
       "      <td>[Trick-taking:2009]</td>\n",
       "      <td>1981.0</td>\n",
       "      <td>6.63055</td>\n",
       "      <td>553.0</td>\n",
       "      <td>1.9630</td>\n",
       "    </tr>\n",
       "    <tr>\n",
       "      <th>2</th>\n",
       "      <td>Samurai</td>\n",
       "      <td>[Abstract Strategy:1009, Medieval:1035]</td>\n",
       "      <td>[Area Majority / Influence:2080, Hand Manageme...</td>\n",
       "      <td>1998.0</td>\n",
       "      <td>7.45016</td>\n",
       "      <td>14768.0</td>\n",
       "      <td>2.4885</td>\n",
       "    </tr>\n",
       "    <tr>\n",
       "      <th>3</th>\n",
       "      <td>Tal der Könige</td>\n",
       "      <td>[Ancient:1050]</td>\n",
       "      <td>[Action Points:2001, Area Majority / Influence...</td>\n",
       "      <td>1992.0</td>\n",
       "      <td>6.59888</td>\n",
       "      <td>339.0</td>\n",
       "      <td>2.6667</td>\n",
       "    </tr>\n",
       "    <tr>\n",
       "      <th>4</th>\n",
       "      <td>Acquire</td>\n",
       "      <td>[Economic:1021, Territory Building:1086]</td>\n",
       "      <td>[Hand Management:2040, Investment:2910, Market...</td>\n",
       "      <td>1964.0</td>\n",
       "      <td>7.33927</td>\n",
       "      <td>18216.0</td>\n",
       "      <td>2.5041</td>\n",
       "    </tr>\n",
       "    <tr>\n",
       "      <th>...</th>\n",
       "      <td>...</td>\n",
       "      <td>...</td>\n",
       "      <td>...</td>\n",
       "      <td>...</td>\n",
       "      <td>...</td>\n",
       "      <td>...</td>\n",
       "      <td>...</td>\n",
       "    </tr>\n",
       "    <tr>\n",
       "      <th>95</th>\n",
       "      <td>Extrablatt</td>\n",
       "      <td>[Territory Building:1086]</td>\n",
       "      <td>[Area Majority / Influence:2080, Set Collectio...</td>\n",
       "      <td>1991.0</td>\n",
       "      <td>7.01340</td>\n",
       "      <td>256.0</td>\n",
       "      <td>2.9000</td>\n",
       "    </tr>\n",
       "    <tr>\n",
       "      <th>96</th>\n",
       "      <td>Colossal Arena</td>\n",
       "      <td>[Card Game:1002, Fantasy:1010, Mythology:1082]</td>\n",
       "      <td>[Betting and Bluffing:2014, Hand Management:2040]</td>\n",
       "      <td>1997.0</td>\n",
       "      <td>6.77071</td>\n",
       "      <td>6971.0</td>\n",
       "      <td>2.0205</td>\n",
       "    </tr>\n",
       "    <tr>\n",
       "      <th>97</th>\n",
       "      <td>Mystery Rummy: Jack the Ripper</td>\n",
       "      <td>[Card Game:1002, Murder/Mystery:1040]</td>\n",
       "      <td>[Hand Management:2040, Set Collection:2004, Vo...</td>\n",
       "      <td>1998.0</td>\n",
       "      <td>6.94270</td>\n",
       "      <td>3317.0</td>\n",
       "      <td>1.7466</td>\n",
       "    </tr>\n",
       "    <tr>\n",
       "      <th>98</th>\n",
       "      <td>Peaceful Resistance</td>\n",
       "      <td>[Abstract Strategy:1009]</td>\n",
       "      <td>[Grid Movement:2676, Hexagon Grid:2026, Tile P...</td>\n",
       "      <td>1995.0</td>\n",
       "      <td>5.49474</td>\n",
       "      <td>19.0</td>\n",
       "      <td>NaN</td>\n",
       "    </tr>\n",
       "    <tr>\n",
       "      <th>99</th>\n",
       "      <td>TAMSK</td>\n",
       "      <td>[Abstract Strategy:1009, Real-time:1037]</td>\n",
       "      <td>[Action Timer:2834, Enclosure:2043, Grid Movem...</td>\n",
       "      <td>1998.0</td>\n",
       "      <td>6.77154</td>\n",
       "      <td>1353.0</td>\n",
       "      <td>2.2885</td>\n",
       "    </tr>\n",
       "  </tbody>\n",
       "</table>\n",
       "<p>100 rows × 7 columns</p>\n",
       "</div>"
      ],
      "text/plain": [
       "                              name  \\\n",
       "0                       Die Macher   \n",
       "1                     Dragonmaster   \n",
       "2                          Samurai   \n",
       "3                   Tal der Könige   \n",
       "4                          Acquire   \n",
       "..                             ...   \n",
       "95                      Extrablatt   \n",
       "96                  Colossal Arena   \n",
       "97  Mystery Rummy: Jack the Ripper   \n",
       "98             Peaceful Resistance   \n",
       "99                           TAMSK   \n",
       "\n",
       "                                             category  \\\n",
       "0   [Economic:1021, Negotiation:1026, Political:1001]   \n",
       "1                      [Card Game:1002, Fantasy:1010]   \n",
       "2             [Abstract Strategy:1009, Medieval:1035]   \n",
       "3                                      [Ancient:1050]   \n",
       "4            [Economic:1021, Territory Building:1086]   \n",
       "..                                                ...   \n",
       "95                          [Territory Building:1086]   \n",
       "96     [Card Game:1002, Fantasy:1010, Mythology:1082]   \n",
       "97              [Card Game:1002, Murder/Mystery:1040]   \n",
       "98                           [Abstract Strategy:1009]   \n",
       "99           [Abstract Strategy:1009, Real-time:1037]   \n",
       "\n",
       "                                             mechanic    year  avg_rating  \\\n",
       "0   [Alliances:2916, Area Majority / Influence:208...  1986.0     7.62694   \n",
       "1                                 [Trick-taking:2009]  1981.0     6.63055   \n",
       "2   [Area Majority / Influence:2080, Hand Manageme...  1998.0     7.45016   \n",
       "3   [Action Points:2001, Area Majority / Influence...  1992.0     6.59888   \n",
       "4   [Hand Management:2040, Investment:2910, Market...  1964.0     7.33927   \n",
       "..                                                ...     ...         ...   \n",
       "95  [Area Majority / Influence:2080, Set Collectio...  1991.0     7.01340   \n",
       "96  [Betting and Bluffing:2014, Hand Management:2040]  1997.0     6.77071   \n",
       "97  [Hand Management:2040, Set Collection:2004, Vo...  1998.0     6.94270   \n",
       "98  [Grid Movement:2676, Hexagon Grid:2026, Tile P...  1995.0     5.49474   \n",
       "99  [Action Timer:2834, Enclosure:2043, Grid Movem...  1998.0     6.77154   \n",
       "\n",
       "    num_votes  complexity  \n",
       "0      5225.0      4.3245  \n",
       "1       553.0      1.9630  \n",
       "2     14768.0      2.4885  \n",
       "3       339.0      2.6667  \n",
       "4     18216.0      2.5041  \n",
       "..        ...         ...  \n",
       "95      256.0      2.9000  \n",
       "96     6971.0      2.0205  \n",
       "97     3317.0      1.7466  \n",
       "98       19.0         NaN  \n",
       "99     1353.0      2.2885  \n",
       "\n",
       "[100 rows x 7 columns]"
      ]
     },
     "execution_count": 76,
     "metadata": {},
     "output_type": "execute_result"
    }
   ],
   "source": [
    "games_df[['name', 'category', 'mechanic', 'year', 'avg_rating', 'num_votes', 'complexity']].head(100)"
   ]
  },
  {
   "cell_type": "code",
   "execution_count": 77,
   "metadata": {},
   "outputs": [],
   "source": [
    "sorted_games_df = games_df.sort_values(by='num_votes', ascending=False).reset_index(drop=True)"
   ]
  },
  {
   "cell_type": "code",
   "execution_count": 78,
   "metadata": {},
   "outputs": [],
   "source": [
    "indices = np.unique(np.geomspace(start=1, stop=sorted_games_df['name'].size, num=2000, dtype=int))-1"
   ]
  },
  {
   "cell_type": "code",
   "execution_count": 79,
   "metadata": {},
   "outputs": [],
   "source": [
    "df = sorted_games_df[:500]"
   ]
  },
  {
   "cell_type": "code",
   "execution_count": 80,
   "metadata": {},
   "outputs": [
    {
     "data": {
      "text/plain": [
       "<AxesSubplot:ylabel='num_votes'>"
      ]
     },
     "execution_count": 80,
     "metadata": {},
     "output_type": "execute_result"
    },
    {
     "data": {
      "image/png": "[encoded data removed]",
      "text/plain": [
       "<Figure size 432x288 with 1 Axes>"
      ]
     },
     "metadata": {
      "needs_background": "light"
     },
     "output_type": "display_data"
    }
   ],
   "source": [
    "sns.barplot(data=df, x=df.index, y='num_votes', color=\"red\")"
   ]
  },
  {
   "cell_type": "markdown",
   "metadata": {},
   "source": [
    "374,577 wpisów"
   ]
  },
  {
   "cell_type": "code",
   "execution_count": 60,
   "metadata": {},
   "outputs": [],
   "source": [
    "users_df = pd.read_json('~/recommend.games/data/bgg_UserItem.jl', lines = True)"
   ]
  },
  {
   "cell_type": "code",
   "execution_count": 8,
   "metadata": {},
   "outputs": [
    {
     "data": {
      "text/plain": [
       "Index(['bgg_user_name', 'country', 'first_name', 'item_id', 'last_login',\n",
       "       'last_name', 'region', 'registered', 'updated_at', 'external_link',\n",
       "       'image_file', 'image_url'],\n",
       "      dtype='object')"
      ]
     },
     "execution_count": 8,
     "metadata": {},
     "output_type": "execute_result"
    }
   ],
   "source": [
    "users_df.columns"
   ]
  },
  {
   "cell_type": "code",
   "execution_count": 14,
   "metadata": {},
   "outputs": [
    {
     "data": {
      "text/html": [
       "<div>\n",
       "<style scoped>\n",
       "    .dataframe tbody tr th:only-of-type {\n",
       "        vertical-align: middle;\n",
       "    }\n",
       "\n",
       "    .dataframe tbody tr th {\n",
       "        vertical-align: top;\n",
       "    }\n",
       "\n",
       "    .dataframe thead th {\n",
       "        text-align: right;\n",
       "    }\n",
       "</style>\n",
       "<table border=\"1\" class=\"dataframe\">\n",
       "  <thead>\n",
       "    <tr style=\"text-align: right;\">\n",
       "      <th></th>\n",
       "      <th>bgg_user_name</th>\n",
       "      <th>country</th>\n",
       "      <th>region</th>\n",
       "    </tr>\n",
       "  </thead>\n",
       "  <tbody>\n",
       "    <tr>\n",
       "      <th>0</th>\n",
       "      <td>beastvol</td>\n",
       "      <td>United States</td>\n",
       "      <td>California</td>\n",
       "    </tr>\n",
       "    <tr>\n",
       "      <th>1</th>\n",
       "      <td>fu_koios</td>\n",
       "      <td>United States</td>\n",
       "      <td>Ohio</td>\n",
       "    </tr>\n",
       "    <tr>\n",
       "      <th>2</th>\n",
       "      <td>mycroft</td>\n",
       "      <td>United States</td>\n",
       "      <td>New Mexico</td>\n",
       "    </tr>\n",
       "    <tr>\n",
       "      <th>3</th>\n",
       "      <td>woh</td>\n",
       "      <td>Belgium</td>\n",
       "      <td>NaN</td>\n",
       "    </tr>\n",
       "    <tr>\n",
       "      <th>4</th>\n",
       "      <td>(mostly) harmless</td>\n",
       "      <td>Austria</td>\n",
       "      <td>NaN</td>\n",
       "    </tr>\n",
       "    <tr>\n",
       "      <th>5</th>\n",
       "      <td>- v -</td>\n",
       "      <td>NaN</td>\n",
       "      <td>NaN</td>\n",
       "    </tr>\n",
       "    <tr>\n",
       "      <th>6</th>\n",
       "      <td>-=yod@=-</td>\n",
       "      <td>Spain</td>\n",
       "      <td>NaN</td>\n",
       "    </tr>\n",
       "    <tr>\n",
       "      <th>7</th>\n",
       "      <td>-de-</td>\n",
       "      <td>Poland</td>\n",
       "      <td>NaN</td>\n",
       "    </tr>\n",
       "    <tr>\n",
       "      <th>8</th>\n",
       "      <td>-grizzly-</td>\n",
       "      <td>Czech Republic</td>\n",
       "      <td>Unspecified</td>\n",
       "    </tr>\n",
       "    <tr>\n",
       "      <th>9</th>\n",
       "      <td>-johnny-</td>\n",
       "      <td>Canada</td>\n",
       "      <td>Quebec</td>\n",
       "    </tr>\n",
       "    <tr>\n",
       "      <th>10</th>\n",
       "      <td>-loren-</td>\n",
       "      <td>Spain</td>\n",
       "      <td>NaN</td>\n",
       "    </tr>\n",
       "    <tr>\n",
       "      <th>11</th>\n",
       "      <td>-lucas-</td>\n",
       "      <td>Italy</td>\n",
       "      <td>Unspecified</td>\n",
       "    </tr>\n",
       "    <tr>\n",
       "      <th>12</th>\n",
       "      <td>-mal-</td>\n",
       "      <td>United States</td>\n",
       "      <td>Indiana</td>\n",
       "    </tr>\n",
       "    <tr>\n",
       "      <th>13</th>\n",
       "      <td>-mide-</td>\n",
       "      <td>Finland</td>\n",
       "      <td>NaN</td>\n",
       "    </tr>\n",
       "    <tr>\n",
       "      <th>14</th>\n",
       "      <td>-mik-</td>\n",
       "      <td>Denmark</td>\n",
       "      <td>NaN</td>\n",
       "    </tr>\n",
       "    <tr>\n",
       "      <th>15</th>\n",
       "      <td>-morphling-</td>\n",
       "      <td>United States</td>\n",
       "      <td>Wisconsin</td>\n",
       "    </tr>\n",
       "    <tr>\n",
       "      <th>16</th>\n",
       "      <td>-pedropablo-</td>\n",
       "      <td>Colombia</td>\n",
       "      <td>Unspecified</td>\n",
       "    </tr>\n",
       "    <tr>\n",
       "      <th>17</th>\n",
       "      <td>-pj-</td>\n",
       "      <td>Other-Eastern Europe</td>\n",
       "      <td>Unspecified</td>\n",
       "    </tr>\n",
       "    <tr>\n",
       "      <th>18</th>\n",
       "      <td>-snarf-</td>\n",
       "      <td>Germany</td>\n",
       "      <td>Unspecified</td>\n",
       "    </tr>\n",
       "    <tr>\n",
       "      <th>19</th>\n",
       "      <td>-toni-</td>\n",
       "      <td>Germany</td>\n",
       "      <td>NaN</td>\n",
       "    </tr>\n",
       "    <tr>\n",
       "      <th>20</th>\n",
       "      <td>-xxx-</td>\n",
       "      <td>NaN</td>\n",
       "      <td>NaN</td>\n",
       "    </tr>\n",
       "    <tr>\n",
       "      <th>21</th>\n",
       "      <td>...hammer</td>\n",
       "      <td>Germany</td>\n",
       "      <td>NaN</td>\n",
       "    </tr>\n",
       "    <tr>\n",
       "      <th>22</th>\n",
       "      <td>.::clarté::.</td>\n",
       "      <td>France</td>\n",
       "      <td>Unspecified</td>\n",
       "    </tr>\n",
       "    <tr>\n",
       "      <th>23</th>\n",
       "      <td>.jck.</td>\n",
       "      <td>Italy</td>\n",
       "      <td>NaN</td>\n",
       "    </tr>\n",
       "    <tr>\n",
       "      <th>24</th>\n",
       "      <td>.ryan36@hotmail.com</td>\n",
       "      <td>NaN</td>\n",
       "      <td>NaN</td>\n",
       "    </tr>\n",
       "    <tr>\n",
       "      <th>25</th>\n",
       "      <td>0 1 1 2 3 5 8</td>\n",
       "      <td>United States</td>\n",
       "      <td>Pennsylvania</td>\n",
       "    </tr>\n",
       "    <tr>\n",
       "      <th>26</th>\n",
       "      <td>0 hr</td>\n",
       "      <td>United States</td>\n",
       "      <td>Pennsylvania</td>\n",
       "    </tr>\n",
       "    <tr>\n",
       "      <th>27</th>\n",
       "      <td>000ryuk000</td>\n",
       "      <td>Spain</td>\n",
       "      <td>NaN</td>\n",
       "    </tr>\n",
       "    <tr>\n",
       "      <th>28</th>\n",
       "      <td>000undo000</td>\n",
       "      <td>Poland</td>\n",
       "      <td>NaN</td>\n",
       "    </tr>\n",
       "    <tr>\n",
       "      <th>29</th>\n",
       "      <td>0010</td>\n",
       "      <td>United States</td>\n",
       "      <td>Ohio</td>\n",
       "    </tr>\n",
       "    <tr>\n",
       "      <th>30</th>\n",
       "      <td>005734</td>\n",
       "      <td>United Kingdom</td>\n",
       "      <td>NaN</td>\n",
       "    </tr>\n",
       "    <tr>\n",
       "      <th>31</th>\n",
       "      <td>007_ulf</td>\n",
       "      <td>Germany</td>\n",
       "      <td>NaN</td>\n",
       "    </tr>\n",
       "    <tr>\n",
       "      <th>32</th>\n",
       "      <td>007alex</td>\n",
       "      <td>NaN</td>\n",
       "      <td>NaN</td>\n",
       "    </tr>\n",
       "    <tr>\n",
       "      <th>33</th>\n",
       "      <td>007design</td>\n",
       "      <td>NaN</td>\n",
       "      <td>Illinois</td>\n",
       "    </tr>\n",
       "    <tr>\n",
       "      <th>34</th>\n",
       "      <td>007king_kong</td>\n",
       "      <td>United States</td>\n",
       "      <td>Massachusetts</td>\n",
       "    </tr>\n",
       "    <tr>\n",
       "      <th>35</th>\n",
       "      <td>007mrbond</td>\n",
       "      <td>United States</td>\n",
       "      <td>Illinois</td>\n",
       "    </tr>\n",
       "    <tr>\n",
       "      <th>36</th>\n",
       "      <td>007poptart</td>\n",
       "      <td>NaN</td>\n",
       "      <td>NaN</td>\n",
       "    </tr>\n",
       "    <tr>\n",
       "      <th>37</th>\n",
       "      <td>007purpleroses</td>\n",
       "      <td>United States</td>\n",
       "      <td>Washington</td>\n",
       "    </tr>\n",
       "    <tr>\n",
       "      <th>38</th>\n",
       "      <td>00_fire_00</td>\n",
       "      <td>NaN</td>\n",
       "      <td>NaN</td>\n",
       "    </tr>\n",
       "    <tr>\n",
       "      <th>39</th>\n",
       "      <td>00_mr_floppy</td>\n",
       "      <td>NaN</td>\n",
       "      <td>NaN</td>\n",
       "    </tr>\n",
       "    <tr>\n",
       "      <th>40</th>\n",
       "      <td>00arak00</td>\n",
       "      <td>NaN</td>\n",
       "      <td>NaN</td>\n",
       "    </tr>\n",
       "    <tr>\n",
       "      <th>41</th>\n",
       "      <td>00bogey</td>\n",
       "      <td>Canada</td>\n",
       "      <td>Alberta</td>\n",
       "    </tr>\n",
       "    <tr>\n",
       "      <th>42</th>\n",
       "      <td>00daniel00</td>\n",
       "      <td>Colombia</td>\n",
       "      <td>NaN</td>\n",
       "    </tr>\n",
       "    <tr>\n",
       "      <th>43</th>\n",
       "      <td>00matej00</td>\n",
       "      <td>NaN</td>\n",
       "      <td>NaN</td>\n",
       "    </tr>\n",
       "    <tr>\n",
       "      <th>44</th>\n",
       "      <td>00mccracken</td>\n",
       "      <td>Canada</td>\n",
       "      <td>NaN</td>\n",
       "    </tr>\n",
       "    <tr>\n",
       "      <th>45</th>\n",
       "      <td>00schneider</td>\n",
       "      <td>Germany</td>\n",
       "      <td>NaN</td>\n",
       "    </tr>\n",
       "    <tr>\n",
       "      <th>46</th>\n",
       "      <td>00skip</td>\n",
       "      <td>NaN</td>\n",
       "      <td>NaN</td>\n",
       "    </tr>\n",
       "    <tr>\n",
       "      <th>47</th>\n",
       "      <td>00vito</td>\n",
       "      <td>United States</td>\n",
       "      <td>California</td>\n",
       "    </tr>\n",
       "    <tr>\n",
       "      <th>48</th>\n",
       "      <td>00zaphod</td>\n",
       "      <td>United States</td>\n",
       "      <td>Dist of Columbia</td>\n",
       "    </tr>\n",
       "    <tr>\n",
       "      <th>49</th>\n",
       "      <td>00zero</td>\n",
       "      <td>United States</td>\n",
       "      <td>Tennessee</td>\n",
       "    </tr>\n",
       "    <tr>\n",
       "      <th>50</th>\n",
       "      <td>010dennis</td>\n",
       "      <td>Netherlands</td>\n",
       "      <td>NaN</td>\n",
       "    </tr>\n",
       "    <tr>\n",
       "      <th>51</th>\n",
       "      <td>0112358</td>\n",
       "      <td>NaN</td>\n",
       "      <td>NaN</td>\n",
       "    </tr>\n",
       "    <tr>\n",
       "      <th>52</th>\n",
       "      <td>01151125</td>\n",
       "      <td>Taiwan</td>\n",
       "      <td>NaN</td>\n",
       "    </tr>\n",
       "    <tr>\n",
       "      <th>53</th>\n",
       "      <td>0122lostchild2201</td>\n",
       "      <td>NaN</td>\n",
       "      <td>NaN</td>\n",
       "    </tr>\n",
       "    <tr>\n",
       "      <th>54</th>\n",
       "      <td>015599m</td>\n",
       "      <td>Canada</td>\n",
       "      <td>NS</td>\n",
       "    </tr>\n",
       "    <tr>\n",
       "      <th>55</th>\n",
       "      <td>0165miked</td>\n",
       "      <td>United Kingdom</td>\n",
       "      <td>NaN</td>\n",
       "    </tr>\n",
       "    <tr>\n",
       "      <th>56</th>\n",
       "      <td>01davie</td>\n",
       "      <td>United Kingdom</td>\n",
       "      <td>Kent</td>\n",
       "    </tr>\n",
       "    <tr>\n",
       "      <th>57</th>\n",
       "      <td>01hejazi</td>\n",
       "      <td>Saudi Arabia</td>\n",
       "      <td>NaN</td>\n",
       "    </tr>\n",
       "    <tr>\n",
       "      <th>58</th>\n",
       "      <td>01hoatherm</td>\n",
       "      <td>NaN</td>\n",
       "      <td>NaN</td>\n",
       "    </tr>\n",
       "    <tr>\n",
       "      <th>59</th>\n",
       "      <td>01josepe</td>\n",
       "      <td>United Kingdom</td>\n",
       "      <td>NaN</td>\n",
       "    </tr>\n",
       "    <tr>\n",
       "      <th>60</th>\n",
       "      <td>01lwilliams</td>\n",
       "      <td>United Kingdom</td>\n",
       "      <td>NaN</td>\n",
       "    </tr>\n",
       "    <tr>\n",
       "      <th>61</th>\n",
       "      <td>01neo01</td>\n",
       "      <td>Spain</td>\n",
       "      <td>Vizcaya</td>\n",
       "    </tr>\n",
       "    <tr>\n",
       "      <th>62</th>\n",
       "      <td>01schafi</td>\n",
       "      <td>Austria</td>\n",
       "      <td>NaN</td>\n",
       "    </tr>\n",
       "    <tr>\n",
       "      <th>63</th>\n",
       "      <td>0201strong</td>\n",
       "      <td>China</td>\n",
       "      <td>NaN</td>\n",
       "    </tr>\n",
       "    <tr>\n",
       "      <th>64</th>\n",
       "      <td>0208077t</td>\n",
       "      <td>NaN</td>\n",
       "      <td>NaN</td>\n",
       "    </tr>\n",
       "    <tr>\n",
       "      <th>65</th>\n",
       "      <td>020907</td>\n",
       "      <td>United States</td>\n",
       "      <td>Colorado</td>\n",
       "    </tr>\n",
       "    <tr>\n",
       "      <th>66</th>\n",
       "      <td>02holzem</td>\n",
       "      <td>Austria</td>\n",
       "      <td>Steiermark</td>\n",
       "    </tr>\n",
       "    <tr>\n",
       "      <th>67</th>\n",
       "      <td>02schaberj</td>\n",
       "      <td>United States</td>\n",
       "      <td>Oregon</td>\n",
       "    </tr>\n",
       "    <tr>\n",
       "      <th>68</th>\n",
       "      <td>030670628</td>\n",
       "      <td>NaN</td>\n",
       "      <td>NaN</td>\n",
       "    </tr>\n",
       "    <tr>\n",
       "      <th>69</th>\n",
       "      <td>030caylus</td>\n",
       "      <td>NaN</td>\n",
       "      <td>NaN</td>\n",
       "    </tr>\n",
       "    <tr>\n",
       "      <th>70</th>\n",
       "      <td>0321</td>\n",
       "      <td>United States</td>\n",
       "      <td>NaN</td>\n",
       "    </tr>\n",
       "    <tr>\n",
       "      <th>71</th>\n",
       "      <td>03564783</td>\n",
       "      <td>Taiwan</td>\n",
       "      <td>NaN</td>\n",
       "    </tr>\n",
       "    <tr>\n",
       "      <th>72</th>\n",
       "      <td>041744</td>\n",
       "      <td>United States</td>\n",
       "      <td>Texas</td>\n",
       "    </tr>\n",
       "    <tr>\n",
       "      <th>73</th>\n",
       "      <td>0444287</td>\n",
       "      <td>NaN</td>\n",
       "      <td>NaN</td>\n",
       "    </tr>\n",
       "    <tr>\n",
       "      <th>74</th>\n",
       "      <td>0447603</td>\n",
       "      <td>Australia</td>\n",
       "      <td>NaN</td>\n",
       "    </tr>\n",
       "    <tr>\n",
       "      <th>75</th>\n",
       "      <td>0492372665</td>\n",
       "      <td>Taiwan</td>\n",
       "      <td>NaN</td>\n",
       "    </tr>\n",
       "    <tr>\n",
       "      <th>76</th>\n",
       "      <td>051276</td>\n",
       "      <td>United States</td>\n",
       "      <td>Utah</td>\n",
       "    </tr>\n",
       "    <tr>\n",
       "      <th>77</th>\n",
       "      <td>05blob</td>\n",
       "      <td>NaN</td>\n",
       "      <td>NaN</td>\n",
       "    </tr>\n",
       "    <tr>\n",
       "      <th>78</th>\n",
       "      <td>05emeryge</td>\n",
       "      <td>NaN</td>\n",
       "      <td>NaN</td>\n",
       "    </tr>\n",
       "    <tr>\n",
       "      <th>79</th>\n",
       "      <td>07711eskimoe</td>\n",
       "      <td>NaN</td>\n",
       "      <td>NaN</td>\n",
       "    </tr>\n",
       "    <tr>\n",
       "      <th>80</th>\n",
       "      <td>07734</td>\n",
       "      <td>United States</td>\n",
       "      <td>Ohio</td>\n",
       "    </tr>\n",
       "    <tr>\n",
       "      <th>81</th>\n",
       "      <td>07770</td>\n",
       "      <td>NaN</td>\n",
       "      <td>NaN</td>\n",
       "    </tr>\n",
       "    <tr>\n",
       "      <th>82</th>\n",
       "      <td>0781matt</td>\n",
       "      <td>United Kingdom</td>\n",
       "      <td>Lincolnshire</td>\n",
       "    </tr>\n",
       "    <tr>\n",
       "      <th>83</th>\n",
       "      <td>07cbdj</td>\n",
       "      <td>NaN</td>\n",
       "      <td>NaN</td>\n",
       "    </tr>\n",
       "    <tr>\n",
       "      <th>84</th>\n",
       "      <td>0815spieler</td>\n",
       "      <td>Germany</td>\n",
       "      <td>NRW</td>\n",
       "    </tr>\n",
       "    <tr>\n",
       "      <th>85</th>\n",
       "      <td>08nienhl</td>\n",
       "      <td>United States</td>\n",
       "      <td>Wisconsin</td>\n",
       "    </tr>\n",
       "    <tr>\n",
       "      <th>86</th>\n",
       "      <td>0903810310k</td>\n",
       "      <td>Thailand</td>\n",
       "      <td>Hawaii</td>\n",
       "    </tr>\n",
       "    <tr>\n",
       "      <th>87</th>\n",
       "      <td>096959</td>\n",
       "      <td>NaN</td>\n",
       "      <td>NaN</td>\n",
       "    </tr>\n",
       "    <tr>\n",
       "      <th>88</th>\n",
       "      <td>0992</td>\n",
       "      <td>United States</td>\n",
       "      <td>Oklahoma</td>\n",
       "    </tr>\n",
       "    <tr>\n",
       "      <th>89</th>\n",
       "      <td>0alexis0</td>\n",
       "      <td>NaN</td>\n",
       "      <td>NaN</td>\n",
       "    </tr>\n",
       "    <tr>\n",
       "      <th>90</th>\n",
       "      <td>0b1_ita</td>\n",
       "      <td>Italy</td>\n",
       "      <td>ITALY</td>\n",
       "    </tr>\n",
       "    <tr>\n",
       "      <th>91</th>\n",
       "      <td>0badman0</td>\n",
       "      <td>United States</td>\n",
       "      <td>Florida</td>\n",
       "    </tr>\n",
       "    <tr>\n",
       "      <th>92</th>\n",
       "      <td>0boruba</td>\n",
       "      <td>NaN</td>\n",
       "      <td>NaN</td>\n",
       "    </tr>\n",
       "    <tr>\n",
       "      <th>93</th>\n",
       "      <td>0canuckeh</td>\n",
       "      <td>Canada</td>\n",
       "      <td>NaN</td>\n",
       "    </tr>\n",
       "    <tr>\n",
       "      <th>94</th>\n",
       "      <td>0ddjob</td>\n",
       "      <td>Germany</td>\n",
       "      <td>NaN</td>\n",
       "    </tr>\n",
       "    <tr>\n",
       "      <th>95</th>\n",
       "      <td>0delta0</td>\n",
       "      <td>NaN</td>\n",
       "      <td>NaN</td>\n",
       "    </tr>\n",
       "    <tr>\n",
       "      <th>96</th>\n",
       "      <td>0doacre</td>\n",
       "      <td>France</td>\n",
       "      <td>NaN</td>\n",
       "    </tr>\n",
       "    <tr>\n",
       "      <th>97</th>\n",
       "      <td>0dreadnought0</td>\n",
       "      <td>Serbia</td>\n",
       "      <td>NaN</td>\n",
       "    </tr>\n",
       "    <tr>\n",
       "      <th>98</th>\n",
       "      <td>0handle</td>\n",
       "      <td>Austria</td>\n",
       "      <td>NaN</td>\n",
       "    </tr>\n",
       "    <tr>\n",
       "      <th>99</th>\n",
       "      <td>0hohj</td>\n",
       "      <td>Germany</td>\n",
       "      <td>NaN</td>\n",
       "    </tr>\n",
       "  </tbody>\n",
       "</table>\n",
       "</div>"
      ],
      "text/plain": [
       "          bgg_user_name               country            region\n",
       "0              beastvol         United States        California\n",
       "1             fu_koios          United States              Ohio\n",
       "2               mycroft         United States        New Mexico\n",
       "3                   woh               Belgium               NaN\n",
       "4     (mostly) harmless               Austria               NaN\n",
       "5                 - v -                   NaN               NaN\n",
       "6              -=yod@=-                 Spain               NaN\n",
       "7                  -de-                Poland               NaN\n",
       "8             -grizzly-        Czech Republic       Unspecified\n",
       "9              -johnny-                Canada            Quebec\n",
       "10              -loren-                 Spain               NaN\n",
       "11              -lucas-                 Italy       Unspecified\n",
       "12                -mal-         United States           Indiana\n",
       "13               -mide-               Finland               NaN\n",
       "14                -mik-               Denmark               NaN\n",
       "15          -morphling-         United States         Wisconsin\n",
       "16         -pedropablo-              Colombia       Unspecified\n",
       "17                 -pj-  Other-Eastern Europe       Unspecified\n",
       "18              -snarf-               Germany       Unspecified\n",
       "19               -toni-               Germany               NaN\n",
       "20                -xxx-                   NaN               NaN\n",
       "21            ...hammer               Germany               NaN\n",
       "22         .::clarté::.                France       Unspecified\n",
       "23                .jck.                 Italy               NaN\n",
       "24  .ryan36@hotmail.com                   NaN               NaN\n",
       "25        0 1 1 2 3 5 8         United States      Pennsylvania\n",
       "26                 0 hr         United States      Pennsylvania\n",
       "27           000ryuk000                 Spain               NaN\n",
       "28           000undo000                Poland               NaN\n",
       "29                 0010         United States              Ohio\n",
       "30               005734        United Kingdom               NaN\n",
       "31              007_ulf               Germany               NaN\n",
       "32              007alex                   NaN               NaN\n",
       "33            007design                   NaN          Illinois\n",
       "34         007king_kong         United States     Massachusetts\n",
       "35            007mrbond         United States          Illinois\n",
       "36           007poptart                   NaN               NaN\n",
       "37       007purpleroses         United States        Washington\n",
       "38           00_fire_00                   NaN               NaN\n",
       "39         00_mr_floppy                   NaN               NaN\n",
       "40             00arak00                   NaN               NaN\n",
       "41              00bogey                Canada           Alberta\n",
       "42           00daniel00              Colombia               NaN\n",
       "43            00matej00                   NaN               NaN\n",
       "44          00mccracken                Canada               NaN\n",
       "45          00schneider               Germany               NaN\n",
       "46               00skip                   NaN               NaN\n",
       "47               00vito         United States        California\n",
       "48             00zaphod         United States  Dist of Columbia\n",
       "49               00zero         United States         Tennessee\n",
       "50            010dennis           Netherlands               NaN\n",
       "51              0112358                   NaN               NaN\n",
       "52             01151125                Taiwan               NaN\n",
       "53    0122lostchild2201                   NaN               NaN\n",
       "54              015599m                Canada                NS\n",
       "55            0165miked        United Kingdom               NaN\n",
       "56              01davie        United Kingdom              Kent\n",
       "57             01hejazi          Saudi Arabia               NaN\n",
       "58           01hoatherm                   NaN               NaN\n",
       "59             01josepe        United Kingdom               NaN\n",
       "60          01lwilliams        United Kingdom               NaN\n",
       "61              01neo01                 Spain           Vizcaya\n",
       "62             01schafi               Austria               NaN\n",
       "63           0201strong                 China               NaN\n",
       "64             0208077t                   NaN               NaN\n",
       "65               020907         United States          Colorado\n",
       "66             02holzem               Austria        Steiermark\n",
       "67           02schaberj         United States            Oregon\n",
       "68            030670628                   NaN               NaN\n",
       "69            030caylus                   NaN               NaN\n",
       "70                 0321         United States               NaN\n",
       "71             03564783                Taiwan               NaN\n",
       "72               041744         United States             Texas\n",
       "73              0444287                   NaN               NaN\n",
       "74              0447603             Australia               NaN\n",
       "75           0492372665                Taiwan               NaN\n",
       "76               051276         United States              Utah\n",
       "77               05blob                   NaN               NaN\n",
       "78            05emeryge                   NaN               NaN\n",
       "79         07711eskimoe                   NaN               NaN\n",
       "80                07734         United States              Ohio\n",
       "81                07770                   NaN               NaN\n",
       "82             0781matt        United Kingdom      Lincolnshire\n",
       "83               07cbdj                   NaN               NaN\n",
       "84          0815spieler               Germany               NRW\n",
       "85             08nienhl         United States         Wisconsin\n",
       "86          0903810310k              Thailand            Hawaii\n",
       "87               096959                   NaN               NaN\n",
       "88                 0992         United States          Oklahoma\n",
       "89             0alexis0                   NaN               NaN\n",
       "90              0b1_ita                 Italy             ITALY\n",
       "91             0badman0         United States           Florida\n",
       "92              0boruba                   NaN               NaN\n",
       "93            0canuckeh                Canada               NaN\n",
       "94               0ddjob               Germany               NaN\n",
       "95              0delta0                   NaN               NaN\n",
       "96              0doacre                France               NaN\n",
       "97        0dreadnought0                Serbia               NaN\n",
       "98              0handle               Austria               NaN\n",
       "99                0hohj               Germany               NaN"
      ]
     },
     "execution_count": 14,
     "metadata": {},
     "output_type": "execute_result"
    }
   ],
   "source": [
    "users_df[['bgg_user_name', 'country', 'region']].head(100)"
   ]
  },
  {
   "cell_type": "code",
   "execution_count": 62,
   "metadata": {},
   "outputs": [
    {
     "data": {
      "text/plain": [
       "<AxesSubplot:>"
      ]
     },
     "execution_count": 62,
     "metadata": {},
     "output_type": "execute_result"
    },
    {
     "data": {
      "image/png": "[encoded data removed]",
      "text/plain": [
       "<Figure size 1296x576 with 1 Axes>"
      ]
     },
     "metadata": {},
     "output_type": "display_data"
    }
   ],
   "source": [
    "users_df['country'].value_counts()[:20].plot(kind='bar')"
   ]
  },
  {
   "cell_type": "markdown",
   "metadata": {},
   "source": [
    "40,200,532 wpisów"
   ]
  },
  {
   "cell_type": "code",
   "execution_count": 4,
   "metadata": {},
   "outputs": [],
   "source": [
    "ratings_df = pd.read_json('~/recommend.games/data/bgg_RatingItem.jl', lines = True, nrows = 10)"
   ]
  },
  {
   "cell_type": "code",
   "execution_count": 5,
   "metadata": {
    "scrolled": true
   },
   "outputs": [
    {
     "data": {
      "text/plain": [
       "Index(['bgg_id', 'bgg_user_for_trade', 'bgg_user_name', 'bgg_user_owned',\n",
       "       'bgg_user_play_count', 'bgg_user_preordered', 'bgg_user_prev_owned',\n",
       "       'bgg_user_rating', 'bgg_user_want_in_trade', 'bgg_user_want_to_buy',\n",
       "       'bgg_user_want_to_play', 'item_id', 'updated_at'],\n",
       "      dtype='object')"
      ]
     },
     "execution_count": 5,
     "metadata": {},
     "output_type": "execute_result"
    }
   ],
   "source": [
    "ratings_df.columns"
   ]
  },
  {
   "cell_type": "code",
   "execution_count": 9,
   "metadata": {},
   "outputs": [
    {
     "name": "stdout",
     "output_type": "stream",
     "text": [
      "0\n",
      "1\n",
      "2\n",
      "3\n",
      "4\n",
      "5\n",
      "6\n",
      "7\n",
      "8\n",
      "9\n",
      "10\n",
      "11\n",
      "12\n",
      "13\n",
      "14\n",
      "15\n",
      "16\n",
      "17\n",
      "18\n",
      "19\n",
      "20\n",
      "21\n",
      "22\n",
      "23\n",
      "24\n",
      "25\n",
      "26\n",
      "27\n",
      "28\n",
      "29\n",
      "30\n",
      "31\n",
      "32\n",
      "33\n",
      "34\n",
      "35\n",
      "36\n",
      "37\n",
      "38\n",
      "39\n",
      "40\n"
     ]
    }
   ],
   "source": [
    "batch_size = 1000000\n",
    "n_iter = 0\n",
    "slim_ratings_df = pd.DataFrame()\n",
    "with open('/home/adis/recommend.games/data/bgg_RatingItem.jl') as f:\n",
    "    batch = pd.read_json(f, lines=True, nrows=batch_size)\n",
    "    while(not batch.empty):\n",
    "        print(n_iter)\n",
    "        slim_ratings_df = slim_ratings_df.append(batch[['bgg_id', 'bgg_user_name', 'bgg_user_rating']])\n",
    "        batch = pd.read_json(f, lines=True, nrows=batch_size)\n",
    "        n_iter += 1"
   ]
  },
  {
   "cell_type": "code",
   "execution_count": 15,
   "metadata": {},
   "outputs": [],
   "source": [
    "slim_ratings_df.dropna(how='any', inplace=True)"
   ]
  },
  {
   "cell_type": "code",
   "execution_count": 18,
   "metadata": {},
   "outputs": [],
   "source": [
    "slim_ratings_df.to_csv('/home/adis/Uni/BG/ratings.csv.gz', compression='gzip')"
   ]
  },
  {
   "cell_type": "code",
   "execution_count": 8,
   "metadata": {},
   "outputs": [
    {
     "data": {
      "text/html": [
       "<div>\n",
       "<style scoped>\n",
       "    .dataframe tbody tr th:only-of-type {\n",
       "        vertical-align: middle;\n",
       "    }\n",
       "\n",
       "    .dataframe tbody tr th {\n",
       "        vertical-align: top;\n",
       "    }\n",
       "\n",
       "    .dataframe thead th {\n",
       "        text-align: right;\n",
       "    }\n",
       "</style>\n",
       "<table border=\"1\" class=\"dataframe\">\n",
       "  <thead>\n",
       "    <tr style=\"text-align: right;\">\n",
       "      <th></th>\n",
       "      <th>bgg_user_owned</th>\n",
       "      <th>bgg_user_rating</th>\n",
       "      <th>bgg_user_play_count</th>\n",
       "      <th>bgg_user_want_to_play</th>\n",
       "    </tr>\n",
       "  </thead>\n",
       "  <tbody>\n",
       "    <tr>\n",
       "      <th>0</th>\n",
       "      <td>True</td>\n",
       "      <td>8.0</td>\n",
       "      <td>0</td>\n",
       "      <td>False</td>\n",
       "    </tr>\n",
       "    <tr>\n",
       "      <th>1</th>\n",
       "      <td>True</td>\n",
       "      <td>7.0</td>\n",
       "      <td>0</td>\n",
       "      <td>False</td>\n",
       "    </tr>\n",
       "    <tr>\n",
       "      <th>2</th>\n",
       "      <td>True</td>\n",
       "      <td>7.0</td>\n",
       "      <td>0</td>\n",
       "      <td>False</td>\n",
       "    </tr>\n",
       "    <tr>\n",
       "      <th>3</th>\n",
       "      <td>True</td>\n",
       "      <td>6.0</td>\n",
       "      <td>0</td>\n",
       "      <td>False</td>\n",
       "    </tr>\n",
       "    <tr>\n",
       "      <th>4</th>\n",
       "      <td>True</td>\n",
       "      <td>9.0</td>\n",
       "      <td>0</td>\n",
       "      <td>False</td>\n",
       "    </tr>\n",
       "    <tr>\n",
       "      <th>5</th>\n",
       "      <td>True</td>\n",
       "      <td>8.0</td>\n",
       "      <td>0</td>\n",
       "      <td>False</td>\n",
       "    </tr>\n",
       "    <tr>\n",
       "      <th>6</th>\n",
       "      <td>True</td>\n",
       "      <td>7.0</td>\n",
       "      <td>0</td>\n",
       "      <td>False</td>\n",
       "    </tr>\n",
       "    <tr>\n",
       "      <th>7</th>\n",
       "      <td>True</td>\n",
       "      <td>5.0</td>\n",
       "      <td>0</td>\n",
       "      <td>False</td>\n",
       "    </tr>\n",
       "    <tr>\n",
       "      <th>8</th>\n",
       "      <td>True</td>\n",
       "      <td>9.0</td>\n",
       "      <td>0</td>\n",
       "      <td>False</td>\n",
       "    </tr>\n",
       "    <tr>\n",
       "      <th>9</th>\n",
       "      <td>False</td>\n",
       "      <td>NaN</td>\n",
       "      <td>0</td>\n",
       "      <td>False</td>\n",
       "    </tr>\n",
       "  </tbody>\n",
       "</table>\n",
       "</div>"
      ],
      "text/plain": [
       "   bgg_user_owned  bgg_user_rating  bgg_user_play_count  bgg_user_want_to_play\n",
       "0            True              8.0                    0                  False\n",
       "1            True              7.0                    0                  False\n",
       "2            True              7.0                    0                  False\n",
       "3            True              6.0                    0                  False\n",
       "4            True              9.0                    0                  False\n",
       "5            True              8.0                    0                  False\n",
       "6            True              7.0                    0                  False\n",
       "7            True              5.0                    0                  False\n",
       "8            True              9.0                    0                  False\n",
       "9           False              NaN                    0                  False"
      ]
     },
     "execution_count": 8,
     "metadata": {},
     "output_type": "execute_result"
    }
   ],
   "source": [
    "ratings_df[['bgg_user_owned', 'bgg_user_rating', 'bgg_user_play_count', 'bgg_user_want_to_play']]"
   ]
  },
  {
   "cell_type": "code",
   "execution_count": 9,
   "metadata": {},
   "outputs": [
    {
     "data": {
      "text/plain": [
       "bgg_user_owned\n",
       "True     9\n",
       "False    1\n",
       "dtype: int64"
      ]
     },
     "execution_count": 9,
     "metadata": {},
     "output_type": "execute_result"
    }
   ],
   "source": [
    "ratings_df.value_counts('bgg_user_owned')"
   ]
  },
  {
   "cell_type": "code",
   "execution_count": 3,
   "metadata": {},
   "outputs": [
    {
     "name": "stdout",
     "output_type": "stream",
     "text": [
      "0\n",
      "20\n",
      "40\n",
      "60\n",
      "80\n",
      "100\n",
      "120\n",
      "140\n",
      "160\n",
      "180\n",
      "200\n",
      "220\n",
      "240\n",
      "260\n",
      "280\n",
      "300\n",
      "320\n",
      "340\n",
      "360\n",
      "380\n",
      "400\n"
     ]
    }
   ],
   "source": [
    "batch_size = 100000\n",
    "n_iter = 0\n",
    "with open('/home/adis/recommend.games/data/bgg_RatingItem.jl') as f:\n",
    "    ratings = pd.Series(dtype='int64')\n",
    "    owned_games = pd.Series(dtype='int64')\n",
    "    play_counts = pd.Series(dtype='int64')\n",
    "    wants_to_play = pd.Series(dtype='int64')\n",
    "    \n",
    "    batch = pd.read_json(f, lines=True, nrows=batch_size)\n",
    "    while(not batch.empty):\n",
    "        if(np.mod(n_iter, 20) == 0):\n",
    "            print(n_iter)\n",
    "        ratings = ratings.add(batch.value_counts('bgg_user_rating'), fill_value=0).astype('int64')\n",
    "        owned_games = owned_games.add(batch.value_counts('bgg_user_owned'), fill_value=False).astype('int64')\n",
    "        play_counts = play_counts.add(batch.value_counts('bgg_user_play_count'), fill_value=0).astype('int64')\n",
    "        wants_to_play = wants_to_play.add(batch.value_counts('bgg_user_want_to_play'), fill_value=False).astype('int64')\n",
    "        batch = pd.read_json(f, lines=True, nrows=batch_size)\n",
    "        n_iter += 1"
   ]
  },
  {
   "cell_type": "code",
   "execution_count": 16,
   "metadata": {},
   "outputs": [
    {
     "data": {
      "text/plain": [
       "1.4013e-45"
      ]
     },
     "execution_count": 16,
     "metadata": {},
     "output_type": "execute_result"
    }
   ],
   "source": [
    "ratings.index.min()"
   ]
  },
  {
   "cell_type": "code",
   "execution_count": 4,
   "metadata": {},
   "outputs": [],
   "source": [
    "ratings_fixed = pd.Series(index=np.arange(11), dtype='int64')"
   ]
  },
  {
   "cell_type": "code",
   "execution_count": 5,
   "metadata": {},
   "outputs": [],
   "source": [
    "for idx, val in zip(ratings.index, ratings.values):\n",
    "    ratings_fixed[np.rint(idx)] += val"
   ]
  },
  {
   "cell_type": "code",
   "execution_count": 6,
   "metadata": {},
   "outputs": [
    {
     "data": {
      "text/plain": [
       "0          18\n",
       "1       91470\n",
       "2      155546\n",
       "3      301708\n",
       "4      633370\n",
       "5     1228404\n",
       "6     3327211\n",
       "7     4205422\n",
       "8     4744013\n",
       "9     1696283\n",
       "10     971498\n",
       "dtype: int64"
      ]
     },
     "execution_count": 6,
     "metadata": {},
     "output_type": "execute_result"
    }
   ],
   "source": [
    "ratings_fixed"
   ]
  },
  {
   "cell_type": "code",
   "execution_count": 7,
   "metadata": {},
   "outputs": [
    {
     "data": {
      "text/plain": [
       "17354943"
      ]
     },
     "execution_count": 7,
     "metadata": {},
     "output_type": "execute_result"
    }
   ],
   "source": [
    "ratings_fixed.sum()"
   ]
  },
  {
   "cell_type": "code",
   "execution_count": 8,
   "metadata": {},
   "outputs": [
    {
     "data": {
      "text/plain": [
       "<AxesSubplot:>"
      ]
     },
     "execution_count": 8,
     "metadata": {},
     "output_type": "execute_result"
    },
    {
     "data": {
      "image/png": "[encoded data removed]",
      "text/plain": [
       "<Figure size 1296x576 with 1 Axes>"
      ]
     },
     "metadata": {},
     "output_type": "display_data"
    }
   ],
   "source": [
    "ratings_fixed.plot(kind='bar')"
   ]
  },
  {
   "cell_type": "code",
   "execution_count": 9,
   "metadata": {},
   "outputs": [
    {
     "data": {
      "text/plain": [
       "bgg_user_owned\n",
       "1.0    21879410\n",
       "0.0    15761767\n",
       "dtype: int64"
      ]
     },
     "execution_count": 9,
     "metadata": {},
     "output_type": "execute_result"
    }
   ],
   "source": [
    "owned_games"
   ]
  },
  {
   "cell_type": "code",
   "execution_count": 10,
   "metadata": {},
   "outputs": [
    {
     "data": {
      "text/plain": [
       "bgg_user_want_to_play\n",
       "0.0    35449621\n",
       "1.0     2191556\n",
       "dtype: int64"
      ]
     },
     "execution_count": 10,
     "metadata": {},
     "output_type": "execute_result"
    }
   ],
   "source": [
    "wants_to_play"
   ]
  },
  {
   "cell_type": "code",
   "execution_count": 51,
   "metadata": {},
   "outputs": [
    {
     "data": {
      "text/plain": [
       "bgg_user_play_count\n",
       "0             28692757\n",
       "1              5182367\n",
       "2              1959521\n",
       "3              1088363\n",
       "4               682740\n",
       "                ...   \n",
       "100000000            2\n",
       "100000033            1\n",
       "577836728            1\n",
       "1000000000           1\n",
       "2147483647           9\n",
       "Length: 1499, dtype: int64"
      ]
     },
     "execution_count": 51,
     "metadata": {},
     "output_type": "execute_result"
    }
   ],
   "source": [
    "play_counts"
   ]
  },
  {
   "cell_type": "code",
   "execution_count": 17,
   "metadata": {},
   "outputs": [
    {
     "data": {
      "text/plain": [
       "11507775"
      ]
     },
     "execution_count": 17,
     "metadata": {},
     "output_type": "execute_result"
    }
   ],
   "source": [
    "play_counts[1:].sum()"
   ]
  },
  {
   "cell_type": "code",
   "execution_count": 11,
   "metadata": {},
   "outputs": [
    {
     "name": "stdout",
     "output_type": "stream",
     "text": [
      "0\n",
      "20\n",
      "40\n",
      "60\n",
      "80\n",
      "100\n",
      "120\n",
      "140\n",
      "160\n",
      "180\n",
      "200\n",
      "220\n",
      "240\n",
      "260\n",
      "280\n",
      "300\n",
      "320\n",
      "340\n",
      "360\n",
      "380\n",
      "400\n"
     ]
    }
   ],
   "source": [
    "batch_size = 100000\n",
    "n_iter = 0\n",
    "with open('/home/adis/recommend.games/data/bgg_RatingItem.jl') as f:\n",
    "    game_ratings = pd.DataFrame(dtype='int64')\n",
    "    \n",
    "    \n",
    "    batch = pd.read_json(f, lines=True, nrows=batch_size)\n",
    "    while(not batch.empty):\n",
    "        batch_ratings = batch[['bgg_id', 'bgg_user_rating', 'bgg_user_owned']].groupby(by='bgg_id').agg('count')\n",
    "        game_ratings = game_ratings.add(batch_ratings, fill_value=0).astype('int64')\n",
    "        if(np.mod(n_iter, 20) == 0):\n",
    "            print(n_iter)\n",
    "\n",
    "        batch = pd.read_json(f, lines=True, nrows=batch_size)\n",
    "        n_iter += 1"
   ]
  },
  {
   "cell_type": "code",
   "execution_count": 60,
   "metadata": {},
   "outputs": [
    {
     "data": {
      "text/plain": [
       "318"
      ]
     },
     "execution_count": 60,
     "metadata": {},
     "output_type": "execute_result"
    }
   ],
   "source": [
    "(game_ratings['bgg_user_rating'] > 10000).sum()"
   ]
  },
  {
   "cell_type": "code",
   "execution_count": 61,
   "metadata": {},
   "outputs": [
    {
     "data": {
      "text/plain": [
       "695"
      ]
     },
     "execution_count": 61,
     "metadata": {},
     "output_type": "execute_result"
    }
   ],
   "source": [
    "(game_ratings['bgg_user_owned'] > 10000).sum()"
   ]
  },
  {
   "cell_type": "code",
   "execution_count": 20,
   "metadata": {},
   "outputs": [
    {
     "data": {
      "text/plain": [
       "Index(['bgg_id', 'bgg_user_for_trade', 'bgg_user_name', 'bgg_user_owned',\n",
       "       'bgg_user_play_count', 'bgg_user_preordered', 'bgg_user_prev_owned',\n",
       "       'bgg_user_rating', 'bgg_user_want_in_trade', 'bgg_user_want_to_buy',\n",
       "       'bgg_user_want_to_play', 'item_id', 'updated_at', 'bgg_user_wishlist',\n",
       "       'comment'],\n",
       "      dtype='object')"
      ]
     },
     "execution_count": 20,
     "metadata": {},
     "output_type": "execute_result"
    }
   ],
   "source": [
    "batch.columns"
   ]
  },
  {
   "cell_type": "code",
   "execution_count": 23,
   "metadata": {},
   "outputs": [
    {
     "name": "stdout",
     "output_type": "stream",
     "text": [
      "0\n",
      "20\n",
      "40\n",
      "60\n",
      "80\n",
      "100\n",
      "120\n",
      "140\n",
      "160\n",
      "180\n",
      "200\n",
      "220\n",
      "240\n",
      "260\n",
      "280\n",
      "300\n",
      "320\n",
      "340\n",
      "360\n",
      "380\n",
      "400\n"
     ]
    }
   ],
   "source": [
    "batch_size = 100000\n",
    "n_iter = 0\n",
    "with open('/home/adis/recommend.games/data/bgg_RatingItem.jl') as f:\n",
    "    user_ratings = pd.DataFrame(dtype='int64')\n",
    "    batch = pd.read_json(f, lines=True, nrows=batch_size)\n",
    "    while(not batch.empty):\n",
    "        batch_ratings = batch[['bgg_user_name', 'bgg_user_rating', 'bgg_user_owned']].groupby(by='bgg_user_name').agg('count')\n",
    "        user_ratings = user_ratings.add(batch_ratings, fill_value=0).astype('int64')\n",
    "        if(np.mod(n_iter, 20) == 0):\n",
    "            print(n_iter)\n",
    "\n",
    "        batch = pd.read_json(f, lines=True, nrows=batch_size)\n",
    "        n_iter += 1"
   ]
  },
  {
   "cell_type": "code",
   "execution_count": 29,
   "metadata": {},
   "outputs": [
    {
     "data": {
      "text/plain": [
       "199464"
      ]
     },
     "execution_count": 29,
     "metadata": {},
     "output_type": "execute_result"
    }
   ],
   "source": [
    "(user_ratings['bgg_user_rating'] > 10).sum()"
   ]
  },
  {
   "cell_type": "code",
   "execution_count": 30,
   "metadata": {},
   "outputs": [
    {
     "data": {
      "text/plain": [
       "262354"
      ]
     },
     "execution_count": 30,
     "metadata": {},
     "output_type": "execute_result"
    }
   ],
   "source": [
    "(user_ratings['bgg_user_owned'] > 10).sum()"
   ]
  },
  {
   "cell_type": "code",
   "execution_count": null,
   "metadata": {},
   "outputs": [],
   "source": []
  }
 ],
 "metadata": {
  "kernelspec": {
   "display_name": "Python 3",
   "language": "python",
   "name": "python3"
  },
  "language_info": {
   "codemirror_mode": {
    "name": "ipython",
    "version": 3
   },
   "file_extension": ".py",
   "mimetype": "text/x-python",
   "name": "python",
   "nbconvert_exporter": "python",
   "pygments_lexer": "ipython3",
   "version": "3.9.2"
  }
 },
 "nbformat": 4,
 "nbformat_minor": 4
}
