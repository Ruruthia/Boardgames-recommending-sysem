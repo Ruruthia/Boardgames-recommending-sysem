{
 "cells": [
  {
   "cell_type": "markdown",
   "id": "annoying-hybrid",
   "metadata": {},
   "source": [
    "## Diverity & coverage"
   ]
  },
  {
   "cell_type": "code",
   "execution_count": 17,
   "id": "israeli-worry",
   "metadata": {},
   "outputs": [],
   "source": [
    "import pandas as pd\n",
    "from collections import defaultdict\n",
    "from tools.testing import coverage, diversity"
   ]
  },
  {
   "cell_type": "code",
   "execution_count": 14,
   "id": "interesting-diving",
   "metadata": {},
   "outputs": [],
   "source": [
    "games_df = pd.read_csv('./data/slim_games.csv.gz', usecols = [1,2,3,4])"
   ]
  },
  {
   "cell_type": "code",
   "execution_count": 15,
   "id": "suitable-rogers",
   "metadata": {},
   "outputs": [],
   "source": [
    "top10 = pd.read_csv('./data/lightfm_top10_recommendations.csv.gz', usecols=[1,2])"
   ]
  },
  {
   "cell_type": "code",
   "execution_count": 16,
   "id": "operating-agreement",
   "metadata": {},
   "outputs": [
    {
     "data": {
      "text/plain": [
       "6.7636276458660065"
      ]
     },
     "execution_count": 16,
     "metadata": {},
     "output_type": "execute_result"
    }
   ],
   "source": [
    "coverage(top10, games_df)*100"
   ]
  },
  {
   "cell_type": "code",
   "execution_count": null,
   "id": "advance-collection",
   "metadata": {},
   "outputs": [],
   "source": [
    "diversity(top10, games_df)"
   ]
  }
 ],
 "metadata": {
  "kernelspec": {
   "display_name": "Python 3",
   "language": "python",
   "name": "python3"
  },
  "language_info": {
   "codemirror_mode": {
    "name": "ipython",
    "version": 3
   },
   "file_extension": ".py",
   "mimetype": "text/x-python",
   "name": "python",
   "nbconvert_exporter": "python",
   "pygments_lexer": "ipython3",
   "version": "3.8.6"
  }
 },
 "nbformat": 4,
 "nbformat_minor": 5
}
