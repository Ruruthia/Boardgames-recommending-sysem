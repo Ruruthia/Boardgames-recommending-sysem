{
 "cells": [
  {
   "cell_type": "code",
   "execution_count": 8,
   "id": "compatible-schedule",
   "metadata": {},
   "outputs": [],
   "source": [
    "import pandas as pd\n",
    "import numpy as np\n",
    "from ast import literal_eval\n",
    "import scipy.sparse\n",
    "\n",
    "from lightfm import LightFM\n",
    "from lightfm.data import Dataset\n",
    "from lightfm.evaluation import precision_at_k, recall_at_k, reciprocal_rank, auc_score\n",
    "\n",
    "from tools.lightfm_tools import prepare_interactions, evaluate_model, evaluate_diversity_and_coverage"
   ]
  },
  {
   "cell_type": "markdown",
   "id": "behavioral-girlfriend",
   "metadata": {},
   "source": [
    "## Data loading"
   ]
  },
  {
   "cell_type": "code",
   "execution_count": 2,
   "id": "composite-zoning",
   "metadata": {},
   "outputs": [],
   "source": [
    "# Ratings without the least active users and the least popular games\n",
    "df = pd.read_csv('data/ratings.csv.gz')\n",
    "# Names of the most popular features\n",
    "features_names = pd.read_csv('data/LightFM_item_features_names.csv.gz')\n",
    "# Features of games\n",
    "game_features = pd.read_csv('data/LightFM_item_features.csv.gz')\n",
    "game_features['features'] = game_features.features.apply(literal_eval)"
   ]
  },
  {
   "cell_type": "code",
   "execution_count": 3,
   "id": "temporal-flooring",
   "metadata": {},
   "outputs": [],
   "source": [
    "# We don't need features of games we don't have any interactions with\n",
    "features_list = [x for x in features_names['0']]\n",
    "games_list = [x for x in df['bgg_id']]\n",
    "game_features = game_features.drop((game_features['bgg_id'])[~game_features['bgg_id'].isin(games_list)].index)"
   ]
  },
  {
   "cell_type": "code",
   "execution_count": 4,
   "id": "tracked-judgment",
   "metadata": {},
   "outputs": [],
   "source": [
    "# Positive interactions are: rating the game above 6 or having a game in collection without rating it\n",
    "df_positive = df.loc[((df['bgg_user_owned'] == 1.0) & (df['bgg_user_rating'].isnull()) | (df['bgg_user_rating'] > 6))].copy()\n",
    "df_positive['value'] = 1\n",
    "df_negative =  df.loc[(df['bgg_user_rating'] < 4)].copy()\n",
    "df_negative['value'] = -1\n",
    "df_logistic = pd.concat([df_positive, df_negative])"
   ]
  },
  {
   "cell_type": "markdown",
   "id": "impressed-welcome",
   "metadata": {},
   "source": [
    "## Preparation of dataset, interactions and item features matrices"
   ]
  },
  {
   "cell_type": "code",
   "execution_count": 5,
   "id": "encouraging-syria",
   "metadata": {},
   "outputs": [],
   "source": [
    "dataset = Dataset()\n",
    "dataset.fit((x for x in df['bgg_user_name']), (x for x in df['bgg_id']), item_features=(x for x in features_list))"
   ]
  },
  {
   "cell_type": "code",
   "execution_count": 10,
   "id": "potential-least",
   "metadata": {},
   "outputs": [
    {
     "name": "stdout",
     "output_type": "stream",
     "text": [
      "Loaded interactions\n"
     ]
    }
   ],
   "source": [
    "# Interactions for all functions except logistic loss\n",
    "try:\n",
    "    interactions = scipy.sparse.load_npz('data/interactions.npz')\n",
    "    test_interactions = scipy.sparse.load_npz('data/test_interactions.npz')\n",
    "    known = pd.read_csv('data/known.csv.gz')\n",
    "    print(\"Loaded interactions\")\n",
    "except:    \n",
    "    interactions, test_interactions, known = prepare_interactions(df_positive, dataset)\n",
    "    scipy.sparse.save_npz('data/interactions.npz', interactions)\n",
    "    scipy.sparse.save_npz('data/test_interactions.npz', test_interactions)\n",
    "    known.to_csv('data/known.csv.gz', compression='gzip', index=False)    "
   ]
  },
  {
   "cell_type": "code",
   "execution_count": 12,
   "id": "wrapped-sponsorship",
   "metadata": {},
   "outputs": [
    {
     "name": "stdout",
     "output_type": "stream",
     "text": [
      "Loaded interactions\n"
     ]
    }
   ],
   "source": [
    "# Interactions for logistic loss\n",
    "try:\n",
    "    interactions_logistic = scipy.sparse.load_npz('data/interactions_logistic.npz')\n",
    "    test_interactions_logistic = scipy.sparse.load_npz('data/test_interactions_logistic.npz')\n",
    "    known_logistic = pd.read_csv('data/known_logistic.csv.gz')\n",
    "    print(\"Loaded interactions\")\n",
    "except:    \n",
    "    interactions_logistic, test_interactions_logistic, known_logistic = prepare_interactions(df_logistic, dataset)\n",
    "    scipy.sparse.save_npz('data/interactions_logistic.npz', interactions_logistic)\n",
    "    scipy.sparse.save_npz('data/test_interactions_logistic.npz', test_interactions_logistic)\n",
    "    known_logistic.to_csv('data/known_logistic.csv.gz', compression='gzip', index=False)    "
   ]
  },
  {
   "cell_type": "code",
   "execution_count": 13,
   "id": "located-shepherd",
   "metadata": {},
   "outputs": [],
   "source": [
    "item_features = dataset.build_item_features((val['bgg_id'], [w for w in val['features'] if w in features_list]) for idx, val in game_features.iterrows())"
   ]
  },
  {
   "cell_type": "code",
   "execution_count": 14,
   "id": "institutional-budapest",
   "metadata": {},
   "outputs": [],
   "source": [
    "id_item_features = dataset.build_item_features((val['bgg_id'], [w for w in val['features'] if w in features_list] + [val['bgg_id']]) for idx, val in game_features.iterrows())"
   ]
  },
  {
   "cell_type": "code",
   "execution_count": 15,
   "id": "worthy-virus",
   "metadata": {},
   "outputs": [],
   "source": [
    "random_game_features = game_features.copy()\n",
    "random_game_features.iloc[:, 1] = np.random.permutation(game_features.iloc[:,1].values)\n",
    "random_item_features = dataset.build_item_features((val['bgg_id'], [w for w in val['features'] if w in features_list]) for idx, val in random_game_features.iterrows())"
   ]
  },
  {
   "cell_type": "markdown",
   "id": "trying-cherry",
   "metadata": {},
   "source": [
    "## Comparison of results achieved using different parameters"
   ]
  },
  {
   "cell_type": "markdown",
   "id": "individual-opposition",
   "metadata": {},
   "source": [
    "### WARP model"
   ]
  },
  {
   "cell_type": "code",
   "execution_count": 16,
   "id": "christian-acting",
   "metadata": {},
   "outputs": [
    {
     "name": "stderr",
     "output_type": "stream",
     "text": [
      "Epoch: 100%|██████████| 20/20 [01:59<00:00,  5.98s/it]\n"
     ]
    },
    {
     "data": {
      "text/plain": [
       "<lightfm.lightfm.LightFM at 0x7fa19c2e65e0>"
      ]
     },
     "execution_count": 16,
     "metadata": {},
     "output_type": "execute_result"
    }
   ],
   "source": [
    "model = LightFM(loss='warp')\n",
    "model.fit(interactions, verbose=True, epochs=20, num_threads=8)"
   ]
  },
  {
   "cell_type": "code",
   "execution_count": 17,
   "id": "juvenile-sleeve",
   "metadata": {},
   "outputs": [
    {
     "name": "stdout",
     "output_type": "stream",
     "text": [
      "Precision: train 0.50\n",
      "Precision: test 0.20\n",
      "AUC: train 0.94\n",
      "AUC: test 0.93\n"
     ]
    }
   ],
   "source": [
    "evaluate_model(model, interactions, test_interactions, k=5, num_threads=8)"
   ]
  },
  {
   "cell_type": "code",
   "execution_count": 18,
   "id": "national-female",
   "metadata": {},
   "outputs": [
    {
     "name": "stderr",
     "output_type": "stream",
     "text": [
      "Epoch: 100%|██████████| 20/20 [10:27<00:00, 31.35s/it]\n"
     ]
    },
    {
     "data": {
      "text/plain": [
       "<lightfm.lightfm.LightFM at 0x7fa19c2e66d0>"
      ]
     },
     "execution_count": 18,
     "metadata": {},
     "output_type": "execute_result"
    }
   ],
   "source": [
    "features_model = LightFM(loss='warp')\n",
    "features_model.fit(interactions, verbose=True, item_features = item_features,\n",
    "                   epochs=20, num_threads=8)"
   ]
  },
  {
   "cell_type": "code",
   "execution_count": 19,
   "id": "increased-antibody",
   "metadata": {},
   "outputs": [
    {
     "name": "stdout",
     "output_type": "stream",
     "text": [
      "Precision: train 0.49\n",
      "Precision: test 0.19\n",
      "AUC: train 0.93\n",
      "AUC: test 0.92\n"
     ]
    }
   ],
   "source": [
    "evaluate_model(features_model, interactions, test_interactions, k=5,\n",
    "               num_threads=8, item_features = item_features)"
   ]
  },
  {
   "cell_type": "code",
   "execution_count": 20,
   "id": "technological-alcohol",
   "metadata": {},
   "outputs": [
    {
     "name": "stderr",
     "output_type": "stream",
     "text": [
      "Epoch: 100%|██████████| 20/20 [09:29<00:00, 28.45s/it]\n"
     ]
    },
    {
     "data": {
      "text/plain": [
       "<lightfm.lightfm.LightFM at 0x7fa19c2e68b0>"
      ]
     },
     "execution_count": 20,
     "metadata": {},
     "output_type": "execute_result"
    }
   ],
   "source": [
    "random_features_model = LightFM(loss='warp')\n",
    "random_features_model.fit(interactions, verbose=True, item_features = random_item_features,\n",
    "                          epochs=20, num_threads=8)"
   ]
  },
  {
   "cell_type": "code",
   "execution_count": 21,
   "id": "scientific-semiconductor",
   "metadata": {},
   "outputs": [
    {
     "name": "stdout",
     "output_type": "stream",
     "text": [
      "Precision: train 0.48\n",
      "Precision: test 0.18\n",
      "AUC: train 0.93\n",
      "AUC: test 0.92\n"
     ]
    }
   ],
   "source": [
    "evaluate_model(random_features_model, interactions, test_interactions, k=5,\n",
    "               num_threads=8, item_features = random_item_features)"
   ]
  },
  {
   "cell_type": "code",
   "execution_count": 22,
   "id": "chronic-pound",
   "metadata": {},
   "outputs": [
    {
     "name": "stderr",
     "output_type": "stream",
     "text": [
      "Epoch: 100%|██████████| 20/20 [10:10<00:00, 30.52s/it]\n"
     ]
    },
    {
     "data": {
      "text/plain": [
       "<lightfm.lightfm.LightFM at 0x7fa19c7383d0>"
      ]
     },
     "execution_count": 22,
     "metadata": {},
     "output_type": "execute_result"
    }
   ],
   "source": [
    "id_features_model = LightFM(loss='warp')\n",
    "id_features_model.fit(interactions, verbose=True, item_features = id_item_features,\n",
    "                      epochs=20, num_threads=8)"
   ]
  },
  {
   "cell_type": "code",
   "execution_count": 23,
   "id": "together-faith",
   "metadata": {},
   "outputs": [
    {
     "name": "stdout",
     "output_type": "stream",
     "text": [
      "Precision: train 0.50\n",
      "Precision: test 0.19\n",
      "AUC: train 0.94\n",
      "AUC: test 0.92\n"
     ]
    }
   ],
   "source": [
    "evaluate_model(id_features_model, interactions, test_interactions, k=5,\n",
    "               num_threads=8, item_features = id_item_features)"
   ]
  },
  {
   "cell_type": "markdown",
   "id": "numerical-greeting",
   "metadata": {},
   "source": [
    "### k-OS WARP model"
   ]
  },
  {
   "cell_type": "code",
   "execution_count": 24,
   "id": "personal-knock",
   "metadata": {},
   "outputs": [
    {
     "name": "stderr",
     "output_type": "stream",
     "text": [
      "Epoch: 100%|██████████| 20/20 [03:19<00:00,  9.95s/it]\n"
     ]
    },
    {
     "data": {
      "text/plain": [
       "<lightfm.lightfm.LightFM at 0x7fa19c7c5ee0>"
      ]
     },
     "execution_count": 24,
     "metadata": {},
     "output_type": "execute_result"
    }
   ],
   "source": [
    "model = LightFM(loss = 'warp-kos')\n",
    "model.fit(interactions, verbose=True, epochs=20, num_threads=8)"
   ]
  },
  {
   "cell_type": "code",
   "execution_count": 25,
   "id": "becoming-solution",
   "metadata": {},
   "outputs": [
    {
     "name": "stdout",
     "output_type": "stream",
     "text": [
      "Precision: train 0.46\n",
      "Precision: test 0.17\n",
      "AUC: train 0.92\n",
      "AUC: test 0.91\n"
     ]
    }
   ],
   "source": [
    "evaluate_model(model, interactions, test_interactions, k=5, num_threads=8)"
   ]
  },
  {
   "cell_type": "code",
   "execution_count": 26,
   "id": "political-moses",
   "metadata": {},
   "outputs": [
    {
     "name": "stderr",
     "output_type": "stream",
     "text": [
      "Epoch: 100%|██████████| 20/20 [11:35<00:00, 34.78s/it]\n"
     ]
    },
    {
     "data": {
      "text/plain": [
       "<lightfm.lightfm.LightFM at 0x7fa19c7c53d0>"
      ]
     },
     "execution_count": 26,
     "metadata": {},
     "output_type": "execute_result"
    }
   ],
   "source": [
    "id_features_model = LightFM(loss = 'warp-kos')\n",
    "id_features_model.fit(interactions, verbose=True, item_features = id_item_features,\n",
    "                      epochs=20, num_threads=8)"
   ]
  },
  {
   "cell_type": "code",
   "execution_count": 27,
   "id": "average-mercy",
   "metadata": {},
   "outputs": [
    {
     "name": "stdout",
     "output_type": "stream",
     "text": [
      "Precision: train 0.46\n",
      "Precision: test 0.17\n",
      "AUC: train 0.91\n",
      "AUC: test 0.90\n"
     ]
    }
   ],
   "source": [
    "evaluate_model(id_features_model, interactions, test_interactions, k=5,\n",
    "               num_threads=8, item_features = id_item_features)"
   ]
  },
  {
   "cell_type": "markdown",
   "id": "quarterly-beast",
   "metadata": {},
   "source": [
    "### BPR model"
   ]
  },
  {
   "cell_type": "code",
   "execution_count": 28,
   "id": "czech-material",
   "metadata": {},
   "outputs": [
    {
     "name": "stderr",
     "output_type": "stream",
     "text": [
      "Epoch: 100%|██████████| 20/20 [01:40<00:00,  5.01s/it]\n"
     ]
    },
    {
     "data": {
      "text/plain": [
       "<lightfm.lightfm.LightFM at 0x7fa19c88c220>"
      ]
     },
     "execution_count": 28,
     "metadata": {},
     "output_type": "execute_result"
    }
   ],
   "source": [
    "model = LightFM(loss = 'bpr')\n",
    "model.fit(interactions, verbose=True, epochs=20, num_threads=8)"
   ]
  },
  {
   "cell_type": "code",
   "execution_count": 29,
   "id": "weird-egypt",
   "metadata": {},
   "outputs": [
    {
     "name": "stdout",
     "output_type": "stream",
     "text": [
      "Precision: train 0.45\n",
      "Precision: test 0.13\n",
      "AUC: train 0.90\n",
      "AUC: test 0.87\n"
     ]
    }
   ],
   "source": [
    "evaluate_model(model, interactions, test_interactions, k=5, num_threads=8)"
   ]
  },
  {
   "cell_type": "code",
   "execution_count": 30,
   "id": "under-lodging",
   "metadata": {},
   "outputs": [
    {
     "name": "stderr",
     "output_type": "stream",
     "text": [
      "Epoch: 100%|██████████| 20/20 [14:18<00:00, 42.94s/it]\n"
     ]
    },
    {
     "data": {
      "text/plain": [
       "<lightfm.lightfm.LightFM at 0x7fa19c88c4f0>"
      ]
     },
     "execution_count": 30,
     "metadata": {},
     "output_type": "execute_result"
    }
   ],
   "source": [
    "id_features_model = LightFM(loss = 'bpr')\n",
    "id_features_model.fit(interactions, verbose=True, item_features = id_item_features,\n",
    "                      epochs=20, num_threads=8)"
   ]
  },
  {
   "cell_type": "code",
   "execution_count": 31,
   "id": "broke-catering",
   "metadata": {},
   "outputs": [
    {
     "name": "stdout",
     "output_type": "stream",
     "text": [
      "Precision: train 0.41\n",
      "Precision: test 0.12\n",
      "AUC: train 0.90\n",
      "AUC: test 0.86\n"
     ]
    }
   ],
   "source": [
    "evaluate_model(id_features_model, interactions, test_interactions, k=5,\n",
    "               num_threads=8, item_features = id_item_features)"
   ]
  },
  {
   "cell_type": "markdown",
   "id": "skilled-allen",
   "metadata": {},
   "source": [
    "### Logistic model"
   ]
  },
  {
   "cell_type": "code",
   "execution_count": 32,
   "id": "impressive-india",
   "metadata": {},
   "outputs": [
    {
     "name": "stderr",
     "output_type": "stream",
     "text": [
      "Epoch: 100%|██████████| 20/20 [01:08<00:00,  3.43s/it]\n"
     ]
    },
    {
     "data": {
      "text/plain": [
       "<lightfm.lightfm.LightFM at 0x7fa19c738b50>"
      ]
     },
     "execution_count": 32,
     "metadata": {},
     "output_type": "execute_result"
    }
   ],
   "source": [
    "model = LightFM(loss = 'logistic')\n",
    "model.fit(interactions_logistic, verbose=True, epochs=20, num_threads=8)"
   ]
  },
  {
   "cell_type": "code",
   "execution_count": 33,
   "id": "widespread-spirit",
   "metadata": {},
   "outputs": [
    {
     "name": "stdout",
     "output_type": "stream",
     "text": [
      "Precision: train 0.24\n",
      "Precision: test 0.08\n",
      "AUC: train 0.80\n",
      "AUC: test 0.79\n"
     ]
    }
   ],
   "source": [
    "evaluate_model(model, interactions_logistic, test_interactions_logistic, k=5, num_threads=8)"
   ]
  },
  {
   "cell_type": "code",
   "execution_count": 34,
   "id": "jewish-stadium",
   "metadata": {},
   "outputs": [
    {
     "name": "stderr",
     "output_type": "stream",
     "text": [
      "Epoch: 100%|██████████| 20/20 [06:49<00:00, 20.47s/it]\n"
     ]
    },
    {
     "data": {
      "text/plain": [
       "<lightfm.lightfm.LightFM at 0x7fa19c7c50a0>"
      ]
     },
     "execution_count": 34,
     "metadata": {},
     "output_type": "execute_result"
    }
   ],
   "source": [
    "id_features_model = LightFM(loss = 'logistic')\n",
    "id_features_model.fit(interactions_logistic, verbose=True, item_features = id_item_features,\n",
    "                      epochs=20, num_threads=8)"
   ]
  },
  {
   "cell_type": "code",
   "execution_count": 35,
   "id": "talented-virginia",
   "metadata": {},
   "outputs": [
    {
     "name": "stdout",
     "output_type": "stream",
     "text": [
      "Precision: train 0.06\n",
      "Precision: test 0.01\n",
      "AUC: train 0.67\n",
      "AUC: test 0.67\n"
     ]
    }
   ],
   "source": [
    "evaluate_model(id_features_model, interactions_logistic, test_interactions_logistic, k=5,\n",
    "               num_threads=8, item_features = id_item_features)"
   ]
  },
  {
   "cell_type": "markdown",
   "id": "worth-thing",
   "metadata": {},
   "source": [
    "## Diversity & coverage testing"
   ]
  },
  {
   "cell_type": "code",
   "execution_count": null,
   "id": "every-litigation",
   "metadata": {},
   "outputs": [],
   "source": [
    "#TODO\n",
    "evaluate_diversity_and_coverage(model, users_sample_size, dataset, games_df, known, path, item_features = None, N = 10)"
   ]
  }
 ],
 "metadata": {
  "kernelspec": {
   "display_name": "Python 3",
   "language": "python",
   "name": "python3"
  },
  "language_info": {
   "codemirror_mode": {
    "name": "ipython",
    "version": 3
   },
   "file_extension": ".py",
   "mimetype": "text/x-python",
   "name": "python",
   "nbconvert_exporter": "python",
   "pygments_lexer": "ipython3",
   "version": "3.8.6"
  }
 },
 "nbformat": 4,
 "nbformat_minor": 5
}
