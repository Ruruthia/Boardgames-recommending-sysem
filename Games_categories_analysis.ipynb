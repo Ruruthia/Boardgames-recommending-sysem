{
 "cells": [
  {
   "cell_type": "markdown",
   "metadata": {},
   "source": [
    "In this notebook we analize game items:\n",
    "- how many games there are\n",
    "- how many games with more than 10000 votes there are\n",
    "- what are the possible categories, mechanics, game types and designers of games and what are their distributions"
   ]
  },
  {
   "cell_type": "code",
   "execution_count": 4,
   "metadata": {},
   "outputs": [],
   "source": [
    "import pandas as pd\n",
    "import numpy as np\n",
    "import seaborn as sns\n",
    "\n",
    "pd.set_option('display.max_rows', 100)\n",
    "sns.set(rc={'figure.figsize':(11.7,8.27)})"
   ]
  },
  {
   "cell_type": "code",
   "execution_count": 49,
   "metadata": {},
   "outputs": [],
   "source": [
    "df = pd.read_json('../bgg_GameItem.jl', lines = True)"
   ]
  },
  {
   "cell_type": "code",
   "execution_count": 10,
   "metadata": {},
   "outputs": [
    {
     "name": "stdout",
     "output_type": "stream",
     "text": [
      "100109\n"
     ]
    },
    {
     "data": {
      "text/plain": [
       "Index(['add_rank', 'alt_name', 'artist', 'avg_rating', 'bayes_rating',\n",
       "       'best_rating', 'bgg_id', 'category', 'compilation', 'complexity',\n",
       "       'cooperative', 'description', 'designer', 'easiest_complexity',\n",
       "       'family', 'game_type', 'hardest_complexity',\n",
       "       'highest_language_dependency', 'image_file', 'image_url',\n",
       "       'language_dependency', 'lowest_language_dependency', 'max_players',\n",
       "       'max_players_best', 'max_players_rec', 'max_time', 'mechanic',\n",
       "       'min_age', 'min_age_rec', 'min_players', 'min_players_best',\n",
       "       'min_players_rec', 'min_time', 'name', 'num_votes', 'publisher', 'rank',\n",
       "       'stddev_rating', 'url', 'video_url', 'worst_rating', 'year',\n",
       "       'implementation', 'expansion', 'integration', 'compilation_of'],\n",
       "      dtype='object')"
      ]
     },
     "execution_count": 10,
     "metadata": {},
     "output_type": "execute_result"
    }
   ],
   "source": [
    "print(len(df))\n",
    "df.columns"
   ]
  },
  {
   "cell_type": "code",
   "execution_count": 12,
   "metadata": {},
   "outputs": [
    {
     "data": {
      "text/plain": [
       "322"
      ]
     },
     "execution_count": 12,
     "metadata": {},
     "output_type": "execute_result"
    }
   ],
   "source": [
    "len(df.loc[df['num_votes'] > 10000])"
   ]
  },
  {
   "cell_type": "code",
   "execution_count": 50,
   "metadata": {},
   "outputs": [
    {
     "data": {
      "text/plain": [
       "0         [Alliances:2916, Area Majority / Influence:208...\n",
       "1                                       [Trick-taking:2009]\n",
       "2         [Area Majority / Influence:2080, Hand Manageme...\n",
       "3         [Action Points:2001, Area Majority / Influence...\n",
       "4         [Hand Management:2040, Investment:2910, Market...\n",
       "                                ...                        \n",
       "100104    [Area Majority / Influence:2080, Set Collectio...\n",
       "100105                                                  NaN\n",
       "100106                                     [Real-Time:2831]\n",
       "100107    [Card Drafting:2041, Hand Management:2040, Pat...\n",
       "100108    [Constrained Bidding:2922, Pattern Building:20...\n",
       "Name: mechanic, Length: 100109, dtype: object"
      ]
     },
     "execution_count": 50,
     "metadata": {},
     "output_type": "execute_result"
    }
   ],
   "source": [
    "df['mechanic']"
   ]
  },
  {
   "cell_type": "code",
   "execution_count": 9,
   "metadata": {},
   "outputs": [
    {
     "data": {
      "text/plain": [
       "0         [Economic:1021, Negotiation:1026, Political:1001]\n",
       "1                            [Card Game:1002, Fantasy:1010]\n",
       "2                   [Abstract Strategy:1009, Medieval:1035]\n",
       "3                                            [Ancient:1050]\n",
       "4                  [Economic:1021, Territory Building:1086]\n",
       "                                ...                        \n",
       "100104               [Educational:1094, Environmental:1084]\n",
       "100105                                     [Card Game:1002]\n",
       "100106                            [Action / Dexterity:1032]\n",
       "100107                                        [Travel:1097]\n",
       "100108                [Abstract Strategy:1009, Number:1098]\n",
       "Name: category, Length: 100109, dtype: object"
      ]
     },
     "execution_count": 9,
     "metadata": {},
     "output_type": "execute_result"
    }
   ],
   "source": [
    "df['category']"
   ]
  },
  {
   "cell_type": "code",
   "execution_count": 10,
   "metadata": {},
   "outputs": [
    {
     "data": {
      "text/plain": [
       "0         [Strategy Game:5497]\n",
       "1         [Strategy Game:5497]\n",
       "2         [Strategy Game:5497]\n",
       "3                          NaN\n",
       "4         [Strategy Game:5497]\n",
       "                  ...         \n",
       "100104                     NaN\n",
       "100105                     NaN\n",
       "100106                     NaN\n",
       "100107                     NaN\n",
       "100108                     NaN\n",
       "Name: game_type, Length: 100109, dtype: object"
      ]
     },
     "execution_count": 10,
     "metadata": {},
     "output_type": "execute_result"
    }
   ],
   "source": [
    "df['game_type']"
   ]
  },
  {
   "cell_type": "code",
   "execution_count": 51,
   "metadata": {},
   "outputs": [],
   "source": [
    "def to_1D(series):\n",
    " return pd.Series([x for _list in series for x in _list])\n",
    "\n",
    "df_mechanics = df.loc[df['mechanic'].notna()]\n",
    "mechanics = to_1D(df_mechanics['mechanic']).value_counts()\n",
    "df_categories = df.loc[df['category'].notna()]\n",
    "categories = to_1D(df_categories['category']).value_counts()\n",
    "df_types = df.loc[df['game_type'].notna()]\n",
    "types = to_1D(df_types['game_type']).value_counts()\n",
    "df_designers = df.loc[df['designer'].notna()]\n",
    "designers = to_1D(df_designers['designer']).value_counts()"
   ]
  },
  {
   "cell_type": "code",
   "execution_count": 12,
   "metadata": {},
   "outputs": [
    {
     "data": {
      "text/plain": [
       "15461"
      ]
     },
     "execution_count": 12,
     "metadata": {},
     "output_type": "execute_result"
    }
   ],
   "source": [
    "len(df.loc[df['mechanic'].isna()])"
   ]
  },
  {
   "cell_type": "code",
   "execution_count": 8,
   "metadata": {},
   "outputs": [
    {
     "name": "stdout",
     "output_type": "stream",
     "text": [
      "Dice Rolling:2072                                22531\n",
      "Roll / Spin and Move:2035                        15412\n",
      "Hand Management:2040                             12015\n",
      "Set Collection:2004                              11424\n",
      "Card Drafting:2041                                6641\n",
      "Hexagon Grid:2026                                 6344\n",
      "Simulation:2070                                   6280\n",
      "Variable Player Powers:2015                       5994\n",
      "Tile Placement:2002                               5394\n",
      "Cooperative Game:2023                             4905\n",
      "Memory:2047                                       4789\n",
      "Point to Point Movement:2078                      4279\n",
      "Grid Movement:2676                                4213\n",
      "Modular Board:2011                                3985\n",
      "Area Majority / Influence:2080                    3931\n",
      "Auction/Bidding:2012                              3905\n",
      "Trading:2008                                      3532\n",
      "Area Movement:2046                                3427\n",
      "Simultaneous Action Selection:2020                3422\n",
      "Player Elimination:2685                           3305\n",
      "Pattern Building:2048                             3068\n",
      "Action Points:2001                                3018\n",
      "Team-Based Game:2019                              2918\n",
      "Take That:2686                                    2914\n",
      "Pattern Recognition:2060                          2794\n",
      "Push Your Luck:2661                               2665\n",
      "Paper-and-Pencil:2055                             2309\n",
      "Role Playing:2028                                 2206\n",
      "Storytelling:2027                                 2161\n",
      "Deck, Bag, and Pool Building:2664                 2000\n",
      "Betting and Bluffing:2014                         1933\n",
      "Pick-up and Deliver:2007                          1870\n",
      "Trick-taking:2009                                 1709\n",
      "Worker Placement:2082                             1667\n",
      "Voting:2017                                       1623\n",
      "Acting:2073                                       1595\n",
      "Campaign / Battle Card Driven:2018                1568\n",
      "Solo / Solitaire Game:2819                        1505\n",
      "Secret Unit Deployment:2016                       1474\n",
      "Network and Route Building:2081                   1199\n",
      "Stock Holding:2005                                1089\n",
      "Action Queue:2689                                 1077\n",
      "Scenario / Mission / Campaign Game:2822            986\n",
      "Measurement Movement:2949                          886\n",
      "Movement Points:2947                               864\n",
      "Rock-Paper-Scissors:2003                           811\n",
      "Variable Phase Order:2079                          807\n",
      "Chit-Pull System:2057                              726\n",
      "Enclosure:2043                                     715\n",
      "Commodity Speculation:2013                         685\n",
      "Events:2850                                        639\n",
      "Variable Set-up:2897                               632\n",
      "Square Grid:2940                                   560\n",
      "Race:2876                                          530\n",
      "Line Drawing:2039                                  518\n",
      "Line of Sight:2975                                 498\n",
      "Zone of Control:2974                               474\n",
      "Ratio / Combat Results Table:2855                  444\n",
      "Time Track:2663                                    372\n",
      "Card Play Conflict Resolution:2857                 315\n",
      "End Game Bonuses:2875                              313\n",
      "Singing:2038                                       309\n",
      "Drafting:2984                                      299\n",
      "Real-Time:2831                                     295\n",
      "Income:2902                                        266\n",
      "Deduction:3002                                     256\n",
      "Action/Event:2840                                  251\n",
      "Area-Impulse:2021                                  249\n",
      "Track Movement:2939                                222\n",
      "Lose a Turn:2836                                   208\n",
      "Communication Limits:2893                          187\n",
      "Hidden Roles:2891                                  187\n",
      "Semi-Cooperative Game:2820                         186\n",
      "Matching:3007                                      165\n",
      "Negotiation:2915                                   153\n",
      "Hidden Movement:2967                               151\n",
      "Player Judge:2865                                  150\n",
      "Deck Construction:3004                             149\n",
      "Contracts:2912                                     149\n",
      "Traitor Game:2814                                  146\n",
      "Connections:2883                                   145\n",
      "Mancala:2955                                       142\n",
      "Market:2900                                        139\n",
      "Critical Hits and Failures:2854                    136\n",
      "Victory Points as a Resource:2874                  127\n",
      "Once-Per-Game Abilities:2846                       121\n",
      "Move Through Deck:2962                             120\n",
      "Turn Order: Progressive:2828                       118\n",
      "Flicking:2860                                      115\n",
      "Grid Coverage:2978                                 113\n",
      "Worker Placement, Different Worker Types:2933      106\n",
      "Stacking and Balancing:2988                        105\n",
      "Command Cards:2841                                 104\n",
      "Three Dimensional Movement:2944                    104\n",
      "Re-rolling and Locking:2870                        103\n",
      "Speed Matching:2991                                102\n",
      "Ladder Climbing:2980                               100\n",
      "Sudden Death Ending:2884                            99\n",
      "Alliances:2916                                      99\n",
      "Action Drafting:2838                                95\n",
      "dtype: int64\n"
     ]
    }
   ],
   "source": [
    "print(mechanics.head(100))"
   ]
  },
  {
   "cell_type": "code",
   "execution_count": 18,
   "metadata": {},
   "outputs": [
    {
     "data": {
      "image/png": "[encoded data removed]",
      "text/plain": [
       "<Figure size 842.4x595.44 with 1 Axes>"
      ]
     },
     "metadata": {},
     "output_type": "display_data"
    }
   ],
   "source": [
    "sns.barplot(x = mechanics[:100].index, y = mechanics[:100].values).set(xticklabels=[])\n",
    "pass"
   ]
  },
  {
   "cell_type": "code",
   "execution_count": 14,
   "metadata": {},
   "outputs": [
    {
     "data": {
      "text/plain": [
       "0"
      ]
     },
     "execution_count": 14,
     "metadata": {},
     "output_type": "execute_result"
    }
   ],
   "source": [
    "len(df.loc[df['category'].isna()])"
   ]
  },
  {
   "cell_type": "code",
   "execution_count": 39,
   "metadata": {},
   "outputs": [
    {
     "name": "stdout",
     "output_type": "stream",
     "text": [
      "0                   Economic:1021\n",
      "1                Negotiation:1026\n",
      "2                  Political:1001\n",
      "3                  Card Game:1002\n",
      "4                    Fantasy:1010\n",
      "5          Abstract Strategy:1009\n",
      "6                   Medieval:1035\n",
      "7                    Ancient:1050\n",
      "8                   Economic:1021\n",
      "9         Territory Building:1086\n",
      "10              Civilization:1015\n",
      "11                  Nautical:1008\n",
      "12         Abstract Strategy:1009\n",
      "13              Civilization:1015\n",
      "14                   Fantasy:1010\n",
      "15               Exploration:1020\n",
      "16                   Fantasy:1010\n",
      "17                    Travel:1097\n",
      "18                 Card Game:1002\n",
      "19                   Farming:1013\n",
      "20               Negotiation:1026\n",
      "21                   Ancient:1050\n",
      "22                 Mythology:1082\n",
      "23                  Economic:1021\n",
      "24               Negotiation:1026\n",
      "25               Negotiation:1026\n",
      "26                  Bluffing:1023\n",
      "27               Negotiation:1026\n",
      "28           Science Fiction:1016\n",
      "29                  Economic:1021\n",
      "30    Collectible Components:1044\n",
      "31                      Dice:1017\n",
      "32                  Fighting:1046\n",
      "33              Print & Play:1120\n",
      "34                      Maze:1059\n",
      "35                Miniatures:1047\n",
      "36                    Racing:1031\n",
      "37           Science Fiction:1016\n",
      "38             American West:1055\n",
      "39                  Bluffing:1023\n",
      "40             City Building:1029\n",
      "41                Miniatures:1047\n",
      "42           Science Fiction:1016\n",
      "43              Civilization:1015\n",
      "44               Exploration:1020\n",
      "45           Science Fiction:1016\n",
      "46                   Wargame:1019\n",
      "47                 Adventure:1022\n",
      "48               Exploration:1020\n",
      "49                   Fantasy:1010\n",
      "50                  Fighting:1046\n",
      "51                   Fantasy:1010\n",
      "52                 Political:1001\n",
      "53                   Wargame:1019\n",
      "54              Civilization:1015\n",
      "55               Negotiation:1026\n",
      "56                 Political:1001\n",
      "57           Science Fiction:1016\n",
      "58         Space Exploration:1113\n",
      "59                   Wargame:1019\n",
      "60               Exploration:1020\n",
      "61                   Fantasy:1010\n",
      "62                   Wargame:1019\n",
      "63              Civilization:1015\n",
      "64                  Economic:1021\n",
      "65                  Medieval:1035\n",
      "66               Renaissance:1070\n",
      "67                  Economic:1021\n",
      "68            Modern Warfare:1069\n",
      "69                 Political:1001\n",
      "70                   Wargame:1019\n",
      "71                 Card Game:1002\n",
      "72                     Humor:1079\n",
      "73               Negotiation:1026\n",
      "74                 Political:1001\n",
      "75           Science Fiction:1016\n",
      "76                  Fighting:1046\n",
      "77                     Humor:1079\n",
      "78                 Adventure:1022\n",
      "79                Electronic:1072\n",
      "80               Exploration:1020\n",
      "81                   Fantasy:1010\n",
      "82                  Fighting:1046\n",
      "83                 Adventure:1022\n",
      "84               Exploration:1020\n",
      "85                   Fantasy:1010\n",
      "86                  Fighting:1046\n",
      "87                Miniatures:1047\n",
      "88         Abstract Strategy:1009\n",
      "89             American West:1055\n",
      "90                 Adventure:1022\n",
      "91                    Horror:1024\n",
      "92               Novel-based:1093\n",
      "93           Science Fiction:1016\n",
      "94                   Wargame:1019\n",
      "95                   Fantasy:1010\n",
      "96                   Wargame:1019\n",
      "97                 Deduction:1039\n",
      "98                 Word Game:1025\n",
      "99                  Bluffing:1023\n",
      "dtype: object\n"
     ]
    }
   ],
   "source": [
    "print(categories.head(100))"
   ]
  },
  {
   "cell_type": "code",
   "execution_count": 22,
   "metadata": {},
   "outputs": [
    {
     "data": {
      "image/png": "[encoded data removed]",
      "text/plain": [
       "<Figure size 842.4x595.44 with 1 Axes>"
      ]
     },
     "metadata": {},
     "output_type": "display_data"
    }
   ],
   "source": [
    "sns.barplot(x = categories.index, y = categories.values).set(xticklabels=[])\n",
    "pass"
   ]
  },
  {
   "cell_type": "code",
   "execution_count": 23,
   "metadata": {},
   "outputs": [
    {
     "data": {
      "text/plain": [
       "78396"
      ]
     },
     "execution_count": 23,
     "metadata": {},
     "output_type": "execute_result"
    }
   ],
   "source": [
    "len(df.loc[df['game_type'].isna()])"
   ]
  },
  {
   "cell_type": "code",
   "execution_count": 24,
   "metadata": {},
   "outputs": [
    {
     "name": "stdout",
     "output_type": "stream",
     "text": [
      "War Game:4664           7855\n",
      "Abstract Game:4666      4601\n",
      "Children's Game:4665    4007\n",
      "Family Game:5499        2336\n",
      "Strategy Game:5497      2275\n",
      "Thematic:5496           1214\n",
      "Party Game:5498          625\n",
      "Customizable:4667        525\n",
      "Commodore 64:4420          1\n",
      "Amiga:4415                 1\n",
      "Atari ST:4976              1\n",
      "Arcade:4781                1\n",
      "dtype: int64\n"
     ]
    }
   ],
   "source": [
    "print(types.head(100))"
   ]
  },
  {
   "cell_type": "code",
   "execution_count": 25,
   "metadata": {},
   "outputs": [
    {
     "data": {
      "image/png": "[encoded data removed]",
      "text/plain": [
       "<Figure size 842.4x595.44 with 1 Axes>"
      ]
     },
     "metadata": {},
     "output_type": "display_data"
    }
   ],
   "source": [
    "sns.barplot(x = types.index, y = types.values).set(xticklabels=[])\n",
    "pass"
   ]
  },
  {
   "cell_type": "code",
   "execution_count": 16,
   "metadata": {},
   "outputs": [
    {
     "data": {
      "text/plain": [
       "0"
      ]
     },
     "execution_count": 16,
     "metadata": {},
     "output_type": "execute_result"
    }
   ],
   "source": [
    "len(df.loc[df['designer'].isna()])"
   ]
  },
  {
   "cell_type": "code",
   "execution_count": 15,
   "metadata": {},
   "outputs": [
    {
     "name": "stdout",
     "output_type": "stream",
     "text": [
      "(Uncredited):3                     18749\n",
      "Lloyd Krassner:810                   905\n",
      "Reiner Knizia:2                      582\n",
      "Charles Darrow:1268                  262\n",
      "Joseph Miranda:337                   238\n",
      "Wolfgang Kramer:7                    222\n",
      "Paul Rohrbaugh:812                   189\n",
      "James Ernest:61                      184\n",
      "Richard H. Berg:135                  164\n",
      "Heinz Meister:256                    164\n",
      "Perry Moore:1257                     143\n",
      "Ty Bomba:1747                        142\n",
      "Michael Rüttinger:581                136\n",
      "Sid Sackson:4                        132\n",
      "Garrett J. Donner:315                129\n",
      "Michael Schacht:86                   129\n",
      "Reinhold Wittig:94                   129\n",
      "Michael S. Steer:1050                128\n",
      "Kai Haferkamp:645                    126\n",
      "Markus Brand:6941                    124\n",
      "Inka Brand:6940                      124\n",
      "Alex Randolph:24                     122\n",
      "Jim Deacove:1121                     119\n",
      "Néstor Romeral Andrés:9393           117\n",
      "Jim Dunnigan:1081                    116\n",
      "Gary Graber:2831                     112\n",
      "Steve Jackson (I):22                 109\n",
      "Alfred Leonardi:591                  107\n",
      "Bruno Cathala:1727                   107\n",
      "Jonathan Leistiko:613                105\n",
      "Ed Teixeira:3471                     105\n",
      "Richard Hutnik:8933                  103\n",
      "Martin Wallace:6                     102\n",
      "Klaus Teuber:11                      100\n",
      "Andrew Looney:122                    100\n",
      "Bruno Faidutti:125                    97\n",
      "Roberto Chiavini:8869                 94\n",
      "Martin Nedergaard Andersen:9657       94\n",
      "Frank Chadwick:335                    93\n",
      "Reinhard Staupe:12                    93\n",
      "Kuro:53801                            90\n",
      "Dean Essig:406                        90\n",
      "Alan R. Moon:9                        90\n",
      "Günter Burkhardt:173                  90\n",
      "Wojciech Zalewski:6833                87\n",
      "Prospero Hall:102313                  86\n",
      "Forrest-Pruzan Creative:96212         85\n",
      "David Parlett:166                     84\n",
      "Eric M. Lang:1533                     84\n",
      "Roberto Fraga:285                     83\n",
      "Leo Colovini:138                      83\n",
      "Hajo Bücken:816                       83\n",
      "Mike Elliott:615                      82\n",
      "Wolfgang Dirscherl:3990               82\n",
      "Uwe Rosenberg:10                      81\n",
      "Bettina Cronquist:86946               79\n",
      "Terry Miller Associates:7092          78\n",
      "Friedemann Friese:141                 77\n",
      "Markus Nikisch:748                    76\n",
      "Ben Farella:28276                     73\n",
      "Gunter Baars:491                      73\n",
      "Todd Sanders:42166                    72\n",
      "John Clowdus:9580                     70\n",
      "Michael Bennighof:1269                70\n",
      "Frédéric Bey:1358                     69\n",
      "Cameron Browne:3541                   69\n",
      "Dan Verssen:428                       69\n",
      "Anja Wrede:3524                       69\n",
      "Rey Alicea:62677                      67\n",
      "Johann Rüttinger:233                  67\n",
      "Scott Almes:43431                     66\n",
      "Marvin Glass:3743                     66\n",
      "Manfred Ludwig:500                    66\n",
      "Francesco Berardi:34743               65\n",
      "Daniel Solis:5245                     65\n",
      "Rob Daviau:442                        65\n",
      "Predrag Lazovic:80163                 64\n",
      "Merle Robbins:1046                    64\n",
      "Marco Teubner:4884                    63\n",
      "Erik von Rossing:73461                62\n",
      "Robert G. Markham:2282                61\n",
      "Matt Fritz:11181                      61\n",
      "Michael Kiesling:42                   60\n",
      "Peggy Brown:10861                     59\n",
      "Yasushi Nakaguro:4043                 59\n",
      "Maureen Hiron:617                     58\n",
      "Mark Herman:152                       58\n",
      "Corné van Moorsel:124                 58\n",
      "Matt Hyra:774                         58\n",
      "Rick Priestley:39                     57\n",
      "Brian Train:1678                      57\n",
      "Spartaco Albertarelli:190             57\n",
      "Mike Selinker:604                     57\n",
      "Eric R. Harvey:3878                   57\n",
      "Urs Hostettler:172                    56\n",
      "Lou Coatney:1570                      56\n",
      "Klaus-Jürgen Wrede:398                56\n",
      "Rudi Hoffmann:154                     56\n",
      "Rüdiger Dorn:381                      55\n",
      "Stefan Dorra:13                       55\n",
      "dtype: int64\n"
     ]
    }
   ],
   "source": [
    "print(designers.head(100))"
   ]
  },
  {
   "cell_type": "code",
   "execution_count": null,
   "metadata": {},
   "outputs": [],
   "source": []
  }
 ],
 "metadata": {
  "kernelspec": {
   "display_name": "Python 3",
   "language": "python",
   "name": "python3"
  },
  "language_info": {
   "codemirror_mode": {
    "name": "ipython",
    "version": 3
   },
   "file_extension": ".py",
   "mimetype": "text/x-python",
   "name": "python",
   "nbconvert_exporter": "python",
   "pygments_lexer": "ipython3",
   "version": "3.8.10"
  }
 },
 "nbformat": 4,
 "nbformat_minor": 4
}
